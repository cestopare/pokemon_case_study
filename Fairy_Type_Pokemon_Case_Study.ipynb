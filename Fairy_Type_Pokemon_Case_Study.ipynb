{
 "cells":[
  {
   "cell_type":"markdown",
   "source":[
    "In this study, I will evaluate the effectiveness of Fairy-type Pokémon as a counter to Dragon-type Pokémon. With the introduction of Fairy-type Pokémon, Dragon-type Pokémon now have a type that they are vulnerable to. This study aims to determine the usefulness of Fairy-type Pokémon in battles against Dragon-type Pokémon. I will assess whether Fairy-types are stronger on their own, or if they are still dependent on other Pokémon types.\n",
    "\n",
    "To measure the effectiveness of Fairy-types, I will use the following metrics:\n",
    "\n",
    "- Type 1: Each Pokémon has a specific type that determines its weaknesses and resistances to different attacks.\n",
    "- Type 2: Some Pokémon have dual types.\n",
    "- Total: A summary of the Pokémon's overall strength, calculated as the sum of all its stats.\n",
    "- HP: A measurement of how much damage a Pokémon can endure before fainting.\n",
    "- Attack: The base modifier for normal attacks.\n",
    "- Defense: The base resistance to normal attacks.\n",
    "- SP Atk: The base modifier for special attacks.\n",
    "- SP Def: The base resistance to special attacks.\n",
    "- Speed: The determining factor for which Pokémon attacks first each round.\n",
    "\n",
    "The results of this study will assist Pokémon players in making informed decisions about whether to use a Fairy-type or Dragon-type Pokémon in battles against teams with a heavy presence of Dragon-types."
   ],
   "attachments":{
    
   },
   "metadata":{
    "datalore":{
     "node_id":"l3D8dylQl4KYtuJkdEd48p",
     "type":"MD",
     "hide_input_from_viewers":false,
     "hide_output_from_viewers":false,
     "report_properties":{
      "y":0
     }
    }
   }
  },
  {
   "cell_type":"markdown",
   "source":[
    "## Imports"
   ],
   "attachments":{
    
   },
   "metadata":{
    "datalore":{
     "node_id":"5l4AEyh2KUp0zQsT5C8vHa",
     "type":"MD",
     "hide_input_from_viewers":false,
     "hide_output_from_viewers":false,
     "report_properties":{
      "y":15
     }
    }
   }
  },
  {
   "cell_type":"code",
   "source":[
    "import pandas as pd\n",
    "import numpy as np\n",
    "import seaborn as sns\n",
    "import statsmodels\n",
    "import matplotlib.pyplot as plt\n",
    "import math\n",
    "import statistics\n",
    "import scipy.stats\n",
    "import squarify\n",
    "import plotly.express as px\n",
    "import plotly.graph_objects as go\n",
    "\n",
    "# Setting seaborn style.\n",
    "sns.set_style('darkgrid')\n",
    "sns.set(rc={'figure.figsize':(11.7,8.27)})\n",
    "sns.set_palette(\"colorblind\")"
   ],
   "execution_count":1,
   "outputs":[
    
   ],
   "metadata":{
    "datalore":{
     "node_id":"Mqkj6IZbC640vi1YrhVK0k",
     "type":"CODE",
     "hide_input_from_viewers":false,
     "hide_output_from_viewers":false,
     "report_properties":{
      "y":18
     }
    }
   }
  },
  {
   "cell_type":"markdown",
   "source":[
    "# Data Wrangling\n",
    "## Process\n",
    "1. Remove irrelevant data.\n",
    "2. Deduplicate the data.\n",
    "3. Fix structural errors.\n",
    "4. Deal with missing data.\n",
    "5. Filter out outliers.\n",
    "6. Validate the data."
   ],
   "attachments":{
    
   },
   "metadata":{
    "datalore":{
     "node_id":"FC6q8UlLnmYyh6pI7LtA5X",
     "type":"MD",
     "hide_input_from_viewers":false,
     "hide_output_from_viewers":false,
     "report_properties":{
      "y":28
     }
    }
   }
  },
  {
   "cell_type":"code",
   "source":[
    "# Reading in the data.\n",
    "all_pokemon = pd.read_csv('Pokemon.csv')"
   ],
   "execution_count":2,
   "outputs":[
    
   ],
   "metadata":{
    "datalore":{
     "node_id":"cS2Odsrmg5OFCdN3HQwl3o",
     "type":"CODE",
     "hide_input_from_viewers":false,
     "hide_output_from_viewers":false,
     "report_properties":{
      "y":37
     }
    }
   }
  },
  {
   "cell_type":"code",
   "source":[
    "# Viewing the data\n",
    "all_pokemon.head()"
   ],
   "execution_count":3,
   "outputs":[
    {
     "data":{
      "text\/html":[
       "<div>\n",
       "<style scoped>\n",
       "    .dataframe tbody tr th:only-of-type {\n",
       "        vertical-align: middle;\n",
       "    }\n",
       "\n",
       "    .dataframe tbody tr th {\n",
       "        vertical-align: top;\n",
       "    }\n",
       "\n",
       "    .dataframe thead th {\n",
       "        text-align: right;\n",
       "    }\n",
       "<\/style>\n",
       "<table border=\"1\" class=\"dataframe\">\n",
       "  <thead>\n",
       "    <tr style=\"text-align: right;\">\n",
       "      <th><\/th>\n",
       "      <th>#<\/th>\n",
       "      <th>Name<\/th>\n",
       "      <th>Type 1<\/th>\n",
       "      <th>Type 2<\/th>\n",
       "      <th>Total<\/th>\n",
       "      <th>HP<\/th>\n",
       "      <th>Attack<\/th>\n",
       "      <th>Defense<\/th>\n",
       "      <th>Sp. Atk<\/th>\n",
       "      <th>Sp. Def<\/th>\n",
       "      <th>Speed<\/th>\n",
       "      <th>Generation<\/th>\n",
       "      <th>Legendary<\/th>\n",
       "    <\/tr>\n",
       "  <\/thead>\n",
       "  <tbody>\n",
       "    <tr>\n",
       "      <th>0<\/th>\n",
       "      <td>1<\/td>\n",
       "      <td>Bulbasaur<\/td>\n",
       "      <td>Grass<\/td>\n",
       "      <td>Poison<\/td>\n",
       "      <td>318<\/td>\n",
       "      <td>45<\/td>\n",
       "      <td>49<\/td>\n",
       "      <td>49<\/td>\n",
       "      <td>65<\/td>\n",
       "      <td>65<\/td>\n",
       "      <td>45<\/td>\n",
       "      <td>1<\/td>\n",
       "      <td>False<\/td>\n",
       "    <\/tr>\n",
       "    <tr>\n",
       "      <th>1<\/th>\n",
       "      <td>2<\/td>\n",
       "      <td>Ivysaur<\/td>\n",
       "      <td>Grass<\/td>\n",
       "      <td>Poison<\/td>\n",
       "      <td>405<\/td>\n",
       "      <td>60<\/td>\n",
       "      <td>62<\/td>\n",
       "      <td>63<\/td>\n",
       "      <td>80<\/td>\n",
       "      <td>80<\/td>\n",
       "      <td>60<\/td>\n",
       "      <td>1<\/td>\n",
       "      <td>False<\/td>\n",
       "    <\/tr>\n",
       "    <tr>\n",
       "      <th>2<\/th>\n",
       "      <td>3<\/td>\n",
       "      <td>Venusaur<\/td>\n",
       "      <td>Grass<\/td>\n",
       "      <td>Poison<\/td>\n",
       "      <td>525<\/td>\n",
       "      <td>80<\/td>\n",
       "      <td>82<\/td>\n",
       "      <td>83<\/td>\n",
       "      <td>100<\/td>\n",
       "      <td>100<\/td>\n",
       "      <td>80<\/td>\n",
       "      <td>1<\/td>\n",
       "      <td>False<\/td>\n",
       "    <\/tr>\n",
       "    <tr>\n",
       "      <th>3<\/th>\n",
       "      <td>3<\/td>\n",
       "      <td>VenusaurMega Venusaur<\/td>\n",
       "      <td>Grass<\/td>\n",
       "      <td>Poison<\/td>\n",
       "      <td>625<\/td>\n",
       "      <td>80<\/td>\n",
       "      <td>100<\/td>\n",
       "      <td>123<\/td>\n",
       "      <td>122<\/td>\n",
       "      <td>120<\/td>\n",
       "      <td>80<\/td>\n",
       "      <td>1<\/td>\n",
       "      <td>False<\/td>\n",
       "    <\/tr>\n",
       "    <tr>\n",
       "      <th>4<\/th>\n",
       "      <td>4<\/td>\n",
       "      <td>Charmander<\/td>\n",
       "      <td>Fire<\/td>\n",
       "      <td>NaN<\/td>\n",
       "      <td>309<\/td>\n",
       "      <td>39<\/td>\n",
       "      <td>52<\/td>\n",
       "      <td>43<\/td>\n",
       "      <td>60<\/td>\n",
       "      <td>50<\/td>\n",
       "      <td>65<\/td>\n",
       "      <td>1<\/td>\n",
       "      <td>False<\/td>\n",
       "    <\/tr>\n",
       "  <\/tbody>\n",
       "<\/table>\n",
       "<\/div>"
      ]
     },
     "metadata":{
      
     },
     "output_type":"display_data"
    }
   ],
   "metadata":{
    "datalore":{
     "node_id":"7yYudB68PRcwsmZxd9RVSz",
     "type":"CODE",
     "hide_input_from_viewers":false,
     "hide_output_from_viewers":false,
     "report_properties":{
      "y":41
     }
    }
   }
  },
  {
   "cell_type":"code",
   "source":[
    "# Irrelevant columns to drop: Generation and Legendary\n",
    "pokemon = all_pokemon.drop(['Legendary','Generation'], axis=1)"
   ],
   "execution_count":4,
   "outputs":[
    
   ],
   "metadata":{
    "datalore":{
     "node_id":"EI8AtMNMN0dyRUKkCo6j0w",
     "type":"CODE",
     "hide_input_from_viewers":false,
     "hide_output_from_viewers":false,
     "report_properties":{
      "y":50
     }
    }
   }
  },
  {
   "cell_type":"code",
   "source":[
    "# Viewing new dataframe\n",
    "pokemon.head()"
   ],
   "execution_count":5,
   "outputs":[
    {
     "data":{
      "text\/html":[
       "<div>\n",
       "<style scoped>\n",
       "    .dataframe tbody tr th:only-of-type {\n",
       "        vertical-align: middle;\n",
       "    }\n",
       "\n",
       "    .dataframe tbody tr th {\n",
       "        vertical-align: top;\n",
       "    }\n",
       "\n",
       "    .dataframe thead th {\n",
       "        text-align: right;\n",
       "    }\n",
       "<\/style>\n",
       "<table border=\"1\" class=\"dataframe\">\n",
       "  <thead>\n",
       "    <tr style=\"text-align: right;\">\n",
       "      <th><\/th>\n",
       "      <th>#<\/th>\n",
       "      <th>Name<\/th>\n",
       "      <th>Type 1<\/th>\n",
       "      <th>Type 2<\/th>\n",
       "      <th>Total<\/th>\n",
       "      <th>HP<\/th>\n",
       "      <th>Attack<\/th>\n",
       "      <th>Defense<\/th>\n",
       "      <th>Sp. Atk<\/th>\n",
       "      <th>Sp. Def<\/th>\n",
       "      <th>Speed<\/th>\n",
       "    <\/tr>\n",
       "  <\/thead>\n",
       "  <tbody>\n",
       "    <tr>\n",
       "      <th>0<\/th>\n",
       "      <td>1<\/td>\n",
       "      <td>Bulbasaur<\/td>\n",
       "      <td>Grass<\/td>\n",
       "      <td>Poison<\/td>\n",
       "      <td>318<\/td>\n",
       "      <td>45<\/td>\n",
       "      <td>49<\/td>\n",
       "      <td>49<\/td>\n",
       "      <td>65<\/td>\n",
       "      <td>65<\/td>\n",
       "      <td>45<\/td>\n",
       "    <\/tr>\n",
       "    <tr>\n",
       "      <th>1<\/th>\n",
       "      <td>2<\/td>\n",
       "      <td>Ivysaur<\/td>\n",
       "      <td>Grass<\/td>\n",
       "      <td>Poison<\/td>\n",
       "      <td>405<\/td>\n",
       "      <td>60<\/td>\n",
       "      <td>62<\/td>\n",
       "      <td>63<\/td>\n",
       "      <td>80<\/td>\n",
       "      <td>80<\/td>\n",
       "      <td>60<\/td>\n",
       "    <\/tr>\n",
       "    <tr>\n",
       "      <th>2<\/th>\n",
       "      <td>3<\/td>\n",
       "      <td>Venusaur<\/td>\n",
       "      <td>Grass<\/td>\n",
       "      <td>Poison<\/td>\n",
       "      <td>525<\/td>\n",
       "      <td>80<\/td>\n",
       "      <td>82<\/td>\n",
       "      <td>83<\/td>\n",
       "      <td>100<\/td>\n",
       "      <td>100<\/td>\n",
       "      <td>80<\/td>\n",
       "    <\/tr>\n",
       "    <tr>\n",
       "      <th>3<\/th>\n",
       "      <td>3<\/td>\n",
       "      <td>VenusaurMega Venusaur<\/td>\n",
       "      <td>Grass<\/td>\n",
       "      <td>Poison<\/td>\n",
       "      <td>625<\/td>\n",
       "      <td>80<\/td>\n",
       "      <td>100<\/td>\n",
       "      <td>123<\/td>\n",
       "      <td>122<\/td>\n",
       "      <td>120<\/td>\n",
       "      <td>80<\/td>\n",
       "    <\/tr>\n",
       "    <tr>\n",
       "      <th>4<\/th>\n",
       "      <td>4<\/td>\n",
       "      <td>Charmander<\/td>\n",
       "      <td>Fire<\/td>\n",
       "      <td>NaN<\/td>\n",
       "      <td>309<\/td>\n",
       "      <td>39<\/td>\n",
       "      <td>52<\/td>\n",
       "      <td>43<\/td>\n",
       "      <td>60<\/td>\n",
       "      <td>50<\/td>\n",
       "      <td>65<\/td>\n",
       "    <\/tr>\n",
       "  <\/tbody>\n",
       "<\/table>\n",
       "<\/div>"
      ]
     },
     "metadata":{
      
     },
     "output_type":"display_data"
    }
   ],
   "metadata":{
    "datalore":{
     "node_id":"uO6et9jtDbOigEfPTIrXeo",
     "type":"CODE",
     "hide_input_from_viewers":false,
     "hide_output_from_viewers":false,
     "report_properties":{
      "y":54
     }
    }
   }
  },
  {
   "cell_type":"code",
   "source":[
    "# 50 dragon types\n",
    "# 40 fairy types\n",
    "# 1 dragon-fairy type\n",
    "pokemon[(pokemon['Type 1'] == 'Fairy') | (pokemon['Type 2'] == 'Fairy')].count()\n",
    "pokemon[(pokemon['Type 1'] == 'Dragon') & (pokemon['Type 2'] == 'Fairy')]"
   ],
   "execution_count":6,
   "outputs":[
    {
     "data":{
      "text\/html":[
       "<div>\n",
       "<style scoped>\n",
       "    .dataframe tbody tr th:only-of-type {\n",
       "        vertical-align: middle;\n",
       "    }\n",
       "\n",
       "    .dataframe tbody tr th {\n",
       "        vertical-align: top;\n",
       "    }\n",
       "\n",
       "    .dataframe thead th {\n",
       "        text-align: right;\n",
       "    }\n",
       "<\/style>\n",
       "<table border=\"1\" class=\"dataframe\">\n",
       "  <thead>\n",
       "    <tr style=\"text-align: right;\">\n",
       "      <th><\/th>\n",
       "      <th>#<\/th>\n",
       "      <th>Name<\/th>\n",
       "      <th>Type 1<\/th>\n",
       "      <th>Type 2<\/th>\n",
       "      <th>Total<\/th>\n",
       "      <th>HP<\/th>\n",
       "      <th>Attack<\/th>\n",
       "      <th>Defense<\/th>\n",
       "      <th>Sp. Atk<\/th>\n",
       "      <th>Sp. Def<\/th>\n",
       "      <th>Speed<\/th>\n",
       "    <\/tr>\n",
       "  <\/thead>\n",
       "  <tbody>\n",
       "    <tr>\n",
       "      <th>366<\/th>\n",
       "      <td>334<\/td>\n",
       "      <td>AltariaMega Altaria<\/td>\n",
       "      <td>Dragon<\/td>\n",
       "      <td>Fairy<\/td>\n",
       "      <td>590<\/td>\n",
       "      <td>75<\/td>\n",
       "      <td>110<\/td>\n",
       "      <td>110<\/td>\n",
       "      <td>110<\/td>\n",
       "      <td>105<\/td>\n",
       "      <td>80<\/td>\n",
       "    <\/tr>\n",
       "  <\/tbody>\n",
       "<\/table>\n",
       "<\/div>"
      ]
     },
     "metadata":{
      
     },
     "output_type":"display_data"
    }
   ],
   "metadata":{
    "datalore":{
     "node_id":"iu8dbh4hakvZsIMHQQPOU6",
     "type":"CODE",
     "hide_input_from_viewers":false,
     "hide_output_from_viewers":false,
     "report_properties":{
      "y":63
     }
    }
   }
  },
  {
   "cell_type":"code",
   "source":[
    "# Remove pokemon that aren't dragon or fairy type in either type categories.\n",
    "# If type 1 or type 2 is not Dragon or Fairy, remove it from the pokemon dataframe.\n",
    "dragon_fairy_pokemon = pokemon[(pokemon['Type 1'] == 'Dragon') | (pokemon['Type 2'] == 'Dragon') | \n",
    "        (pokemon['Type 1'] == 'Fairy') | (pokemon['Type 2'] == 'Fairy')]\n",
    "\n",
    "dragon_fairy_pokemon"
   ],
   "execution_count":7,
   "outputs":[
    {
     "data":{
      "text\/html":[
       "<div>\n",
       "<style scoped>\n",
       "    .dataframe tbody tr th:only-of-type {\n",
       "        vertical-align: middle;\n",
       "    }\n",
       "\n",
       "    .dataframe tbody tr th {\n",
       "        vertical-align: top;\n",
       "    }\n",
       "\n",
       "    .dataframe thead th {\n",
       "        text-align: right;\n",
       "    }\n",
       "<\/style>\n",
       "<table border=\"1\" class=\"dataframe\">\n",
       "  <thead>\n",
       "    <tr style=\"text-align: right;\">\n",
       "      <th><\/th>\n",
       "      <th>#<\/th>\n",
       "      <th>Name<\/th>\n",
       "      <th>Type 1<\/th>\n",
       "      <th>Type 2<\/th>\n",
       "      <th>Total<\/th>\n",
       "      <th>HP<\/th>\n",
       "      <th>Attack<\/th>\n",
       "      <th>Defense<\/th>\n",
       "      <th>Sp. Atk<\/th>\n",
       "      <th>Sp. Def<\/th>\n",
       "      <th>Speed<\/th>\n",
       "    <\/tr>\n",
       "  <\/thead>\n",
       "  <tbody>\n",
       "    <tr>\n",
       "      <th>7<\/th>\n",
       "      <td>6<\/td>\n",
       "      <td>CharizardMega Charizard X<\/td>\n",
       "      <td>Fire<\/td>\n",
       "      <td>Dragon<\/td>\n",
       "      <td>634<\/td>\n",
       "      <td>78<\/td>\n",
       "      <td>130<\/td>\n",
       "      <td>111<\/td>\n",
       "      <td>130<\/td>\n",
       "      <td>85<\/td>\n",
       "      <td>100<\/td>\n",
       "    <\/tr>\n",
       "    <tr>\n",
       "      <th>40<\/th>\n",
       "      <td>35<\/td>\n",
       "      <td>Clefairy<\/td>\n",
       "      <td>Fairy<\/td>\n",
       "      <td>NaN<\/td>\n",
       "      <td>323<\/td>\n",
       "      <td>70<\/td>\n",
       "      <td>45<\/td>\n",
       "      <td>48<\/td>\n",
       "      <td>60<\/td>\n",
       "      <td>65<\/td>\n",
       "      <td>35<\/td>\n",
       "    <\/tr>\n",
       "    <tr>\n",
       "      <th>41<\/th>\n",
       "      <td>36<\/td>\n",
       "      <td>Clefable<\/td>\n",
       "      <td>Fairy<\/td>\n",
       "      <td>NaN<\/td>\n",
       "      <td>483<\/td>\n",
       "      <td>95<\/td>\n",
       "      <td>70<\/td>\n",
       "      <td>73<\/td>\n",
       "      <td>95<\/td>\n",
       "      <td>90<\/td>\n",
       "      <td>60<\/td>\n",
       "    <\/tr>\n",
       "    <tr>\n",
       "      <th>44<\/th>\n",
       "      <td>39<\/td>\n",
       "      <td>Jigglypuff<\/td>\n",
       "      <td>Normal<\/td>\n",
       "      <td>Fairy<\/td>\n",
       "      <td>270<\/td>\n",
       "      <td>115<\/td>\n",
       "      <td>45<\/td>\n",
       "      <td>20<\/td>\n",
       "      <td>45<\/td>\n",
       "      <td>25<\/td>\n",
       "      <td>20<\/td>\n",
       "    <\/tr>\n",
       "    <tr>\n",
       "      <th>45<\/th>\n",
       "      <td>40<\/td>\n",
       "      <td>Wigglytuff<\/td>\n",
       "      <td>Normal<\/td>\n",
       "      <td>Fairy<\/td>\n",
       "      <td>435<\/td>\n",
       "      <td>140<\/td>\n",
       "      <td>70<\/td>\n",
       "      <td>45<\/td>\n",
       "      <td>85<\/td>\n",
       "      <td>50<\/td>\n",
       "      <td>45<\/td>\n",
       "    <\/tr>\n",
       "    <tr>\n",
       "      <th>...<\/th>\n",
       "      <td>...<\/td>\n",
       "      <td>...<\/td>\n",
       "      <td>...<\/td>\n",
       "      <td>...<\/td>\n",
       "      <td>...<\/td>\n",
       "      <td>...<\/td>\n",
       "      <td>...<\/td>\n",
       "      <td>...<\/td>\n",
       "      <td>...<\/td>\n",
       "      <td>...<\/td>\n",
       "      <td>...<\/td>\n",
       "    <\/tr>\n",
       "    <tr>\n",
       "      <th>791<\/th>\n",
       "      <td>715<\/td>\n",
       "      <td>Noivern<\/td>\n",
       "      <td>Flying<\/td>\n",
       "      <td>Dragon<\/td>\n",
       "      <td>535<\/td>\n",
       "      <td>85<\/td>\n",
       "      <td>70<\/td>\n",
       "      <td>80<\/td>\n",
       "      <td>97<\/td>\n",
       "      <td>80<\/td>\n",
       "      <td>123<\/td>\n",
       "    <\/tr>\n",
       "    <tr>\n",
       "      <th>792<\/th>\n",
       "      <td>716<\/td>\n",
       "      <td>Xerneas<\/td>\n",
       "      <td>Fairy<\/td>\n",
       "      <td>NaN<\/td>\n",
       "      <td>680<\/td>\n",
       "      <td>126<\/td>\n",
       "      <td>131<\/td>\n",
       "      <td>95<\/td>\n",
       "      <td>131<\/td>\n",
       "      <td>98<\/td>\n",
       "      <td>99<\/td>\n",
       "    <\/tr>\n",
       "    <tr>\n",
       "      <th>794<\/th>\n",
       "      <td>718<\/td>\n",
       "      <td>Zygarde50% Forme<\/td>\n",
       "      <td>Dragon<\/td>\n",
       "      <td>Ground<\/td>\n",
       "      <td>600<\/td>\n",
       "      <td>108<\/td>\n",
       "      <td>100<\/td>\n",
       "      <td>121<\/td>\n",
       "      <td>81<\/td>\n",
       "      <td>95<\/td>\n",
       "      <td>95<\/td>\n",
       "    <\/tr>\n",
       "    <tr>\n",
       "      <th>795<\/th>\n",
       "      <td>719<\/td>\n",
       "      <td>Diancie<\/td>\n",
       "      <td>Rock<\/td>\n",
       "      <td>Fairy<\/td>\n",
       "      <td>600<\/td>\n",
       "      <td>50<\/td>\n",
       "      <td>100<\/td>\n",
       "      <td>150<\/td>\n",
       "      <td>100<\/td>\n",
       "      <td>150<\/td>\n",
       "      <td>50<\/td>\n",
       "    <\/tr>\n",
       "    <tr>\n",
       "      <th>796<\/th>\n",
       "      <td>719<\/td>\n",
       "      <td>DiancieMega Diancie<\/td>\n",
       "      <td>Rock<\/td>\n",
       "      <td>Fairy<\/td>\n",
       "      <td>700<\/td>\n",
       "      <td>50<\/td>\n",
       "      <td>160<\/td>\n",
       "      <td>110<\/td>\n",
       "      <td>160<\/td>\n",
       "      <td>110<\/td>\n",
       "      <td>110<\/td>\n",
       "    <\/tr>\n",
       "  <\/tbody>\n",
       "<\/table>\n",
       "<p>89 rows × 11 columns<\/p>\n",
       "<\/div>"
      ]
     },
     "metadata":{
      
     },
     "output_type":"display_data"
    }
   ],
   "metadata":{
    "datalore":{
     "node_id":"KfHGExX9PV2gVgfvLf1nSU",
     "type":"CODE",
     "hide_input_from_viewers":false,
     "hide_output_from_viewers":false,
     "report_properties":{
      "y":70
     }
    }
   }
  },
  {
   "cell_type":"code",
   "source":[
    "# Search for duplicates\n",
    "duplicates = dragon_fairy_pokemon[dragon_fairy_pokemon.duplicated()]\n",
    "duplicates"
   ],
   "execution_count":8,
   "outputs":[
    {
     "data":{
      "text\/html":[
       "<div>\n",
       "<style scoped>\n",
       "    .dataframe tbody tr th:only-of-type {\n",
       "        vertical-align: middle;\n",
       "    }\n",
       "\n",
       "    .dataframe tbody tr th {\n",
       "        vertical-align: top;\n",
       "    }\n",
       "\n",
       "    .dataframe thead th {\n",
       "        text-align: right;\n",
       "    }\n",
       "<\/style>\n",
       "<table border=\"1\" class=\"dataframe\">\n",
       "  <thead>\n",
       "    <tr style=\"text-align: right;\">\n",
       "      <th><\/th>\n",
       "      <th>#<\/th>\n",
       "      <th>Name<\/th>\n",
       "      <th>Type 1<\/th>\n",
       "      <th>Type 2<\/th>\n",
       "      <th>Total<\/th>\n",
       "      <th>HP<\/th>\n",
       "      <th>Attack<\/th>\n",
       "      <th>Defense<\/th>\n",
       "      <th>Sp. Atk<\/th>\n",
       "      <th>Sp. Def<\/th>\n",
       "      <th>Speed<\/th>\n",
       "    <\/tr>\n",
       "  <\/thead>\n",
       "  <tbody>\n",
       "  <\/tbody>\n",
       "<\/table>\n",
       "<\/div>"
      ]
     },
     "metadata":{
      
     },
     "output_type":"display_data"
    }
   ],
   "metadata":{
    "datalore":{
     "node_id":"xDcKpFfM4vtJNHFgOPrNDE",
     "type":"CODE",
     "hide_input_from_viewers":false,
     "hide_output_from_viewers":false,
     "report_properties":{
      "y":86
     }
    }
   }
  },
  {
   "cell_type":"code",
   "source":[
    "# Fixing structural errors\n",
    "dragon_fairy_pokemon"
   ],
   "execution_count":9,
   "outputs":[
    {
     "data":{
      "text\/html":[
       "<div>\n",
       "<style scoped>\n",
       "    .dataframe tbody tr th:only-of-type {\n",
       "        vertical-align: middle;\n",
       "    }\n",
       "\n",
       "    .dataframe tbody tr th {\n",
       "        vertical-align: top;\n",
       "    }\n",
       "\n",
       "    .dataframe thead th {\n",
       "        text-align: right;\n",
       "    }\n",
       "<\/style>\n",
       "<table border=\"1\" class=\"dataframe\">\n",
       "  <thead>\n",
       "    <tr style=\"text-align: right;\">\n",
       "      <th><\/th>\n",
       "      <th>#<\/th>\n",
       "      <th>Name<\/th>\n",
       "      <th>Type 1<\/th>\n",
       "      <th>Type 2<\/th>\n",
       "      <th>Total<\/th>\n",
       "      <th>HP<\/th>\n",
       "      <th>Attack<\/th>\n",
       "      <th>Defense<\/th>\n",
       "      <th>Sp. Atk<\/th>\n",
       "      <th>Sp. Def<\/th>\n",
       "      <th>Speed<\/th>\n",
       "    <\/tr>\n",
       "  <\/thead>\n",
       "  <tbody>\n",
       "    <tr>\n",
       "      <th>7<\/th>\n",
       "      <td>6<\/td>\n",
       "      <td>CharizardMega Charizard X<\/td>\n",
       "      <td>Fire<\/td>\n",
       "      <td>Dragon<\/td>\n",
       "      <td>634<\/td>\n",
       "      <td>78<\/td>\n",
       "      <td>130<\/td>\n",
       "      <td>111<\/td>\n",
       "      <td>130<\/td>\n",
       "      <td>85<\/td>\n",
       "      <td>100<\/td>\n",
       "    <\/tr>\n",
       "    <tr>\n",
       "      <th>40<\/th>\n",
       "      <td>35<\/td>\n",
       "      <td>Clefairy<\/td>\n",
       "      <td>Fairy<\/td>\n",
       "      <td>NaN<\/td>\n",
       "      <td>323<\/td>\n",
       "      <td>70<\/td>\n",
       "      <td>45<\/td>\n",
       "      <td>48<\/td>\n",
       "      <td>60<\/td>\n",
       "      <td>65<\/td>\n",
       "      <td>35<\/td>\n",
       "    <\/tr>\n",
       "    <tr>\n",
       "      <th>41<\/th>\n",
       "      <td>36<\/td>\n",
       "      <td>Clefable<\/td>\n",
       "      <td>Fairy<\/td>\n",
       "      <td>NaN<\/td>\n",
       "      <td>483<\/td>\n",
       "      <td>95<\/td>\n",
       "      <td>70<\/td>\n",
       "      <td>73<\/td>\n",
       "      <td>95<\/td>\n",
       "      <td>90<\/td>\n",
       "      <td>60<\/td>\n",
       "    <\/tr>\n",
       "    <tr>\n",
       "      <th>44<\/th>\n",
       "      <td>39<\/td>\n",
       "      <td>Jigglypuff<\/td>\n",
       "      <td>Normal<\/td>\n",
       "      <td>Fairy<\/td>\n",
       "      <td>270<\/td>\n",
       "      <td>115<\/td>\n",
       "      <td>45<\/td>\n",
       "      <td>20<\/td>\n",
       "      <td>45<\/td>\n",
       "      <td>25<\/td>\n",
       "      <td>20<\/td>\n",
       "    <\/tr>\n",
       "    <tr>\n",
       "      <th>45<\/th>\n",
       "      <td>40<\/td>\n",
       "      <td>Wigglytuff<\/td>\n",
       "      <td>Normal<\/td>\n",
       "      <td>Fairy<\/td>\n",
       "      <td>435<\/td>\n",
       "      <td>140<\/td>\n",
       "      <td>70<\/td>\n",
       "      <td>45<\/td>\n",
       "      <td>85<\/td>\n",
       "      <td>50<\/td>\n",
       "      <td>45<\/td>\n",
       "    <\/tr>\n",
       "    <tr>\n",
       "      <th>...<\/th>\n",
       "      <td>...<\/td>\n",
       "      <td>...<\/td>\n",
       "      <td>...<\/td>\n",
       "      <td>...<\/td>\n",
       "      <td>...<\/td>\n",
       "      <td>...<\/td>\n",
       "      <td>...<\/td>\n",
       "      <td>...<\/td>\n",
       "      <td>...<\/td>\n",
       "      <td>...<\/td>\n",
       "      <td>...<\/td>\n",
       "    <\/tr>\n",
       "    <tr>\n",
       "      <th>791<\/th>\n",
       "      <td>715<\/td>\n",
       "      <td>Noivern<\/td>\n",
       "      <td>Flying<\/td>\n",
       "      <td>Dragon<\/td>\n",
       "      <td>535<\/td>\n",
       "      <td>85<\/td>\n",
       "      <td>70<\/td>\n",
       "      <td>80<\/td>\n",
       "      <td>97<\/td>\n",
       "      <td>80<\/td>\n",
       "      <td>123<\/td>\n",
       "    <\/tr>\n",
       "    <tr>\n",
       "      <th>792<\/th>\n",
       "      <td>716<\/td>\n",
       "      <td>Xerneas<\/td>\n",
       "      <td>Fairy<\/td>\n",
       "      <td>NaN<\/td>\n",
       "      <td>680<\/td>\n",
       "      <td>126<\/td>\n",
       "      <td>131<\/td>\n",
       "      <td>95<\/td>\n",
       "      <td>131<\/td>\n",
       "      <td>98<\/td>\n",
       "      <td>99<\/td>\n",
       "    <\/tr>\n",
       "    <tr>\n",
       "      <th>794<\/th>\n",
       "      <td>718<\/td>\n",
       "      <td>Zygarde50% Forme<\/td>\n",
       "      <td>Dragon<\/td>\n",
       "      <td>Ground<\/td>\n",
       "      <td>600<\/td>\n",
       "      <td>108<\/td>\n",
       "      <td>100<\/td>\n",
       "      <td>121<\/td>\n",
       "      <td>81<\/td>\n",
       "      <td>95<\/td>\n",
       "      <td>95<\/td>\n",
       "    <\/tr>\n",
       "    <tr>\n",
       "      <th>795<\/th>\n",
       "      <td>719<\/td>\n",
       "      <td>Diancie<\/td>\n",
       "      <td>Rock<\/td>\n",
       "      <td>Fairy<\/td>\n",
       "      <td>600<\/td>\n",
       "      <td>50<\/td>\n",
       "      <td>100<\/td>\n",
       "      <td>150<\/td>\n",
       "      <td>100<\/td>\n",
       "      <td>150<\/td>\n",
       "      <td>50<\/td>\n",
       "    <\/tr>\n",
       "    <tr>\n",
       "      <th>796<\/th>\n",
       "      <td>719<\/td>\n",
       "      <td>DiancieMega Diancie<\/td>\n",
       "      <td>Rock<\/td>\n",
       "      <td>Fairy<\/td>\n",
       "      <td>700<\/td>\n",
       "      <td>50<\/td>\n",
       "      <td>160<\/td>\n",
       "      <td>110<\/td>\n",
       "      <td>160<\/td>\n",
       "      <td>110<\/td>\n",
       "      <td>110<\/td>\n",
       "    <\/tr>\n",
       "  <\/tbody>\n",
       "<\/table>\n",
       "<p>89 rows × 11 columns<\/p>\n",
       "<\/div>"
      ]
     },
     "metadata":{
      
     },
     "output_type":"display_data"
    }
   ],
   "metadata":{
    "datalore":{
     "node_id":"Pp2ml3VpHAikr4UOmNf5EN",
     "type":"CODE",
     "hide_input_from_viewers":false,
     "hide_output_from_viewers":false,
     "report_properties":{
      "y":92
     }
    }
   }
  },
  {
   "cell_type":"code",
   "source":[
    "# Filter out mega pokemon\n",
    "discard = ['Mega']\n",
    "dragon_fairy_pokemon = dragon_fairy_pokemon[~dragon_fairy_pokemon['Name'].str.contains('|'.join(discard))]"
   ],
   "execution_count":10,
   "outputs":[
    
   ],
   "metadata":{
    "datalore":{
     "node_id":"CNqVpruYdyxLF4CEyVRr87",
     "type":"CODE",
     "hide_input_from_viewers":false,
     "hide_output_from_viewers":false,
     "report_properties":{
      "y":106
     }
    }
   }
  },
  {
   "cell_type":"code",
   "source":[
    "dragon_fairy_pokemon"
   ],
   "execution_count":11,
   "outputs":[
    {
     "data":{
      "text\/html":[
       "<div>\n",
       "<style scoped>\n",
       "    .dataframe tbody tr th:only-of-type {\n",
       "        vertical-align: middle;\n",
       "    }\n",
       "\n",
       "    .dataframe tbody tr th {\n",
       "        vertical-align: top;\n",
       "    }\n",
       "\n",
       "    .dataframe thead th {\n",
       "        text-align: right;\n",
       "    }\n",
       "<\/style>\n",
       "<table border=\"1\" class=\"dataframe\">\n",
       "  <thead>\n",
       "    <tr style=\"text-align: right;\">\n",
       "      <th><\/th>\n",
       "      <th>#<\/th>\n",
       "      <th>Name<\/th>\n",
       "      <th>Type 1<\/th>\n",
       "      <th>Type 2<\/th>\n",
       "      <th>Total<\/th>\n",
       "      <th>HP<\/th>\n",
       "      <th>Attack<\/th>\n",
       "      <th>Defense<\/th>\n",
       "      <th>Sp. Atk<\/th>\n",
       "      <th>Sp. Def<\/th>\n",
       "      <th>Speed<\/th>\n",
       "    <\/tr>\n",
       "  <\/thead>\n",
       "  <tbody>\n",
       "    <tr>\n",
       "      <th>40<\/th>\n",
       "      <td>35<\/td>\n",
       "      <td>Clefairy<\/td>\n",
       "      <td>Fairy<\/td>\n",
       "      <td>NaN<\/td>\n",
       "      <td>323<\/td>\n",
       "      <td>70<\/td>\n",
       "      <td>45<\/td>\n",
       "      <td>48<\/td>\n",
       "      <td>60<\/td>\n",
       "      <td>65<\/td>\n",
       "      <td>35<\/td>\n",
       "    <\/tr>\n",
       "    <tr>\n",
       "      <th>41<\/th>\n",
       "      <td>36<\/td>\n",
       "      <td>Clefable<\/td>\n",
       "      <td>Fairy<\/td>\n",
       "      <td>NaN<\/td>\n",
       "      <td>483<\/td>\n",
       "      <td>95<\/td>\n",
       "      <td>70<\/td>\n",
       "      <td>73<\/td>\n",
       "      <td>95<\/td>\n",
       "      <td>90<\/td>\n",
       "      <td>60<\/td>\n",
       "    <\/tr>\n",
       "    <tr>\n",
       "      <th>44<\/th>\n",
       "      <td>39<\/td>\n",
       "      <td>Jigglypuff<\/td>\n",
       "      <td>Normal<\/td>\n",
       "      <td>Fairy<\/td>\n",
       "      <td>270<\/td>\n",
       "      <td>115<\/td>\n",
       "      <td>45<\/td>\n",
       "      <td>20<\/td>\n",
       "      <td>45<\/td>\n",
       "      <td>25<\/td>\n",
       "      <td>20<\/td>\n",
       "    <\/tr>\n",
       "    <tr>\n",
       "      <th>45<\/th>\n",
       "      <td>40<\/td>\n",
       "      <td>Wigglytuff<\/td>\n",
       "      <td>Normal<\/td>\n",
       "      <td>Fairy<\/td>\n",
       "      <td>435<\/td>\n",
       "      <td>140<\/td>\n",
       "      <td>70<\/td>\n",
       "      <td>45<\/td>\n",
       "      <td>85<\/td>\n",
       "      <td>50<\/td>\n",
       "      <td>45<\/td>\n",
       "    <\/tr>\n",
       "    <tr>\n",
       "      <th>131<\/th>\n",
       "      <td>122<\/td>\n",
       "      <td>Mr. Mime<\/td>\n",
       "      <td>Psychic<\/td>\n",
       "      <td>Fairy<\/td>\n",
       "      <td>460<\/td>\n",
       "      <td>40<\/td>\n",
       "      <td>45<\/td>\n",
       "      <td>65<\/td>\n",
       "      <td>100<\/td>\n",
       "      <td>120<\/td>\n",
       "      <td>90<\/td>\n",
       "    <\/tr>\n",
       "    <tr>\n",
       "      <th>...<\/th>\n",
       "      <td>...<\/td>\n",
       "      <td>...<\/td>\n",
       "      <td>...<\/td>\n",
       "      <td>...<\/td>\n",
       "      <td>...<\/td>\n",
       "      <td>...<\/td>\n",
       "      <td>...<\/td>\n",
       "      <td>...<\/td>\n",
       "      <td>...<\/td>\n",
       "      <td>...<\/td>\n",
       "      <td>...<\/td>\n",
       "    <\/tr>\n",
       "    <tr>\n",
       "      <th>790<\/th>\n",
       "      <td>714<\/td>\n",
       "      <td>Noibat<\/td>\n",
       "      <td>Flying<\/td>\n",
       "      <td>Dragon<\/td>\n",
       "      <td>245<\/td>\n",
       "      <td>40<\/td>\n",
       "      <td>30<\/td>\n",
       "      <td>35<\/td>\n",
       "      <td>45<\/td>\n",
       "      <td>40<\/td>\n",
       "      <td>55<\/td>\n",
       "    <\/tr>\n",
       "    <tr>\n",
       "      <th>791<\/th>\n",
       "      <td>715<\/td>\n",
       "      <td>Noivern<\/td>\n",
       "      <td>Flying<\/td>\n",
       "      <td>Dragon<\/td>\n",
       "      <td>535<\/td>\n",
       "      <td>85<\/td>\n",
       "      <td>70<\/td>\n",
       "      <td>80<\/td>\n",
       "      <td>97<\/td>\n",
       "      <td>80<\/td>\n",
       "      <td>123<\/td>\n",
       "    <\/tr>\n",
       "    <tr>\n",
       "      <th>792<\/th>\n",
       "      <td>716<\/td>\n",
       "      <td>Xerneas<\/td>\n",
       "      <td>Fairy<\/td>\n",
       "      <td>NaN<\/td>\n",
       "      <td>680<\/td>\n",
       "      <td>126<\/td>\n",
       "      <td>131<\/td>\n",
       "      <td>95<\/td>\n",
       "      <td>131<\/td>\n",
       "      <td>98<\/td>\n",
       "      <td>99<\/td>\n",
       "    <\/tr>\n",
       "    <tr>\n",
       "      <th>794<\/th>\n",
       "      <td>718<\/td>\n",
       "      <td>Zygarde50% Forme<\/td>\n",
       "      <td>Dragon<\/td>\n",
       "      <td>Ground<\/td>\n",
       "      <td>600<\/td>\n",
       "      <td>108<\/td>\n",
       "      <td>100<\/td>\n",
       "      <td>121<\/td>\n",
       "      <td>81<\/td>\n",
       "      <td>95<\/td>\n",
       "      <td>95<\/td>\n",
       "    <\/tr>\n",
       "    <tr>\n",
       "      <th>795<\/th>\n",
       "      <td>719<\/td>\n",
       "      <td>Diancie<\/td>\n",
       "      <td>Rock<\/td>\n",
       "      <td>Fairy<\/td>\n",
       "      <td>600<\/td>\n",
       "      <td>50<\/td>\n",
       "      <td>100<\/td>\n",
       "      <td>150<\/td>\n",
       "      <td>100<\/td>\n",
       "      <td>150<\/td>\n",
       "      <td>50<\/td>\n",
       "    <\/tr>\n",
       "  <\/tbody>\n",
       "<\/table>\n",
       "<p>76 rows × 11 columns<\/p>\n",
       "<\/div>"
      ]
     },
     "metadata":{
      
     },
     "output_type":"display_data"
    }
   ],
   "metadata":{
    "datalore":{
     "node_id":"0Cm3WHsme6hW7uBculHF4j",
     "type":"CODE",
     "hide_input_from_viewers":false,
     "hide_output_from_viewers":false,
     "report_properties":{
      "y":110
     }
    }
   }
  },
  {
   "cell_type":"code",
   "source":[
    "# Count NaNs and replace NaN with \"None\"\n",
    "dragon_fairy_pokemon.isna().sum()"
   ],
   "execution_count":12,
   "outputs":[
    {
     "data":{
      "text\/html":[
       "<pre>#           0\n",
       "Name        0\n",
       "Type 1      0\n",
       "Type 2     26\n",
       "Total       0\n",
       "HP          0\n",
       "Attack      0\n",
       "Defense     0\n",
       "Sp. Atk     0\n",
       "Sp. Def     0\n",
       "Speed       0\n",
       "dtype: int64<\/pre>"
      ]
     },
     "metadata":{
      
     },
     "output_type":"display_data"
    }
   ],
   "metadata":{
    "datalore":{
     "node_id":"f4eo5vGlUVgf86keFI6bIZ",
     "type":"CODE",
     "hide_input_from_viewers":false,
     "hide_output_from_viewers":false,
     "report_properties":{
      "y":123
     }
    }
   }
  },
  {
   "cell_type":"code",
   "source":[
    "# Replace NaNs in Type 2 column with \"None\"\n",
    "dragon_fairy_pokemon['Type 2'] = dragon_fairy_pokemon['Type 2'].fillna('None')"
   ],
   "execution_count":13,
   "outputs":[
    {
     "name":"stderr",
     "text":[
      "<ipython-input-13-5117ddd57673>:2: SettingWithCopyWarning: \n",
      "A value is trying to be set on a copy of a slice from a DataFrame.\n",
      "Try using .loc[row_indexer,col_indexer] = value instead\n",
      "\n",
      "See the caveats in the documentation: https:\/\/pandas.pydata.org\/pandas-docs\/stable\/user_guide\/indexing.html#returning-a-view-versus-a-copy\n",
      "  dragon_fairy_pokemon['Type 2'] = dragon_fairy_pokemon['Type 2'].fillna('None')\n"
     ],
     "output_type":"stream"
    }
   ],
   "metadata":{
    "datalore":{
     "node_id":"KX31mGAEusftsfyp6OqPgN",
     "type":"CODE",
     "hide_input_from_viewers":false,
     "hide_output_from_viewers":false,
     "report_properties":{
      "y":133
     }
    }
   }
  },
  {
   "cell_type":"code",
   "source":[
    "dragon_fairy_pokemon.isna().sum()"
   ],
   "execution_count":14,
   "outputs":[
    {
     "data":{
      "text\/html":[
       "<pre>#          0\n",
       "Name       0\n",
       "Type 1     0\n",
       "Type 2     0\n",
       "Total      0\n",
       "HP         0\n",
       "Attack     0\n",
       "Defense    0\n",
       "Sp. Atk    0\n",
       "Sp. Def    0\n",
       "Speed      0\n",
       "dtype: int64<\/pre>"
      ]
     },
     "metadata":{
      
     },
     "output_type":"display_data"
    }
   ],
   "metadata":{
    "datalore":{
     "node_id":"avzdUtevcxZMgi6M0dUaWK",
     "type":"CODE",
     "hide_input_from_viewers":false,
     "hide_output_from_viewers":false,
     "report_properties":{
      "y":141
     }
    }
   }
  },
  {
   "cell_type":"code",
   "source":[
    "dragon_fairy_pokemon"
   ],
   "execution_count":15,
   "outputs":[
    {
     "data":{
      "text\/html":[
       "<div>\n",
       "<style scoped>\n",
       "    .dataframe tbody tr th:only-of-type {\n",
       "        vertical-align: middle;\n",
       "    }\n",
       "\n",
       "    .dataframe tbody tr th {\n",
       "        vertical-align: top;\n",
       "    }\n",
       "\n",
       "    .dataframe thead th {\n",
       "        text-align: right;\n",
       "    }\n",
       "<\/style>\n",
       "<table border=\"1\" class=\"dataframe\">\n",
       "  <thead>\n",
       "    <tr style=\"text-align: right;\">\n",
       "      <th><\/th>\n",
       "      <th>#<\/th>\n",
       "      <th>Name<\/th>\n",
       "      <th>Type 1<\/th>\n",
       "      <th>Type 2<\/th>\n",
       "      <th>Total<\/th>\n",
       "      <th>HP<\/th>\n",
       "      <th>Attack<\/th>\n",
       "      <th>Defense<\/th>\n",
       "      <th>Sp. Atk<\/th>\n",
       "      <th>Sp. Def<\/th>\n",
       "      <th>Speed<\/th>\n",
       "    <\/tr>\n",
       "  <\/thead>\n",
       "  <tbody>\n",
       "    <tr>\n",
       "      <th>40<\/th>\n",
       "      <td>35<\/td>\n",
       "      <td>Clefairy<\/td>\n",
       "      <td>Fairy<\/td>\n",
       "      <td>None<\/td>\n",
       "      <td>323<\/td>\n",
       "      <td>70<\/td>\n",
       "      <td>45<\/td>\n",
       "      <td>48<\/td>\n",
       "      <td>60<\/td>\n",
       "      <td>65<\/td>\n",
       "      <td>35<\/td>\n",
       "    <\/tr>\n",
       "    <tr>\n",
       "      <th>41<\/th>\n",
       "      <td>36<\/td>\n",
       "      <td>Clefable<\/td>\n",
       "      <td>Fairy<\/td>\n",
       "      <td>None<\/td>\n",
       "      <td>483<\/td>\n",
       "      <td>95<\/td>\n",
       "      <td>70<\/td>\n",
       "      <td>73<\/td>\n",
       "      <td>95<\/td>\n",
       "      <td>90<\/td>\n",
       "      <td>60<\/td>\n",
       "    <\/tr>\n",
       "    <tr>\n",
       "      <th>44<\/th>\n",
       "      <td>39<\/td>\n",
       "      <td>Jigglypuff<\/td>\n",
       "      <td>Normal<\/td>\n",
       "      <td>Fairy<\/td>\n",
       "      <td>270<\/td>\n",
       "      <td>115<\/td>\n",
       "      <td>45<\/td>\n",
       "      <td>20<\/td>\n",
       "      <td>45<\/td>\n",
       "      <td>25<\/td>\n",
       "      <td>20<\/td>\n",
       "    <\/tr>\n",
       "    <tr>\n",
       "      <th>45<\/th>\n",
       "      <td>40<\/td>\n",
       "      <td>Wigglytuff<\/td>\n",
       "      <td>Normal<\/td>\n",
       "      <td>Fairy<\/td>\n",
       "      <td>435<\/td>\n",
       "      <td>140<\/td>\n",
       "      <td>70<\/td>\n",
       "      <td>45<\/td>\n",
       "      <td>85<\/td>\n",
       "      <td>50<\/td>\n",
       "      <td>45<\/td>\n",
       "    <\/tr>\n",
       "    <tr>\n",
       "      <th>131<\/th>\n",
       "      <td>122<\/td>\n",
       "      <td>Mr. Mime<\/td>\n",
       "      <td>Psychic<\/td>\n",
       "      <td>Fairy<\/td>\n",
       "      <td>460<\/td>\n",
       "      <td>40<\/td>\n",
       "      <td>45<\/td>\n",
       "      <td>65<\/td>\n",
       "      <td>100<\/td>\n",
       "      <td>120<\/td>\n",
       "      <td>90<\/td>\n",
       "    <\/tr>\n",
       "    <tr>\n",
       "      <th>...<\/th>\n",
       "      <td>...<\/td>\n",
       "      <td>...<\/td>\n",
       "      <td>...<\/td>\n",
       "      <td>...<\/td>\n",
       "      <td>...<\/td>\n",
       "      <td>...<\/td>\n",
       "      <td>...<\/td>\n",
       "      <td>...<\/td>\n",
       "      <td>...<\/td>\n",
       "      <td>...<\/td>\n",
       "      <td>...<\/td>\n",
       "    <\/tr>\n",
       "    <tr>\n",
       "      <th>790<\/th>\n",
       "      <td>714<\/td>\n",
       "      <td>Noibat<\/td>\n",
       "      <td>Flying<\/td>\n",
       "      <td>Dragon<\/td>\n",
       "      <td>245<\/td>\n",
       "      <td>40<\/td>\n",
       "      <td>30<\/td>\n",
       "      <td>35<\/td>\n",
       "      <td>45<\/td>\n",
       "      <td>40<\/td>\n",
       "      <td>55<\/td>\n",
       "    <\/tr>\n",
       "    <tr>\n",
       "      <th>791<\/th>\n",
       "      <td>715<\/td>\n",
       "      <td>Noivern<\/td>\n",
       "      <td>Flying<\/td>\n",
       "      <td>Dragon<\/td>\n",
       "      <td>535<\/td>\n",
       "      <td>85<\/td>\n",
       "      <td>70<\/td>\n",
       "      <td>80<\/td>\n",
       "      <td>97<\/td>\n",
       "      <td>80<\/td>\n",
       "      <td>123<\/td>\n",
       "    <\/tr>\n",
       "    <tr>\n",
       "      <th>792<\/th>\n",
       "      <td>716<\/td>\n",
       "      <td>Xerneas<\/td>\n",
       "      <td>Fairy<\/td>\n",
       "      <td>None<\/td>\n",
       "      <td>680<\/td>\n",
       "      <td>126<\/td>\n",
       "      <td>131<\/td>\n",
       "      <td>95<\/td>\n",
       "      <td>131<\/td>\n",
       "      <td>98<\/td>\n",
       "      <td>99<\/td>\n",
       "    <\/tr>\n",
       "    <tr>\n",
       "      <th>794<\/th>\n",
       "      <td>718<\/td>\n",
       "      <td>Zygarde50% Forme<\/td>\n",
       "      <td>Dragon<\/td>\n",
       "      <td>Ground<\/td>\n",
       "      <td>600<\/td>\n",
       "      <td>108<\/td>\n",
       "      <td>100<\/td>\n",
       "      <td>121<\/td>\n",
       "      <td>81<\/td>\n",
       "      <td>95<\/td>\n",
       "      <td>95<\/td>\n",
       "    <\/tr>\n",
       "    <tr>\n",
       "      <th>795<\/th>\n",
       "      <td>719<\/td>\n",
       "      <td>Diancie<\/td>\n",
       "      <td>Rock<\/td>\n",
       "      <td>Fairy<\/td>\n",
       "      <td>600<\/td>\n",
       "      <td>50<\/td>\n",
       "      <td>100<\/td>\n",
       "      <td>150<\/td>\n",
       "      <td>100<\/td>\n",
       "      <td>150<\/td>\n",
       "      <td>50<\/td>\n",
       "    <\/tr>\n",
       "  <\/tbody>\n",
       "<\/table>\n",
       "<p>76 rows × 11 columns<\/p>\n",
       "<\/div>"
      ]
     },
     "metadata":{
      
     },
     "output_type":"display_data"
    }
   ],
   "metadata":{
    "datalore":{
     "node_id":"1zvYW98FuiH5GVuTuEunpe",
     "type":"CODE",
     "hide_input_from_viewers":false,
     "hide_output_from_viewers":false,
     "report_properties":{
      "y":150
     }
    }
   }
  },
  {
   "cell_type":"code",
   "source":[
    "# Dropping the number category\n",
    "dragon_fairy_pokemon = dragon_fairy_pokemon.drop(['#'], axis=1)"
   ],
   "execution_count":16,
   "outputs":[
    
   ],
   "metadata":{
    "datalore":{
     "node_id":"euEMNsExIDqXA3G284hW1H",
     "type":"CODE",
     "hide_input_from_viewers":false,
     "hide_output_from_viewers":false,
     "report_properties":{
      "y":163
     }
    }
   }
  },
  {
   "cell_type":"code",
   "source":[
    "# Searching for outliers using the Total column\n",
    "sns.histplot(data=dragon_fairy_pokemon, \n",
    "             x='Total',\n",
    "             bins=5,\n",
    "             kde=True)\n",
    "plt.title('Spread of Total Pokemon Stats')\n",
    "plt.show()\n",
    "\n",
    "# This dataset has a large number of occurances in the upper value cells."
   ],
   "execution_count":17,
   "outputs":[
    {
     "data":{
      "image\/png":"[encoded data removed]"
     },
     "metadata":{
      "image\/png":{
       
      }
     },
     "output_type":"display_data"
    }
   ],
   "metadata":{
    "datalore":{
     "node_id":"qPwz1Kqff34NZfnB4MIMzn",
     "type":"CODE",
     "hide_input_from_viewers":false,
     "hide_output_from_viewers":false,
     "report_properties":{
      "y":167
     }
    }
   }
  },
  {
   "cell_type":"code",
   "source":[
    "sns.boxplot(data=dragon_fairy_pokemon, x=\"Total\")\n",
    "plt.title('Spread of Total Pokemon Stats')\n",
    "plt.show()\n",
    "\n",
    "# The median for dragon and fairy type summary stats is around 450. The quartiles are around 320 and 600.  "
   ],
   "execution_count":18,
   "outputs":[
    {
     "data":{
      "image\/png":"[encoded data removed]"
     },
     "metadata":{
      "image\/png":{
       
      }
     },
     "output_type":"display_data"
    }
   ],
   "metadata":{
    "datalore":{
     "node_id":"unzJKohkax1A65xgDav1zD",
     "type":"CODE",
     "hide_input_from_viewers":false,
     "hide_output_from_viewers":false,
     "report_properties":{
      "y":189
     }
    }
   }
  },
  {
   "cell_type":"code",
   "source":[
    "# Searching for outliers by finding the IQR of the Total column\n",
    "# q1 = median\n",
    "# q2 = median of the smallest points\n",
    "# q3 = median of the highest points\n",
    "# IQR = range between Q1 and Q2\n",
    "# outlier = data points below Q1 - 1.5 IQR or above Q3 + 1.5 IQR\n",
    "q1 = np.percentile(dragon_fairy_pokemon['Total'], 25, interpolation='midpoint')\n",
    "q2 = np.percentile(dragon_fairy_pokemon['Total'], 50, interpolation='midpoint')\n",
    "q3 = np.percentile(dragon_fairy_pokemon['Total'], 75, interpolation='midpoint')\n",
    "iqr = q3 - q1\n",
    "\n",
    "low_lim = q1 - 1.5 * iqr\n",
    "up_lim = q3 + 1.5 * iqr\n",
    "\n",
    "print(f'25th percentile is {q1}, 50th percentile is {q2}, 75th percentile is {q3} and the IQR is {iqr}.')\n",
    "print(f'The lower limit is {low_lim}, and the upper limit is {up_lim}.')"
   ],
   "execution_count":19,
   "outputs":[
    {
     "name":"stdout",
     "text":[
      "25th percentile is 321.5, 50th percentile is 461.0, 75th percentile is 600.0 and the IQR is 278.5.\n",
      "The lower limit is -96.25, and the upper limit is 1017.75.\n"
     ],
     "output_type":"stream"
    }
   ],
   "metadata":{
    "datalore":{
     "node_id":"1po9HyT5Qw9NGRKTZKlOAz",
     "type":"CODE",
     "hide_input_from_viewers":false,
     "hide_output_from_viewers":false,
     "report_properties":{
      "y":209
     }
    }
   }
  },
  {
   "cell_type":"code",
   "source":[
    "# Finding outliers based on the upper and lower limits in the dataset.\n",
    "outlier = []\n",
    "\n",
    "for x in dragon_fairy_pokemon['Total']:\n",
    "    if (x > up_lim) or (x < low_lim):\n",
    "        outlier.append(x)\n",
    "\n",
    "if len(outlier) == 0:\n",
    "    print('No outliers found.')\n",
    "else:\n",
    "    print(f'The outliers in this list are: {outlier}')"
   ],
   "execution_count":20,
   "outputs":[
    {
     "name":"stdout",
     "text":[
      "No outliers found.\n"
     ],
     "output_type":"stream"
    }
   ],
   "metadata":{
    "datalore":{
     "node_id":"KmmxvHorZgHP42VCkHcWYs",
     "type":"CODE",
     "hide_input_from_viewers":false,
     "hide_output_from_viewers":false,
     "report_properties":{
      "y":221
     }
    }
   }
  },
  {
   "cell_type":"code",
   "source":[
    "# Validating the data\n",
    "dragon_fairy_pokemon"
   ],
   "execution_count":21,
   "outputs":[
    {
     "data":{
      "text\/html":[
       "<div>\n",
       "<style scoped>\n",
       "    .dataframe tbody tr th:only-of-type {\n",
       "        vertical-align: middle;\n",
       "    }\n",
       "\n",
       "    .dataframe tbody tr th {\n",
       "        vertical-align: top;\n",
       "    }\n",
       "\n",
       "    .dataframe thead th {\n",
       "        text-align: right;\n",
       "    }\n",
       "<\/style>\n",
       "<table border=\"1\" class=\"dataframe\">\n",
       "  <thead>\n",
       "    <tr style=\"text-align: right;\">\n",
       "      <th><\/th>\n",
       "      <th>Name<\/th>\n",
       "      <th>Type 1<\/th>\n",
       "      <th>Type 2<\/th>\n",
       "      <th>Total<\/th>\n",
       "      <th>HP<\/th>\n",
       "      <th>Attack<\/th>\n",
       "      <th>Defense<\/th>\n",
       "      <th>Sp. Atk<\/th>\n",
       "      <th>Sp. Def<\/th>\n",
       "      <th>Speed<\/th>\n",
       "    <\/tr>\n",
       "  <\/thead>\n",
       "  <tbody>\n",
       "    <tr>\n",
       "      <th>40<\/th>\n",
       "      <td>Clefairy<\/td>\n",
       "      <td>Fairy<\/td>\n",
       "      <td>None<\/td>\n",
       "      <td>323<\/td>\n",
       "      <td>70<\/td>\n",
       "      <td>45<\/td>\n",
       "      <td>48<\/td>\n",
       "      <td>60<\/td>\n",
       "      <td>65<\/td>\n",
       "      <td>35<\/td>\n",
       "    <\/tr>\n",
       "    <tr>\n",
       "      <th>41<\/th>\n",
       "      <td>Clefable<\/td>\n",
       "      <td>Fairy<\/td>\n",
       "      <td>None<\/td>\n",
       "      <td>483<\/td>\n",
       "      <td>95<\/td>\n",
       "      <td>70<\/td>\n",
       "      <td>73<\/td>\n",
       "      <td>95<\/td>\n",
       "      <td>90<\/td>\n",
       "      <td>60<\/td>\n",
       "    <\/tr>\n",
       "    <tr>\n",
       "      <th>44<\/th>\n",
       "      <td>Jigglypuff<\/td>\n",
       "      <td>Normal<\/td>\n",
       "      <td>Fairy<\/td>\n",
       "      <td>270<\/td>\n",
       "      <td>115<\/td>\n",
       "      <td>45<\/td>\n",
       "      <td>20<\/td>\n",
       "      <td>45<\/td>\n",
       "      <td>25<\/td>\n",
       "      <td>20<\/td>\n",
       "    <\/tr>\n",
       "    <tr>\n",
       "      <th>45<\/th>\n",
       "      <td>Wigglytuff<\/td>\n",
       "      <td>Normal<\/td>\n",
       "      <td>Fairy<\/td>\n",
       "      <td>435<\/td>\n",
       "      <td>140<\/td>\n",
       "      <td>70<\/td>\n",
       "      <td>45<\/td>\n",
       "      <td>85<\/td>\n",
       "      <td>50<\/td>\n",
       "      <td>45<\/td>\n",
       "    <\/tr>\n",
       "    <tr>\n",
       "      <th>131<\/th>\n",
       "      <td>Mr. Mime<\/td>\n",
       "      <td>Psychic<\/td>\n",
       "      <td>Fairy<\/td>\n",
       "      <td>460<\/td>\n",
       "      <td>40<\/td>\n",
       "      <td>45<\/td>\n",
       "      <td>65<\/td>\n",
       "      <td>100<\/td>\n",
       "      <td>120<\/td>\n",
       "      <td>90<\/td>\n",
       "    <\/tr>\n",
       "    <tr>\n",
       "      <th>...<\/th>\n",
       "      <td>...<\/td>\n",
       "      <td>...<\/td>\n",
       "      <td>...<\/td>\n",
       "      <td>...<\/td>\n",
       "      <td>...<\/td>\n",
       "      <td>...<\/td>\n",
       "      <td>...<\/td>\n",
       "      <td>...<\/td>\n",
       "      <td>...<\/td>\n",
       "      <td>...<\/td>\n",
       "    <\/tr>\n",
       "    <tr>\n",
       "      <th>790<\/th>\n",
       "      <td>Noibat<\/td>\n",
       "      <td>Flying<\/td>\n",
       "      <td>Dragon<\/td>\n",
       "      <td>245<\/td>\n",
       "      <td>40<\/td>\n",
       "      <td>30<\/td>\n",
       "      <td>35<\/td>\n",
       "      <td>45<\/td>\n",
       "      <td>40<\/td>\n",
       "      <td>55<\/td>\n",
       "    <\/tr>\n",
       "    <tr>\n",
       "      <th>791<\/th>\n",
       "      <td>Noivern<\/td>\n",
       "      <td>Flying<\/td>\n",
       "      <td>Dragon<\/td>\n",
       "      <td>535<\/td>\n",
       "      <td>85<\/td>\n",
       "      <td>70<\/td>\n",
       "      <td>80<\/td>\n",
       "      <td>97<\/td>\n",
       "      <td>80<\/td>\n",
       "      <td>123<\/td>\n",
       "    <\/tr>\n",
       "    <tr>\n",
       "      <th>792<\/th>\n",
       "      <td>Xerneas<\/td>\n",
       "      <td>Fairy<\/td>\n",
       "      <td>None<\/td>\n",
       "      <td>680<\/td>\n",
       "      <td>126<\/td>\n",
       "      <td>131<\/td>\n",
       "      <td>95<\/td>\n",
       "      <td>131<\/td>\n",
       "      <td>98<\/td>\n",
       "      <td>99<\/td>\n",
       "    <\/tr>\n",
       "    <tr>\n",
       "      <th>794<\/th>\n",
       "      <td>Zygarde50% Forme<\/td>\n",
       "      <td>Dragon<\/td>\n",
       "      <td>Ground<\/td>\n",
       "      <td>600<\/td>\n",
       "      <td>108<\/td>\n",
       "      <td>100<\/td>\n",
       "      <td>121<\/td>\n",
       "      <td>81<\/td>\n",
       "      <td>95<\/td>\n",
       "      <td>95<\/td>\n",
       "    <\/tr>\n",
       "    <tr>\n",
       "      <th>795<\/th>\n",
       "      <td>Diancie<\/td>\n",
       "      <td>Rock<\/td>\n",
       "      <td>Fairy<\/td>\n",
       "      <td>600<\/td>\n",
       "      <td>50<\/td>\n",
       "      <td>100<\/td>\n",
       "      <td>150<\/td>\n",
       "      <td>100<\/td>\n",
       "      <td>150<\/td>\n",
       "      <td>50<\/td>\n",
       "    <\/tr>\n",
       "  <\/tbody>\n",
       "<\/table>\n",
       "<p>76 rows × 10 columns<\/p>\n",
       "<\/div>"
      ]
     },
     "metadata":{
      
     },
     "output_type":"display_data"
    }
   ],
   "metadata":{
    "datalore":{
     "node_id":"DVXIiuw0q8xKbiaGepjngF",
     "type":"CODE",
     "hide_input_from_viewers":false,
     "hide_output_from_viewers":false,
     "report_properties":{
      "y":231
     }
    }
   }
  },
  {
   "cell_type":"code",
   "source":[
    "# Validating dataset\n",
    "# Removing periods, percent signs, and numbers from Name column\n",
    "dragon_fairy_pokemon.replace('[%,.,\\d]', '', regex=True, inplace=True)"
   ],
   "execution_count":22,
   "outputs":[
    
   ],
   "metadata":{
    "datalore":{
     "node_id":"5RUo6ScSZbxb3ir3Tn6zjj",
     "type":"CODE",
     "hide_input_from_viewers":false,
     "hide_output_from_viewers":false,
     "report_properties":{
      "y":245
     }
    }
   }
  },
  {
   "cell_type":"code",
   "source":[
    "dragon_fairy_pokemon"
   ],
   "execution_count":23,
   "outputs":[
    {
     "data":{
      "text\/html":[
       "<div>\n",
       "<style scoped>\n",
       "    .dataframe tbody tr th:only-of-type {\n",
       "        vertical-align: middle;\n",
       "    }\n",
       "\n",
       "    .dataframe tbody tr th {\n",
       "        vertical-align: top;\n",
       "    }\n",
       "\n",
       "    .dataframe thead th {\n",
       "        text-align: right;\n",
       "    }\n",
       "<\/style>\n",
       "<table border=\"1\" class=\"dataframe\">\n",
       "  <thead>\n",
       "    <tr style=\"text-align: right;\">\n",
       "      <th><\/th>\n",
       "      <th>Name<\/th>\n",
       "      <th>Type 1<\/th>\n",
       "      <th>Type 2<\/th>\n",
       "      <th>Total<\/th>\n",
       "      <th>HP<\/th>\n",
       "      <th>Attack<\/th>\n",
       "      <th>Defense<\/th>\n",
       "      <th>Sp. Atk<\/th>\n",
       "      <th>Sp. Def<\/th>\n",
       "      <th>Speed<\/th>\n",
       "    <\/tr>\n",
       "  <\/thead>\n",
       "  <tbody>\n",
       "    <tr>\n",
       "      <th>40<\/th>\n",
       "      <td>Clefairy<\/td>\n",
       "      <td>Fairy<\/td>\n",
       "      <td>None<\/td>\n",
       "      <td>323<\/td>\n",
       "      <td>70<\/td>\n",
       "      <td>45<\/td>\n",
       "      <td>48<\/td>\n",
       "      <td>60<\/td>\n",
       "      <td>65<\/td>\n",
       "      <td>35<\/td>\n",
       "    <\/tr>\n",
       "    <tr>\n",
       "      <th>41<\/th>\n",
       "      <td>Clefable<\/td>\n",
       "      <td>Fairy<\/td>\n",
       "      <td>None<\/td>\n",
       "      <td>483<\/td>\n",
       "      <td>95<\/td>\n",
       "      <td>70<\/td>\n",
       "      <td>73<\/td>\n",
       "      <td>95<\/td>\n",
       "      <td>90<\/td>\n",
       "      <td>60<\/td>\n",
       "    <\/tr>\n",
       "    <tr>\n",
       "      <th>44<\/th>\n",
       "      <td>Jigglypuff<\/td>\n",
       "      <td>Normal<\/td>\n",
       "      <td>Fairy<\/td>\n",
       "      <td>270<\/td>\n",
       "      <td>115<\/td>\n",
       "      <td>45<\/td>\n",
       "      <td>20<\/td>\n",
       "      <td>45<\/td>\n",
       "      <td>25<\/td>\n",
       "      <td>20<\/td>\n",
       "    <\/tr>\n",
       "    <tr>\n",
       "      <th>45<\/th>\n",
       "      <td>Wigglytuff<\/td>\n",
       "      <td>Normal<\/td>\n",
       "      <td>Fairy<\/td>\n",
       "      <td>435<\/td>\n",
       "      <td>140<\/td>\n",
       "      <td>70<\/td>\n",
       "      <td>45<\/td>\n",
       "      <td>85<\/td>\n",
       "      <td>50<\/td>\n",
       "      <td>45<\/td>\n",
       "    <\/tr>\n",
       "    <tr>\n",
       "      <th>131<\/th>\n",
       "      <td>Mr Mime<\/td>\n",
       "      <td>Psychic<\/td>\n",
       "      <td>Fairy<\/td>\n",
       "      <td>460<\/td>\n",
       "      <td>40<\/td>\n",
       "      <td>45<\/td>\n",
       "      <td>65<\/td>\n",
       "      <td>100<\/td>\n",
       "      <td>120<\/td>\n",
       "      <td>90<\/td>\n",
       "    <\/tr>\n",
       "    <tr>\n",
       "      <th>...<\/th>\n",
       "      <td>...<\/td>\n",
       "      <td>...<\/td>\n",
       "      <td>...<\/td>\n",
       "      <td>...<\/td>\n",
       "      <td>...<\/td>\n",
       "      <td>...<\/td>\n",
       "      <td>...<\/td>\n",
       "      <td>...<\/td>\n",
       "      <td>...<\/td>\n",
       "      <td>...<\/td>\n",
       "    <\/tr>\n",
       "    <tr>\n",
       "      <th>790<\/th>\n",
       "      <td>Noibat<\/td>\n",
       "      <td>Flying<\/td>\n",
       "      <td>Dragon<\/td>\n",
       "      <td>245<\/td>\n",
       "      <td>40<\/td>\n",
       "      <td>30<\/td>\n",
       "      <td>35<\/td>\n",
       "      <td>45<\/td>\n",
       "      <td>40<\/td>\n",
       "      <td>55<\/td>\n",
       "    <\/tr>\n",
       "    <tr>\n",
       "      <th>791<\/th>\n",
       "      <td>Noivern<\/td>\n",
       "      <td>Flying<\/td>\n",
       "      <td>Dragon<\/td>\n",
       "      <td>535<\/td>\n",
       "      <td>85<\/td>\n",
       "      <td>70<\/td>\n",
       "      <td>80<\/td>\n",
       "      <td>97<\/td>\n",
       "      <td>80<\/td>\n",
       "      <td>123<\/td>\n",
       "    <\/tr>\n",
       "    <tr>\n",
       "      <th>792<\/th>\n",
       "      <td>Xerneas<\/td>\n",
       "      <td>Fairy<\/td>\n",
       "      <td>None<\/td>\n",
       "      <td>680<\/td>\n",
       "      <td>126<\/td>\n",
       "      <td>131<\/td>\n",
       "      <td>95<\/td>\n",
       "      <td>131<\/td>\n",
       "      <td>98<\/td>\n",
       "      <td>99<\/td>\n",
       "    <\/tr>\n",
       "    <tr>\n",
       "      <th>794<\/th>\n",
       "      <td>Zygarde Forme<\/td>\n",
       "      <td>Dragon<\/td>\n",
       "      <td>Ground<\/td>\n",
       "      <td>600<\/td>\n",
       "      <td>108<\/td>\n",
       "      <td>100<\/td>\n",
       "      <td>121<\/td>\n",
       "      <td>81<\/td>\n",
       "      <td>95<\/td>\n",
       "      <td>95<\/td>\n",
       "    <\/tr>\n",
       "    <tr>\n",
       "      <th>795<\/th>\n",
       "      <td>Diancie<\/td>\n",
       "      <td>Rock<\/td>\n",
       "      <td>Fairy<\/td>\n",
       "      <td>600<\/td>\n",
       "      <td>50<\/td>\n",
       "      <td>100<\/td>\n",
       "      <td>150<\/td>\n",
       "      <td>100<\/td>\n",
       "      <td>150<\/td>\n",
       "      <td>50<\/td>\n",
       "    <\/tr>\n",
       "  <\/tbody>\n",
       "<\/table>\n",
       "<p>76 rows × 10 columns<\/p>\n",
       "<\/div>"
      ]
     },
     "metadata":{
      
     },
     "output_type":"display_data"
    }
   ],
   "metadata":{
    "datalore":{
     "node_id":"Nihy8npHhv6iD7lYxATULg",
     "type":"CODE",
     "hide_input_from_viewers":false,
     "hide_output_from_viewers":false,
     "report_properties":{
      "y":249
     }
    }
   }
  },
  {
   "cell_type":"code",
   "source":[
    "# Changing Forme to Form\n",
    "dragon_fairy_pokemon['Name'].replace('Forme', 'Form', regex=True, inplace=True)"
   ],
   "execution_count":24,
   "outputs":[
    
   ],
   "metadata":{
    "datalore":{
     "node_id":"7KD0HBKN0V6hdLJo12nw8K",
     "type":"CODE",
     "hide_input_from_viewers":false,
     "hide_output_from_viewers":false,
     "report_properties":{
      "y":262
     }
    }
   }
  },
  {
   "cell_type":"code",
   "source":[
    "dragon_fairy_pokemon"
   ],
   "execution_count":25,
   "outputs":[
    {
     "data":{
      "text\/html":[
       "<div>\n",
       "<style scoped>\n",
       "    .dataframe tbody tr th:only-of-type {\n",
       "        vertical-align: middle;\n",
       "    }\n",
       "\n",
       "    .dataframe tbody tr th {\n",
       "        vertical-align: top;\n",
       "    }\n",
       "\n",
       "    .dataframe thead th {\n",
       "        text-align: right;\n",
       "    }\n",
       "<\/style>\n",
       "<table border=\"1\" class=\"dataframe\">\n",
       "  <thead>\n",
       "    <tr style=\"text-align: right;\">\n",
       "      <th><\/th>\n",
       "      <th>Name<\/th>\n",
       "      <th>Type 1<\/th>\n",
       "      <th>Type 2<\/th>\n",
       "      <th>Total<\/th>\n",
       "      <th>HP<\/th>\n",
       "      <th>Attack<\/th>\n",
       "      <th>Defense<\/th>\n",
       "      <th>Sp. Atk<\/th>\n",
       "      <th>Sp. Def<\/th>\n",
       "      <th>Speed<\/th>\n",
       "    <\/tr>\n",
       "  <\/thead>\n",
       "  <tbody>\n",
       "    <tr>\n",
       "      <th>40<\/th>\n",
       "      <td>Clefairy<\/td>\n",
       "      <td>Fairy<\/td>\n",
       "      <td>None<\/td>\n",
       "      <td>323<\/td>\n",
       "      <td>70<\/td>\n",
       "      <td>45<\/td>\n",
       "      <td>48<\/td>\n",
       "      <td>60<\/td>\n",
       "      <td>65<\/td>\n",
       "      <td>35<\/td>\n",
       "    <\/tr>\n",
       "    <tr>\n",
       "      <th>41<\/th>\n",
       "      <td>Clefable<\/td>\n",
       "      <td>Fairy<\/td>\n",
       "      <td>None<\/td>\n",
       "      <td>483<\/td>\n",
       "      <td>95<\/td>\n",
       "      <td>70<\/td>\n",
       "      <td>73<\/td>\n",
       "      <td>95<\/td>\n",
       "      <td>90<\/td>\n",
       "      <td>60<\/td>\n",
       "    <\/tr>\n",
       "    <tr>\n",
       "      <th>44<\/th>\n",
       "      <td>Jigglypuff<\/td>\n",
       "      <td>Normal<\/td>\n",
       "      <td>Fairy<\/td>\n",
       "      <td>270<\/td>\n",
       "      <td>115<\/td>\n",
       "      <td>45<\/td>\n",
       "      <td>20<\/td>\n",
       "      <td>45<\/td>\n",
       "      <td>25<\/td>\n",
       "      <td>20<\/td>\n",
       "    <\/tr>\n",
       "    <tr>\n",
       "      <th>45<\/th>\n",
       "      <td>Wigglytuff<\/td>\n",
       "      <td>Normal<\/td>\n",
       "      <td>Fairy<\/td>\n",
       "      <td>435<\/td>\n",
       "      <td>140<\/td>\n",
       "      <td>70<\/td>\n",
       "      <td>45<\/td>\n",
       "      <td>85<\/td>\n",
       "      <td>50<\/td>\n",
       "      <td>45<\/td>\n",
       "    <\/tr>\n",
       "    <tr>\n",
       "      <th>131<\/th>\n",
       "      <td>Mr Mime<\/td>\n",
       "      <td>Psychic<\/td>\n",
       "      <td>Fairy<\/td>\n",
       "      <td>460<\/td>\n",
       "      <td>40<\/td>\n",
       "      <td>45<\/td>\n",
       "      <td>65<\/td>\n",
       "      <td>100<\/td>\n",
       "      <td>120<\/td>\n",
       "      <td>90<\/td>\n",
       "    <\/tr>\n",
       "    <tr>\n",
       "      <th>...<\/th>\n",
       "      <td>...<\/td>\n",
       "      <td>...<\/td>\n",
       "      <td>...<\/td>\n",
       "      <td>...<\/td>\n",
       "      <td>...<\/td>\n",
       "      <td>...<\/td>\n",
       "      <td>...<\/td>\n",
       "      <td>...<\/td>\n",
       "      <td>...<\/td>\n",
       "      <td>...<\/td>\n",
       "    <\/tr>\n",
       "    <tr>\n",
       "      <th>790<\/th>\n",
       "      <td>Noibat<\/td>\n",
       "      <td>Flying<\/td>\n",
       "      <td>Dragon<\/td>\n",
       "      <td>245<\/td>\n",
       "      <td>40<\/td>\n",
       "      <td>30<\/td>\n",
       "      <td>35<\/td>\n",
       "      <td>45<\/td>\n",
       "      <td>40<\/td>\n",
       "      <td>55<\/td>\n",
       "    <\/tr>\n",
       "    <tr>\n",
       "      <th>791<\/th>\n",
       "      <td>Noivern<\/td>\n",
       "      <td>Flying<\/td>\n",
       "      <td>Dragon<\/td>\n",
       "      <td>535<\/td>\n",
       "      <td>85<\/td>\n",
       "      <td>70<\/td>\n",
       "      <td>80<\/td>\n",
       "      <td>97<\/td>\n",
       "      <td>80<\/td>\n",
       "      <td>123<\/td>\n",
       "    <\/tr>\n",
       "    <tr>\n",
       "      <th>792<\/th>\n",
       "      <td>Xerneas<\/td>\n",
       "      <td>Fairy<\/td>\n",
       "      <td>None<\/td>\n",
       "      <td>680<\/td>\n",
       "      <td>126<\/td>\n",
       "      <td>131<\/td>\n",
       "      <td>95<\/td>\n",
       "      <td>131<\/td>\n",
       "      <td>98<\/td>\n",
       "      <td>99<\/td>\n",
       "    <\/tr>\n",
       "    <tr>\n",
       "      <th>794<\/th>\n",
       "      <td>Zygarde Form<\/td>\n",
       "      <td>Dragon<\/td>\n",
       "      <td>Ground<\/td>\n",
       "      <td>600<\/td>\n",
       "      <td>108<\/td>\n",
       "      <td>100<\/td>\n",
       "      <td>121<\/td>\n",
       "      <td>81<\/td>\n",
       "      <td>95<\/td>\n",
       "      <td>95<\/td>\n",
       "    <\/tr>\n",
       "    <tr>\n",
       "      <th>795<\/th>\n",
       "      <td>Diancie<\/td>\n",
       "      <td>Rock<\/td>\n",
       "      <td>Fairy<\/td>\n",
       "      <td>600<\/td>\n",
       "      <td>50<\/td>\n",
       "      <td>100<\/td>\n",
       "      <td>150<\/td>\n",
       "      <td>100<\/td>\n",
       "      <td>150<\/td>\n",
       "      <td>50<\/td>\n",
       "    <\/tr>\n",
       "  <\/tbody>\n",
       "<\/table>\n",
       "<p>76 rows × 10 columns<\/p>\n",
       "<\/div>"
      ]
     },
     "metadata":{
      
     },
     "output_type":"display_data"
    }
   ],
   "metadata":{
    "datalore":{
     "node_id":"sRup7wpO5ye33G3d6lzD15",
     "type":"CODE",
     "hide_input_from_viewers":false,
     "hide_output_from_viewers":false,
     "report_properties":{
      "y":266
     }
    }
   }
  },
  {
   "cell_type":"code",
   "source":[
    "# Removing extra Kyurem\n",
    "dragon_fairy_pokemon['Name'].replace('KyuremBlack', 'Black', regex=True, inplace=True)\n",
    "dragon_fairy_pokemon['Name'].replace('KyuremWhite', 'White', regex=True, inplace=True)"
   ],
   "execution_count":26,
   "outputs":[
    
   ],
   "metadata":{
    "datalore":{
     "node_id":"FpjgpUqHuJp6qQYypuQWEi",
     "type":"CODE",
     "hide_input_from_viewers":false,
     "hide_output_from_viewers":false,
     "report_properties":{
      "y":279
     }
    }
   }
  },
  {
   "cell_type":"code",
   "source":[
    "dragon_fairy_pokemon"
   ],
   "execution_count":27,
   "outputs":[
    {
     "data":{
      "text\/html":[
       "<div>\n",
       "<style scoped>\n",
       "    .dataframe tbody tr th:only-of-type {\n",
       "        vertical-align: middle;\n",
       "    }\n",
       "\n",
       "    .dataframe tbody tr th {\n",
       "        vertical-align: top;\n",
       "    }\n",
       "\n",
       "    .dataframe thead th {\n",
       "        text-align: right;\n",
       "    }\n",
       "<\/style>\n",
       "<table border=\"1\" class=\"dataframe\">\n",
       "  <thead>\n",
       "    <tr style=\"text-align: right;\">\n",
       "      <th><\/th>\n",
       "      <th>Name<\/th>\n",
       "      <th>Type 1<\/th>\n",
       "      <th>Type 2<\/th>\n",
       "      <th>Total<\/th>\n",
       "      <th>HP<\/th>\n",
       "      <th>Attack<\/th>\n",
       "      <th>Defense<\/th>\n",
       "      <th>Sp. Atk<\/th>\n",
       "      <th>Sp. Def<\/th>\n",
       "      <th>Speed<\/th>\n",
       "    <\/tr>\n",
       "  <\/thead>\n",
       "  <tbody>\n",
       "    <tr>\n",
       "      <th>40<\/th>\n",
       "      <td>Clefairy<\/td>\n",
       "      <td>Fairy<\/td>\n",
       "      <td>None<\/td>\n",
       "      <td>323<\/td>\n",
       "      <td>70<\/td>\n",
       "      <td>45<\/td>\n",
       "      <td>48<\/td>\n",
       "      <td>60<\/td>\n",
       "      <td>65<\/td>\n",
       "      <td>35<\/td>\n",
       "    <\/tr>\n",
       "    <tr>\n",
       "      <th>41<\/th>\n",
       "      <td>Clefable<\/td>\n",
       "      <td>Fairy<\/td>\n",
       "      <td>None<\/td>\n",
       "      <td>483<\/td>\n",
       "      <td>95<\/td>\n",
       "      <td>70<\/td>\n",
       "      <td>73<\/td>\n",
       "      <td>95<\/td>\n",
       "      <td>90<\/td>\n",
       "      <td>60<\/td>\n",
       "    <\/tr>\n",
       "    <tr>\n",
       "      <th>44<\/th>\n",
       "      <td>Jigglypuff<\/td>\n",
       "      <td>Normal<\/td>\n",
       "      <td>Fairy<\/td>\n",
       "      <td>270<\/td>\n",
       "      <td>115<\/td>\n",
       "      <td>45<\/td>\n",
       "      <td>20<\/td>\n",
       "      <td>45<\/td>\n",
       "      <td>25<\/td>\n",
       "      <td>20<\/td>\n",
       "    <\/tr>\n",
       "    <tr>\n",
       "      <th>45<\/th>\n",
       "      <td>Wigglytuff<\/td>\n",
       "      <td>Normal<\/td>\n",
       "      <td>Fairy<\/td>\n",
       "      <td>435<\/td>\n",
       "      <td>140<\/td>\n",
       "      <td>70<\/td>\n",
       "      <td>45<\/td>\n",
       "      <td>85<\/td>\n",
       "      <td>50<\/td>\n",
       "      <td>45<\/td>\n",
       "    <\/tr>\n",
       "    <tr>\n",
       "      <th>131<\/th>\n",
       "      <td>Mr Mime<\/td>\n",
       "      <td>Psychic<\/td>\n",
       "      <td>Fairy<\/td>\n",
       "      <td>460<\/td>\n",
       "      <td>40<\/td>\n",
       "      <td>45<\/td>\n",
       "      <td>65<\/td>\n",
       "      <td>100<\/td>\n",
       "      <td>120<\/td>\n",
       "      <td>90<\/td>\n",
       "    <\/tr>\n",
       "    <tr>\n",
       "      <th>...<\/th>\n",
       "      <td>...<\/td>\n",
       "      <td>...<\/td>\n",
       "      <td>...<\/td>\n",
       "      <td>...<\/td>\n",
       "      <td>...<\/td>\n",
       "      <td>...<\/td>\n",
       "      <td>...<\/td>\n",
       "      <td>...<\/td>\n",
       "      <td>...<\/td>\n",
       "      <td>...<\/td>\n",
       "    <\/tr>\n",
       "    <tr>\n",
       "      <th>790<\/th>\n",
       "      <td>Noibat<\/td>\n",
       "      <td>Flying<\/td>\n",
       "      <td>Dragon<\/td>\n",
       "      <td>245<\/td>\n",
       "      <td>40<\/td>\n",
       "      <td>30<\/td>\n",
       "      <td>35<\/td>\n",
       "      <td>45<\/td>\n",
       "      <td>40<\/td>\n",
       "      <td>55<\/td>\n",
       "    <\/tr>\n",
       "    <tr>\n",
       "      <th>791<\/th>\n",
       "      <td>Noivern<\/td>\n",
       "      <td>Flying<\/td>\n",
       "      <td>Dragon<\/td>\n",
       "      <td>535<\/td>\n",
       "      <td>85<\/td>\n",
       "      <td>70<\/td>\n",
       "      <td>80<\/td>\n",
       "      <td>97<\/td>\n",
       "      <td>80<\/td>\n",
       "      <td>123<\/td>\n",
       "    <\/tr>\n",
       "    <tr>\n",
       "      <th>792<\/th>\n",
       "      <td>Xerneas<\/td>\n",
       "      <td>Fairy<\/td>\n",
       "      <td>None<\/td>\n",
       "      <td>680<\/td>\n",
       "      <td>126<\/td>\n",
       "      <td>131<\/td>\n",
       "      <td>95<\/td>\n",
       "      <td>131<\/td>\n",
       "      <td>98<\/td>\n",
       "      <td>99<\/td>\n",
       "    <\/tr>\n",
       "    <tr>\n",
       "      <th>794<\/th>\n",
       "      <td>Zygarde Form<\/td>\n",
       "      <td>Dragon<\/td>\n",
       "      <td>Ground<\/td>\n",
       "      <td>600<\/td>\n",
       "      <td>108<\/td>\n",
       "      <td>100<\/td>\n",
       "      <td>121<\/td>\n",
       "      <td>81<\/td>\n",
       "      <td>95<\/td>\n",
       "      <td>95<\/td>\n",
       "    <\/tr>\n",
       "    <tr>\n",
       "      <th>795<\/th>\n",
       "      <td>Diancie<\/td>\n",
       "      <td>Rock<\/td>\n",
       "      <td>Fairy<\/td>\n",
       "      <td>600<\/td>\n",
       "      <td>50<\/td>\n",
       "      <td>100<\/td>\n",
       "      <td>150<\/td>\n",
       "      <td>100<\/td>\n",
       "      <td>150<\/td>\n",
       "      <td>50<\/td>\n",
       "    <\/tr>\n",
       "  <\/tbody>\n",
       "<\/table>\n",
       "<p>76 rows × 10 columns<\/p>\n",
       "<\/div>"
      ]
     },
     "metadata":{
      
     },
     "output_type":"display_data"
    }
   ],
   "metadata":{
    "datalore":{
     "node_id":"jm757jowcDuetDWaASjfLz",
     "type":"CODE",
     "hide_input_from_viewers":false,
     "hide_output_from_viewers":false,
     "report_properties":{
      "y":283
     }
    }
   }
  },
  {
   "cell_type":"code",
   "source":[
    "# Fixed Giratina entry\n",
    "dragon_fairy_pokemon['Name'].replace('GiratinaOrigin Form', 'Giratina', regex=True, inplace=True)\n",
    "dragon_fairy_pokemon['Name'].replace('GiratinaAltered Form', 'Altered Giratina', regex=True, inplace=True)"
   ],
   "execution_count":28,
   "outputs":[
    
   ],
   "metadata":{
    "datalore":{
     "node_id":"wyxBx4Vkm2B4pOMUF33eHW",
     "type":"CODE",
     "hide_input_from_viewers":false,
     "hide_output_from_viewers":false,
     "report_properties":{
      "y":296
     }
    }
   }
  },
  {
   "cell_type":"code",
   "source":[
    "dragon_fairy_pokemon"
   ],
   "execution_count":29,
   "outputs":[
    {
     "data":{
      "text\/html":[
       "<div>\n",
       "<style scoped>\n",
       "    .dataframe tbody tr th:only-of-type {\n",
       "        vertical-align: middle;\n",
       "    }\n",
       "\n",
       "    .dataframe tbody tr th {\n",
       "        vertical-align: top;\n",
       "    }\n",
       "\n",
       "    .dataframe thead th {\n",
       "        text-align: right;\n",
       "    }\n",
       "<\/style>\n",
       "<table border=\"1\" class=\"dataframe\">\n",
       "  <thead>\n",
       "    <tr style=\"text-align: right;\">\n",
       "      <th><\/th>\n",
       "      <th>Name<\/th>\n",
       "      <th>Type 1<\/th>\n",
       "      <th>Type 2<\/th>\n",
       "      <th>Total<\/th>\n",
       "      <th>HP<\/th>\n",
       "      <th>Attack<\/th>\n",
       "      <th>Defense<\/th>\n",
       "      <th>Sp. Atk<\/th>\n",
       "      <th>Sp. Def<\/th>\n",
       "      <th>Speed<\/th>\n",
       "    <\/tr>\n",
       "  <\/thead>\n",
       "  <tbody>\n",
       "    <tr>\n",
       "      <th>40<\/th>\n",
       "      <td>Clefairy<\/td>\n",
       "      <td>Fairy<\/td>\n",
       "      <td>None<\/td>\n",
       "      <td>323<\/td>\n",
       "      <td>70<\/td>\n",
       "      <td>45<\/td>\n",
       "      <td>48<\/td>\n",
       "      <td>60<\/td>\n",
       "      <td>65<\/td>\n",
       "      <td>35<\/td>\n",
       "    <\/tr>\n",
       "    <tr>\n",
       "      <th>41<\/th>\n",
       "      <td>Clefable<\/td>\n",
       "      <td>Fairy<\/td>\n",
       "      <td>None<\/td>\n",
       "      <td>483<\/td>\n",
       "      <td>95<\/td>\n",
       "      <td>70<\/td>\n",
       "      <td>73<\/td>\n",
       "      <td>95<\/td>\n",
       "      <td>90<\/td>\n",
       "      <td>60<\/td>\n",
       "    <\/tr>\n",
       "    <tr>\n",
       "      <th>44<\/th>\n",
       "      <td>Jigglypuff<\/td>\n",
       "      <td>Normal<\/td>\n",
       "      <td>Fairy<\/td>\n",
       "      <td>270<\/td>\n",
       "      <td>115<\/td>\n",
       "      <td>45<\/td>\n",
       "      <td>20<\/td>\n",
       "      <td>45<\/td>\n",
       "      <td>25<\/td>\n",
       "      <td>20<\/td>\n",
       "    <\/tr>\n",
       "    <tr>\n",
       "      <th>45<\/th>\n",
       "      <td>Wigglytuff<\/td>\n",
       "      <td>Normal<\/td>\n",
       "      <td>Fairy<\/td>\n",
       "      <td>435<\/td>\n",
       "      <td>140<\/td>\n",
       "      <td>70<\/td>\n",
       "      <td>45<\/td>\n",
       "      <td>85<\/td>\n",
       "      <td>50<\/td>\n",
       "      <td>45<\/td>\n",
       "    <\/tr>\n",
       "    <tr>\n",
       "      <th>131<\/th>\n",
       "      <td>Mr Mime<\/td>\n",
       "      <td>Psychic<\/td>\n",
       "      <td>Fairy<\/td>\n",
       "      <td>460<\/td>\n",
       "      <td>40<\/td>\n",
       "      <td>45<\/td>\n",
       "      <td>65<\/td>\n",
       "      <td>100<\/td>\n",
       "      <td>120<\/td>\n",
       "      <td>90<\/td>\n",
       "    <\/tr>\n",
       "    <tr>\n",
       "      <th>...<\/th>\n",
       "      <td>...<\/td>\n",
       "      <td>...<\/td>\n",
       "      <td>...<\/td>\n",
       "      <td>...<\/td>\n",
       "      <td>...<\/td>\n",
       "      <td>...<\/td>\n",
       "      <td>...<\/td>\n",
       "      <td>...<\/td>\n",
       "      <td>...<\/td>\n",
       "      <td>...<\/td>\n",
       "    <\/tr>\n",
       "    <tr>\n",
       "      <th>790<\/th>\n",
       "      <td>Noibat<\/td>\n",
       "      <td>Flying<\/td>\n",
       "      <td>Dragon<\/td>\n",
       "      <td>245<\/td>\n",
       "      <td>40<\/td>\n",
       "      <td>30<\/td>\n",
       "      <td>35<\/td>\n",
       "      <td>45<\/td>\n",
       "      <td>40<\/td>\n",
       "      <td>55<\/td>\n",
       "    <\/tr>\n",
       "    <tr>\n",
       "      <th>791<\/th>\n",
       "      <td>Noivern<\/td>\n",
       "      <td>Flying<\/td>\n",
       "      <td>Dragon<\/td>\n",
       "      <td>535<\/td>\n",
       "      <td>85<\/td>\n",
       "      <td>70<\/td>\n",
       "      <td>80<\/td>\n",
       "      <td>97<\/td>\n",
       "      <td>80<\/td>\n",
       "      <td>123<\/td>\n",
       "    <\/tr>\n",
       "    <tr>\n",
       "      <th>792<\/th>\n",
       "      <td>Xerneas<\/td>\n",
       "      <td>Fairy<\/td>\n",
       "      <td>None<\/td>\n",
       "      <td>680<\/td>\n",
       "      <td>126<\/td>\n",
       "      <td>131<\/td>\n",
       "      <td>95<\/td>\n",
       "      <td>131<\/td>\n",
       "      <td>98<\/td>\n",
       "      <td>99<\/td>\n",
       "    <\/tr>\n",
       "    <tr>\n",
       "      <th>794<\/th>\n",
       "      <td>Zygarde Form<\/td>\n",
       "      <td>Dragon<\/td>\n",
       "      <td>Ground<\/td>\n",
       "      <td>600<\/td>\n",
       "      <td>108<\/td>\n",
       "      <td>100<\/td>\n",
       "      <td>121<\/td>\n",
       "      <td>81<\/td>\n",
       "      <td>95<\/td>\n",
       "      <td>95<\/td>\n",
       "    <\/tr>\n",
       "    <tr>\n",
       "      <th>795<\/th>\n",
       "      <td>Diancie<\/td>\n",
       "      <td>Rock<\/td>\n",
       "      <td>Fairy<\/td>\n",
       "      <td>600<\/td>\n",
       "      <td>50<\/td>\n",
       "      <td>100<\/td>\n",
       "      <td>150<\/td>\n",
       "      <td>100<\/td>\n",
       "      <td>150<\/td>\n",
       "      <td>50<\/td>\n",
       "    <\/tr>\n",
       "  <\/tbody>\n",
       "<\/table>\n",
       "<p>76 rows × 10 columns<\/p>\n",
       "<\/div>"
      ]
     },
     "metadata":{
      
     },
     "output_type":"display_data"
    }
   ],
   "metadata":{
    "datalore":{
     "node_id":"Xr4LjGd7yjvcBfd85pqUhI",
     "type":"CODE",
     "hide_input_from_viewers":false,
     "hide_output_from_viewers":false,
     "report_properties":{
      "y":300
     }
    }
   }
  },
  {
   "cell_type":"markdown",
   "source":[
    "# Exploratory Data Analysis\n",
    "## Questions to be Explored\n",
    "#### How useful has the inclusion of fairy type Pokémon been? \n",
    "#### Are they stronger than dragon type Pokémon on their own? \n",
    "#### Based on the features provided by the data, are fairy-type Pokémon needed?"
   ],
   "attachments":{
    
   },
   "metadata":{
    "datalore":{
     "node_id":"P2ngCcdOvSg9Vyg2HyVs6b",
     "type":"MD",
     "hide_input_from_viewers":false,
     "hide_output_from_viewers":false,
     "report_properties":{
      "y":313
     }
    }
   }
  },
  {
   "cell_type":"markdown",
   "source":[
    "## Descriptive Statistics"
   ],
   "attachments":{
    
   },
   "metadata":{
    "datalore":{
     "node_id":"SIJqx8pH9rDKOfF4Bwj5T6",
     "type":"MD",
     "hide_input_from_viewers":false,
     "hide_output_from_viewers":false,
     "report_properties":{
      "y":320
     }
    }
   }
  },
  {
   "cell_type":"markdown",
   "source":[
    "### Measures of Central Tendency"
   ],
   "attachments":{
    
   },
   "metadata":{
    "datalore":{
     "node_id":"BbaThHvOzHhdPpiD47yGS3",
     "type":"MD",
     "hide_input_from_viewers":false,
     "hide_output_from_viewers":false,
     "report_properties":{
      "y":323
     }
    }
   }
  },
  {
   "cell_type":"code",
   "source":[
    "# Splitting the dataset into two datasets: dragon type and fairy type only.\n",
    "\n",
    "dragon = dragon_fairy_pokemon[(dragon_fairy_pokemon['Type 1'] == 'Dragon') | \n",
    "                        (dragon_fairy_pokemon['Type 2'] == 'Dragon')]\n",
    "\n",
    "fairy = dragon_fairy_pokemon[(dragon_fairy_pokemon['Type 1'] == 'Fairy') | \n",
    "                        (dragon_fairy_pokemon['Type 2'] == 'Fairy')]\n",
    "\n",
    "print(f'There are {dragon.Name.count()} dragon types and {fairy.Name.count()} fairy types.')"
   ],
   "execution_count":30,
   "outputs":[
    {
     "name":"stdout",
     "text":[
      "There are 41 dragon types and 35 fairy types.\n"
     ],
     "output_type":"stream"
    }
   ],
   "metadata":{
    "datalore":{
     "node_id":"8S8gzyaEWstnZ70iE8ZNJD",
     "type":"CODE",
     "hide_input_from_viewers":false,
     "hide_output_from_viewers":false,
     "report_properties":{
      "y":326
     }
    }
   }
  },
  {
   "cell_type":"code",
   "source":[
    "# Getting the mean of the Total column for dragon and fairy type pokemon.\n",
    "\n",
    "def get_centralt(x, y):\n",
    "    \"\"\"\n",
    "    Gets the mean of the Total column. \n",
    "    x is the dataframe. \n",
    "    y is the Pokemon type as a string.\n",
    "    \"\"\"\n",
    "    mean = statistics.mean(x.Total)\n",
    "    median = statistics.median(x.Total)\n",
    "    mode = statistics.mode(x.Total)\n",
    "    return print(f'Central tendency for {y} type Pokemon...\\nmode: {mode}  median:{median}  mean: {mean} \\n')\n",
    "\n",
    "get_centralt(fairy, 'fairy')\n",
    "get_centralt(dragon, 'dragon')\n",
    "\n",
    "# Overall, fairy types may prove to be weaker. \n",
    "        "
   ],
   "execution_count":31,
   "outputs":[
    {
     "name":"stdout",
     "text":[
      "Central tendency for fairy type Pokemon...\n",
      "mode: 480  median:405  mean: 391.54285714285714 \n",
      "\n",
      "Central tendency for dragon type Pokemon...\n",
      "mode: 600  median:535  mean: 513.2682926829268 \n",
      "\n"
     ],
     "output_type":"stream"
    }
   ],
   "metadata":{
    "datalore":{
     "node_id":"0QeQI3QF179a4WLET8osrb",
     "type":"CODE",
     "hide_input_from_viewers":false,
     "hide_output_from_viewers":false,
     "report_properties":{
      "y":335
     }
    }
   }
  },
  {
   "cell_type":"markdown",
   "source":[
    "### Measures of Variability"
   ],
   "attachments":{
    
   },
   "metadata":{
    "datalore":{
     "node_id":"jn8so6oooPlZZ30E7eO7to",
     "type":"MD",
     "hide_input_from_viewers":false,
     "hide_output_from_viewers":false,
     "report_properties":{
      "y":350
     }
    }
   }
  },
  {
   "cell_type":"code",
   "source":[
    "# A function for finding the measures of variability of each dataset.\n",
    "\n",
    "def get_var(data, poke_type):\n",
    "    var = statistics.variance(data.Total)\n",
    "    std = statistics.stdev(data.Total)\n",
    "    q1 = np.percentile(data.Total, 25, interpolation='midpoint')\n",
    "    q2 = np.percentile(data.Total, 50, interpolation='midpoint')\n",
    "    q3 = np.percentile(data.Total, 75, interpolation='midpoint')\n",
    "    iqr = q3 - q1\n",
    "    return print(f'The measures of variability for the total stats of {poke_type} type pokemon... \\n variance: {var} std: {std} IQR: {iqr} \\n')\n",
    "\n",
    "get_var(dragon, 'dragon')\n",
    "get_var(fairy, 'fairy')"
   ],
   "execution_count":32,
   "outputs":[
    {
     "name":"stdout",
     "text":[
      "The measures of variability for the total stats of dragon type pokemon... \n",
      " variance: 19764.551219512196 std: 140.58645460894232 IQR: 190.0 \n",
      "\n",
      "The measures of variability for the total stats of fairy type pokemon... \n",
      " variance: 15446.961344537815 std: 124.28580508061978 IQR: 190.0 \n",
      "\n"
     ],
     "output_type":"stream"
    }
   ],
   "metadata":{
    "datalore":{
     "node_id":"FNrQGhg7E1dCtzJkkBBCX9",
     "type":"CODE",
     "hide_input_from_viewers":false,
     "hide_output_from_viewers":false,
     "report_properties":{
      "y":353
     }
    }
   }
  },
  {
   "cell_type":"markdown",
   "source":[
    "## Summary of Descriptive Statistics"
   ],
   "attachments":{
    
   },
   "metadata":{
    "datalore":{
     "node_id":"VVxqyuKK8HFaqGTts6EWNY",
     "type":"MD",
     "hide_input_from_viewers":false,
     "hide_output_from_viewers":false,
     "report_properties":{
      "y":366
     }
    }
   }
  },
  {
   "cell_type":"code",
   "source":[
    "# Dragon type summary\n",
    "dragon.describe()"
   ],
   "execution_count":33,
   "outputs":[
    {
     "data":{
      "text\/html":[
       "<div>\n",
       "<style scoped>\n",
       "    .dataframe tbody tr th:only-of-type {\n",
       "        vertical-align: middle;\n",
       "    }\n",
       "\n",
       "    .dataframe tbody tr th {\n",
       "        vertical-align: top;\n",
       "    }\n",
       "\n",
       "    .dataframe thead th {\n",
       "        text-align: right;\n",
       "    }\n",
       "<\/style>\n",
       "<table border=\"1\" class=\"dataframe\">\n",
       "  <thead>\n",
       "    <tr style=\"text-align: right;\">\n",
       "      <th><\/th>\n",
       "      <th>Total<\/th>\n",
       "      <th>HP<\/th>\n",
       "      <th>Attack<\/th>\n",
       "      <th>Defense<\/th>\n",
       "      <th>Sp. Atk<\/th>\n",
       "      <th>Sp. Def<\/th>\n",
       "      <th>Speed<\/th>\n",
       "    <\/tr>\n",
       "  <\/thead>\n",
       "  <tbody>\n",
       "    <tr>\n",
       "      <th>count<\/th>\n",
       "      <td>41.000000<\/td>\n",
       "      <td>41.000000<\/td>\n",
       "      <td>41.000000<\/td>\n",
       "      <td>41.000000<\/td>\n",
       "      <td>41.000000<\/td>\n",
       "      <td>41.000000<\/td>\n",
       "      <td>41.000000<\/td>\n",
       "    <\/tr>\n",
       "    <tr>\n",
       "      <th>mean<\/th>\n",
       "      <td>513.268293<\/td>\n",
       "      <td>82.048780<\/td>\n",
       "      <td>100.439024<\/td>\n",
       "      <td>82.073171<\/td>\n",
       "      <td>87.853659<\/td>\n",
       "      <td>83.048780<\/td>\n",
       "      <td>77.804878<\/td>\n",
       "    <\/tr>\n",
       "    <tr>\n",
       "      <th>std<\/th>\n",
       "      <td>140.586455<\/td>\n",
       "      <td>27.671241<\/td>\n",
       "      <td>30.105688<\/td>\n",
       "      <td>23.446098<\/td>\n",
       "      <td>37.866582<\/td>\n",
       "      <td>28.852167<\/td>\n",
       "      <td>22.771934<\/td>\n",
       "    <\/tr>\n",
       "    <tr>\n",
       "      <th>min<\/th>\n",
       "      <td>245.000000<\/td>\n",
       "      <td>40.000000<\/td>\n",
       "      <td>30.000000<\/td>\n",
       "      <td>35.000000<\/td>\n",
       "      <td>30.000000<\/td>\n",
       "      <td>30.000000<\/td>\n",
       "      <td>38.000000<\/td>\n",
       "    <\/tr>\n",
       "    <tr>\n",
       "      <th>25%<\/th>\n",
       "      <td>410.000000<\/td>\n",
       "      <td>65.000000<\/td>\n",
       "      <td>75.000000<\/td>\n",
       "      <td>65.000000<\/td>\n",
       "      <td>55.000000<\/td>\n",
       "      <td>55.000000<\/td>\n",
       "      <td>57.000000<\/td>\n",
       "    <\/tr>\n",
       "    <tr>\n",
       "      <th>50%<\/th>\n",
       "      <td>535.000000<\/td>\n",
       "      <td>80.000000<\/td>\n",
       "      <td>100.000000<\/td>\n",
       "      <td>90.000000<\/td>\n",
       "      <td>81.000000<\/td>\n",
       "      <td>90.000000<\/td>\n",
       "      <td>82.000000<\/td>\n",
       "    <\/tr>\n",
       "    <tr>\n",
       "      <th>75%<\/th>\n",
       "      <td>600.000000<\/td>\n",
       "      <td>100.000000<\/td>\n",
       "      <td>120.000000<\/td>\n",
       "      <td>95.000000<\/td>\n",
       "      <td>120.000000<\/td>\n",
       "      <td>100.000000<\/td>\n",
       "      <td>95.000000<\/td>\n",
       "    <\/tr>\n",
       "    <tr>\n",
       "      <th>max<\/th>\n",
       "      <td>700.000000<\/td>\n",
       "      <td>150.000000<\/td>\n",
       "      <td>170.000000<\/td>\n",
       "      <td>121.000000<\/td>\n",
       "      <td>170.000000<\/td>\n",
       "      <td>150.000000<\/td>\n",
       "      <td>123.000000<\/td>\n",
       "    <\/tr>\n",
       "  <\/tbody>\n",
       "<\/table>\n",
       "<\/div>"
      ]
     },
     "metadata":{
      
     },
     "output_type":"display_data"
    }
   ],
   "metadata":{
    "datalore":{
     "node_id":"OtHCY1aZCUMKb63CS9xIB1",
     "type":"CODE",
     "hide_input_from_viewers":false,
     "hide_output_from_viewers":false,
     "report_properties":{
      "y":369
     }
    }
   }
  },
  {
   "cell_type":"code",
   "source":[
    "# Fairy type summary\n",
    "fairy.describe()"
   ],
   "execution_count":34,
   "outputs":[
    {
     "data":{
      "text\/html":[
       "<div>\n",
       "<style scoped>\n",
       "    .dataframe tbody tr th:only-of-type {\n",
       "        vertical-align: middle;\n",
       "    }\n",
       "\n",
       "    .dataframe tbody tr th {\n",
       "        vertical-align: top;\n",
       "    }\n",
       "\n",
       "    .dataframe thead th {\n",
       "        text-align: right;\n",
       "    }\n",
       "<\/style>\n",
       "<table border=\"1\" class=\"dataframe\">\n",
       "  <thead>\n",
       "    <tr style=\"text-align: right;\">\n",
       "      <th><\/th>\n",
       "      <th>Total<\/th>\n",
       "      <th>HP<\/th>\n",
       "      <th>Attack<\/th>\n",
       "      <th>Defense<\/th>\n",
       "      <th>Sp. Atk<\/th>\n",
       "      <th>Sp. Def<\/th>\n",
       "      <th>Speed<\/th>\n",
       "    <\/tr>\n",
       "  <\/thead>\n",
       "  <tbody>\n",
       "    <tr>\n",
       "      <th>count<\/th>\n",
       "      <td>35.000000<\/td>\n",
       "      <td>35.000000<\/td>\n",
       "      <td>35.000000<\/td>\n",
       "      <td>35.000000<\/td>\n",
       "      <td>35.000000<\/td>\n",
       "      <td>35.000000<\/td>\n",
       "      <td>35.000000<\/td>\n",
       "    <\/tr>\n",
       "    <tr>\n",
       "      <th>mean<\/th>\n",
       "      <td>391.542857<\/td>\n",
       "      <td>68.371429<\/td>\n",
       "      <td>55.514286<\/td>\n",
       "      <td>65.142857<\/td>\n",
       "      <td>71.142857<\/td>\n",
       "      <td>78.685714<\/td>\n",
       "      <td>52.685714<\/td>\n",
       "    <\/tr>\n",
       "    <tr>\n",
       "      <th>std<\/th>\n",
       "      <td>124.285805<\/td>\n",
       "      <td>27.808257<\/td>\n",
       "      <td>27.232519<\/td>\n",
       "      <td>30.042267<\/td>\n",
       "      <td>28.972749<\/td>\n",
       "      <td>34.986360<\/td>\n",
       "      <td>25.529420<\/td>\n",
       "    <\/tr>\n",
       "    <tr>\n",
       "      <th>min<\/th>\n",
       "      <td>190.000000<\/td>\n",
       "      <td>20.000000<\/td>\n",
       "      <td>20.000000<\/td>\n",
       "      <td>15.000000<\/td>\n",
       "      <td>20.000000<\/td>\n",
       "      <td>20.000000<\/td>\n",
       "      <td>15.000000<\/td>\n",
       "    <\/tr>\n",
       "    <tr>\n",
       "      <th>25%<\/th>\n",
       "      <td>290.000000<\/td>\n",
       "      <td>50.000000<\/td>\n",
       "      <td>36.500000<\/td>\n",
       "      <td>46.000000<\/td>\n",
       "      <td>47.500000<\/td>\n",
       "      <td>55.000000<\/td>\n",
       "      <td>37.500000<\/td>\n",
       "    <\/tr>\n",
       "    <tr>\n",
       "      <th>50%<\/th>\n",
       "      <td>405.000000<\/td>\n",
       "      <td>62.000000<\/td>\n",
       "      <td>50.000000<\/td>\n",
       "      <td>65.000000<\/td>\n",
       "      <td>65.000000<\/td>\n",
       "      <td>75.000000<\/td>\n",
       "      <td>50.000000<\/td>\n",
       "    <\/tr>\n",
       "    <tr>\n",
       "      <th>75%<\/th>\n",
       "      <td>480.000000<\/td>\n",
       "      <td>87.500000<\/td>\n",
       "      <td>70.000000<\/td>\n",
       "      <td>82.500000<\/td>\n",
       "      <td>90.000000<\/td>\n",
       "      <td>98.000000<\/td>\n",
       "      <td>69.000000<\/td>\n",
       "    <\/tr>\n",
       "    <tr>\n",
       "      <th>max<\/th>\n",
       "      <td>680.000000<\/td>\n",
       "      <td>140.000000<\/td>\n",
       "      <td>131.000000<\/td>\n",
       "      <td>150.000000<\/td>\n",
       "      <td>131.000000<\/td>\n",
       "      <td>154.000000<\/td>\n",
       "      <td>116.000000<\/td>\n",
       "    <\/tr>\n",
       "  <\/tbody>\n",
       "<\/table>\n",
       "<\/div>"
      ]
     },
     "metadata":{
      
     },
     "output_type":"display_data"
    }
   ],
   "metadata":{
    "datalore":{
     "node_id":"3Vhbr0Msr4wHXELDygW7sM",
     "type":"CODE",
     "hide_input_from_viewers":false,
     "hide_output_from_viewers":false,
     "report_properties":{
      "y":380
     }
    }
   }
  },
  {
   "cell_type":"markdown",
   "source":[
    "## Visualizing the Data"
   ],
   "attachments":{
    
   },
   "metadata":{
    "datalore":{
     "node_id":"L14F04ARUyhKUrHjbD5wgO",
     "type":"MD",
     "hide_input_from_viewers":false,
     "hide_output_from_viewers":false,
     "report_properties":{
      "y":391
     }
    }
   }
  },
  {
   "cell_type":"code",
   "source":[
    "dragon_fairy_pokemon"
   ],
   "execution_count":35,
   "outputs":[
    {
     "data":{
      "text\/html":[
       "<div>\n",
       "<style scoped>\n",
       "    .dataframe tbody tr th:only-of-type {\n",
       "        vertical-align: middle;\n",
       "    }\n",
       "\n",
       "    .dataframe tbody tr th {\n",
       "        vertical-align: top;\n",
       "    }\n",
       "\n",
       "    .dataframe thead th {\n",
       "        text-align: right;\n",
       "    }\n",
       "<\/style>\n",
       "<table border=\"1\" class=\"dataframe\">\n",
       "  <thead>\n",
       "    <tr style=\"text-align: right;\">\n",
       "      <th><\/th>\n",
       "      <th>Name<\/th>\n",
       "      <th>Type 1<\/th>\n",
       "      <th>Type 2<\/th>\n",
       "      <th>Total<\/th>\n",
       "      <th>HP<\/th>\n",
       "      <th>Attack<\/th>\n",
       "      <th>Defense<\/th>\n",
       "      <th>Sp. Atk<\/th>\n",
       "      <th>Sp. Def<\/th>\n",
       "      <th>Speed<\/th>\n",
       "    <\/tr>\n",
       "  <\/thead>\n",
       "  <tbody>\n",
       "    <tr>\n",
       "      <th>40<\/th>\n",
       "      <td>Clefairy<\/td>\n",
       "      <td>Fairy<\/td>\n",
       "      <td>None<\/td>\n",
       "      <td>323<\/td>\n",
       "      <td>70<\/td>\n",
       "      <td>45<\/td>\n",
       "      <td>48<\/td>\n",
       "      <td>60<\/td>\n",
       "      <td>65<\/td>\n",
       "      <td>35<\/td>\n",
       "    <\/tr>\n",
       "    <tr>\n",
       "      <th>41<\/th>\n",
       "      <td>Clefable<\/td>\n",
       "      <td>Fairy<\/td>\n",
       "      <td>None<\/td>\n",
       "      <td>483<\/td>\n",
       "      <td>95<\/td>\n",
       "      <td>70<\/td>\n",
       "      <td>73<\/td>\n",
       "      <td>95<\/td>\n",
       "      <td>90<\/td>\n",
       "      <td>60<\/td>\n",
       "    <\/tr>\n",
       "    <tr>\n",
       "      <th>44<\/th>\n",
       "      <td>Jigglypuff<\/td>\n",
       "      <td>Normal<\/td>\n",
       "      <td>Fairy<\/td>\n",
       "      <td>270<\/td>\n",
       "      <td>115<\/td>\n",
       "      <td>45<\/td>\n",
       "      <td>20<\/td>\n",
       "      <td>45<\/td>\n",
       "      <td>25<\/td>\n",
       "      <td>20<\/td>\n",
       "    <\/tr>\n",
       "    <tr>\n",
       "      <th>45<\/th>\n",
       "      <td>Wigglytuff<\/td>\n",
       "      <td>Normal<\/td>\n",
       "      <td>Fairy<\/td>\n",
       "      <td>435<\/td>\n",
       "      <td>140<\/td>\n",
       "      <td>70<\/td>\n",
       "      <td>45<\/td>\n",
       "      <td>85<\/td>\n",
       "      <td>50<\/td>\n",
       "      <td>45<\/td>\n",
       "    <\/tr>\n",
       "    <tr>\n",
       "      <th>131<\/th>\n",
       "      <td>Mr Mime<\/td>\n",
       "      <td>Psychic<\/td>\n",
       "      <td>Fairy<\/td>\n",
       "      <td>460<\/td>\n",
       "      <td>40<\/td>\n",
       "      <td>45<\/td>\n",
       "      <td>65<\/td>\n",
       "      <td>100<\/td>\n",
       "      <td>120<\/td>\n",
       "      <td>90<\/td>\n",
       "    <\/tr>\n",
       "    <tr>\n",
       "      <th>...<\/th>\n",
       "      <td>...<\/td>\n",
       "      <td>...<\/td>\n",
       "      <td>...<\/td>\n",
       "      <td>...<\/td>\n",
       "      <td>...<\/td>\n",
       "      <td>...<\/td>\n",
       "      <td>...<\/td>\n",
       "      <td>...<\/td>\n",
       "      <td>...<\/td>\n",
       "      <td>...<\/td>\n",
       "    <\/tr>\n",
       "    <tr>\n",
       "      <th>790<\/th>\n",
       "      <td>Noibat<\/td>\n",
       "      <td>Flying<\/td>\n",
       "      <td>Dragon<\/td>\n",
       "      <td>245<\/td>\n",
       "      <td>40<\/td>\n",
       "      <td>30<\/td>\n",
       "      <td>35<\/td>\n",
       "      <td>45<\/td>\n",
       "      <td>40<\/td>\n",
       "      <td>55<\/td>\n",
       "    <\/tr>\n",
       "    <tr>\n",
       "      <th>791<\/th>\n",
       "      <td>Noivern<\/td>\n",
       "      <td>Flying<\/td>\n",
       "      <td>Dragon<\/td>\n",
       "      <td>535<\/td>\n",
       "      <td>85<\/td>\n",
       "      <td>70<\/td>\n",
       "      <td>80<\/td>\n",
       "      <td>97<\/td>\n",
       "      <td>80<\/td>\n",
       "      <td>123<\/td>\n",
       "    <\/tr>\n",
       "    <tr>\n",
       "      <th>792<\/th>\n",
       "      <td>Xerneas<\/td>\n",
       "      <td>Fairy<\/td>\n",
       "      <td>None<\/td>\n",
       "      <td>680<\/td>\n",
       "      <td>126<\/td>\n",
       "      <td>131<\/td>\n",
       "      <td>95<\/td>\n",
       "      <td>131<\/td>\n",
       "      <td>98<\/td>\n",
       "      <td>99<\/td>\n",
       "    <\/tr>\n",
       "    <tr>\n",
       "      <th>794<\/th>\n",
       "      <td>Zygarde Form<\/td>\n",
       "      <td>Dragon<\/td>\n",
       "      <td>Ground<\/td>\n",
       "      <td>600<\/td>\n",
       "      <td>108<\/td>\n",
       "      <td>100<\/td>\n",
       "      <td>121<\/td>\n",
       "      <td>81<\/td>\n",
       "      <td>95<\/td>\n",
       "      <td>95<\/td>\n",
       "    <\/tr>\n",
       "    <tr>\n",
       "      <th>795<\/th>\n",
       "      <td>Diancie<\/td>\n",
       "      <td>Rock<\/td>\n",
       "      <td>Fairy<\/td>\n",
       "      <td>600<\/td>\n",
       "      <td>50<\/td>\n",
       "      <td>100<\/td>\n",
       "      <td>150<\/td>\n",
       "      <td>100<\/td>\n",
       "      <td>150<\/td>\n",
       "      <td>50<\/td>\n",
       "    <\/tr>\n",
       "  <\/tbody>\n",
       "<\/table>\n",
       "<p>76 rows × 10 columns<\/p>\n",
       "<\/div>"
      ]
     },
     "metadata":{
      
     },
     "output_type":"display_data"
    }
   ],
   "metadata":{
    "datalore":{
     "node_id":"WoF9hEOYspXstsmvjivwjo",
     "type":"CODE",
     "hide_input_from_viewers":false,
     "hide_output_from_viewers":false,
     "report_properties":{
      "y":394
     }
    }
   }
  },
  {
   "cell_type":"code",
   "source":[
    "# Add new column featuring a binary showcasing if the pokemon is mainly dragon or fairy type.\n",
    "binary_dragon_fairy = dragon_fairy_pokemon\n",
    "binary_dragon_fairy['Dragon_or_fairy'] = ''\n",
    "binary_dragon_fairy"
   ],
   "execution_count":36,
   "outputs":[
    {
     "data":{
      "text\/html":[
       "<div>\n",
       "<style scoped>\n",
       "    .dataframe tbody tr th:only-of-type {\n",
       "        vertical-align: middle;\n",
       "    }\n",
       "\n",
       "    .dataframe tbody tr th {\n",
       "        vertical-align: top;\n",
       "    }\n",
       "\n",
       "    .dataframe thead th {\n",
       "        text-align: right;\n",
       "    }\n",
       "<\/style>\n",
       "<table border=\"1\" class=\"dataframe\">\n",
       "  <thead>\n",
       "    <tr style=\"text-align: right;\">\n",
       "      <th><\/th>\n",
       "      <th>Name<\/th>\n",
       "      <th>Type 1<\/th>\n",
       "      <th>Type 2<\/th>\n",
       "      <th>Total<\/th>\n",
       "      <th>HP<\/th>\n",
       "      <th>Attack<\/th>\n",
       "      <th>Defense<\/th>\n",
       "      <th>Sp. Atk<\/th>\n",
       "      <th>Sp. Def<\/th>\n",
       "      <th>Speed<\/th>\n",
       "      <th>Dragon_or_fairy<\/th>\n",
       "    <\/tr>\n",
       "  <\/thead>\n",
       "  <tbody>\n",
       "    <tr>\n",
       "      <th>40<\/th>\n",
       "      <td>Clefairy<\/td>\n",
       "      <td>Fairy<\/td>\n",
       "      <td>None<\/td>\n",
       "      <td>323<\/td>\n",
       "      <td>70<\/td>\n",
       "      <td>45<\/td>\n",
       "      <td>48<\/td>\n",
       "      <td>60<\/td>\n",
       "      <td>65<\/td>\n",
       "      <td>35<\/td>\n",
       "      <td><\/td>\n",
       "    <\/tr>\n",
       "    <tr>\n",
       "      <th>41<\/th>\n",
       "      <td>Clefable<\/td>\n",
       "      <td>Fairy<\/td>\n",
       "      <td>None<\/td>\n",
       "      <td>483<\/td>\n",
       "      <td>95<\/td>\n",
       "      <td>70<\/td>\n",
       "      <td>73<\/td>\n",
       "      <td>95<\/td>\n",
       "      <td>90<\/td>\n",
       "      <td>60<\/td>\n",
       "      <td><\/td>\n",
       "    <\/tr>\n",
       "    <tr>\n",
       "      <th>44<\/th>\n",
       "      <td>Jigglypuff<\/td>\n",
       "      <td>Normal<\/td>\n",
       "      <td>Fairy<\/td>\n",
       "      <td>270<\/td>\n",
       "      <td>115<\/td>\n",
       "      <td>45<\/td>\n",
       "      <td>20<\/td>\n",
       "      <td>45<\/td>\n",
       "      <td>25<\/td>\n",
       "      <td>20<\/td>\n",
       "      <td><\/td>\n",
       "    <\/tr>\n",
       "    <tr>\n",
       "      <th>45<\/th>\n",
       "      <td>Wigglytuff<\/td>\n",
       "      <td>Normal<\/td>\n",
       "      <td>Fairy<\/td>\n",
       "      <td>435<\/td>\n",
       "      <td>140<\/td>\n",
       "      <td>70<\/td>\n",
       "      <td>45<\/td>\n",
       "      <td>85<\/td>\n",
       "      <td>50<\/td>\n",
       "      <td>45<\/td>\n",
       "      <td><\/td>\n",
       "    <\/tr>\n",
       "    <tr>\n",
       "      <th>131<\/th>\n",
       "      <td>Mr Mime<\/td>\n",
       "      <td>Psychic<\/td>\n",
       "      <td>Fairy<\/td>\n",
       "      <td>460<\/td>\n",
       "      <td>40<\/td>\n",
       "      <td>45<\/td>\n",
       "      <td>65<\/td>\n",
       "      <td>100<\/td>\n",
       "      <td>120<\/td>\n",
       "      <td>90<\/td>\n",
       "      <td><\/td>\n",
       "    <\/tr>\n",
       "    <tr>\n",
       "      <th>...<\/th>\n",
       "      <td>...<\/td>\n",
       "      <td>...<\/td>\n",
       "      <td>...<\/td>\n",
       "      <td>...<\/td>\n",
       "      <td>...<\/td>\n",
       "      <td>...<\/td>\n",
       "      <td>...<\/td>\n",
       "      <td>...<\/td>\n",
       "      <td>...<\/td>\n",
       "      <td>...<\/td>\n",
       "      <td>...<\/td>\n",
       "    <\/tr>\n",
       "    <tr>\n",
       "      <th>790<\/th>\n",
       "      <td>Noibat<\/td>\n",
       "      <td>Flying<\/td>\n",
       "      <td>Dragon<\/td>\n",
       "      <td>245<\/td>\n",
       "      <td>40<\/td>\n",
       "      <td>30<\/td>\n",
       "      <td>35<\/td>\n",
       "      <td>45<\/td>\n",
       "      <td>40<\/td>\n",
       "      <td>55<\/td>\n",
       "      <td><\/td>\n",
       "    <\/tr>\n",
       "    <tr>\n",
       "      <th>791<\/th>\n",
       "      <td>Noivern<\/td>\n",
       "      <td>Flying<\/td>\n",
       "      <td>Dragon<\/td>\n",
       "      <td>535<\/td>\n",
       "      <td>85<\/td>\n",
       "      <td>70<\/td>\n",
       "      <td>80<\/td>\n",
       "      <td>97<\/td>\n",
       "      <td>80<\/td>\n",
       "      <td>123<\/td>\n",
       "      <td><\/td>\n",
       "    <\/tr>\n",
       "    <tr>\n",
       "      <th>792<\/th>\n",
       "      <td>Xerneas<\/td>\n",
       "      <td>Fairy<\/td>\n",
       "      <td>None<\/td>\n",
       "      <td>680<\/td>\n",
       "      <td>126<\/td>\n",
       "      <td>131<\/td>\n",
       "      <td>95<\/td>\n",
       "      <td>131<\/td>\n",
       "      <td>98<\/td>\n",
       "      <td>99<\/td>\n",
       "      <td><\/td>\n",
       "    <\/tr>\n",
       "    <tr>\n",
       "      <th>794<\/th>\n",
       "      <td>Zygarde Form<\/td>\n",
       "      <td>Dragon<\/td>\n",
       "      <td>Ground<\/td>\n",
       "      <td>600<\/td>\n",
       "      <td>108<\/td>\n",
       "      <td>100<\/td>\n",
       "      <td>121<\/td>\n",
       "      <td>81<\/td>\n",
       "      <td>95<\/td>\n",
       "      <td>95<\/td>\n",
       "      <td><\/td>\n",
       "    <\/tr>\n",
       "    <tr>\n",
       "      <th>795<\/th>\n",
       "      <td>Diancie<\/td>\n",
       "      <td>Rock<\/td>\n",
       "      <td>Fairy<\/td>\n",
       "      <td>600<\/td>\n",
       "      <td>50<\/td>\n",
       "      <td>100<\/td>\n",
       "      <td>150<\/td>\n",
       "      <td>100<\/td>\n",
       "      <td>150<\/td>\n",
       "      <td>50<\/td>\n",
       "      <td><\/td>\n",
       "    <\/tr>\n",
       "  <\/tbody>\n",
       "<\/table>\n",
       "<p>76 rows × 11 columns<\/p>\n",
       "<\/div>"
      ]
     },
     "metadata":{
      
     },
     "output_type":"display_data"
    }
   ],
   "metadata":{
    "datalore":{
     "node_id":"aP3pIVEYS4DknzYC4HLHAs",
     "type":"CODE",
     "hide_input_from_viewers":false,
     "hide_output_from_viewers":false,
     "report_properties":{
      "y":407
     }
    }
   }
  },
  {
   "cell_type":"code",
   "source":[
    "# Populate the Dragon_or_fairy column based on Type 1 and Type 2 columns.\n",
    "binary_dragon_fairy['Dragon_or_fairy'] = np.where(((binary_dragon_fairy['Type 1'] == 'Dragon') |\n",
    "                                                   (binary_dragon_fairy['Type 2'] == 'Dragon')), 'Dragon', 'Fairy')"
   ],
   "execution_count":37,
   "outputs":[
    
   ],
   "metadata":{
    "datalore":{
     "node_id":"UOdmvfowRGjisyq08LprYE",
     "type":"CODE",
     "hide_input_from_viewers":false,
     "hide_output_from_viewers":false,
     "report_properties":{
      "y":422
     }
    }
   }
  },
  {
   "cell_type":"code",
   "source":[
    "binary_dragon_fairy"
   ],
   "execution_count":38,
   "outputs":[
    {
     "data":{
      "text\/html":[
       "<div>\n",
       "<style scoped>\n",
       "    .dataframe tbody tr th:only-of-type {\n",
       "        vertical-align: middle;\n",
       "    }\n",
       "\n",
       "    .dataframe tbody tr th {\n",
       "        vertical-align: top;\n",
       "    }\n",
       "\n",
       "    .dataframe thead th {\n",
       "        text-align: right;\n",
       "    }\n",
       "<\/style>\n",
       "<table border=\"1\" class=\"dataframe\">\n",
       "  <thead>\n",
       "    <tr style=\"text-align: right;\">\n",
       "      <th><\/th>\n",
       "      <th>Name<\/th>\n",
       "      <th>Type 1<\/th>\n",
       "      <th>Type 2<\/th>\n",
       "      <th>Total<\/th>\n",
       "      <th>HP<\/th>\n",
       "      <th>Attack<\/th>\n",
       "      <th>Defense<\/th>\n",
       "      <th>Sp. Atk<\/th>\n",
       "      <th>Sp. Def<\/th>\n",
       "      <th>Speed<\/th>\n",
       "      <th>Dragon_or_fairy<\/th>\n",
       "    <\/tr>\n",
       "  <\/thead>\n",
       "  <tbody>\n",
       "    <tr>\n",
       "      <th>40<\/th>\n",
       "      <td>Clefairy<\/td>\n",
       "      <td>Fairy<\/td>\n",
       "      <td>None<\/td>\n",
       "      <td>323<\/td>\n",
       "      <td>70<\/td>\n",
       "      <td>45<\/td>\n",
       "      <td>48<\/td>\n",
       "      <td>60<\/td>\n",
       "      <td>65<\/td>\n",
       "      <td>35<\/td>\n",
       "      <td>Fairy<\/td>\n",
       "    <\/tr>\n",
       "    <tr>\n",
       "      <th>41<\/th>\n",
       "      <td>Clefable<\/td>\n",
       "      <td>Fairy<\/td>\n",
       "      <td>None<\/td>\n",
       "      <td>483<\/td>\n",
       "      <td>95<\/td>\n",
       "      <td>70<\/td>\n",
       "      <td>73<\/td>\n",
       "      <td>95<\/td>\n",
       "      <td>90<\/td>\n",
       "      <td>60<\/td>\n",
       "      <td>Fairy<\/td>\n",
       "    <\/tr>\n",
       "    <tr>\n",
       "      <th>44<\/th>\n",
       "      <td>Jigglypuff<\/td>\n",
       "      <td>Normal<\/td>\n",
       "      <td>Fairy<\/td>\n",
       "      <td>270<\/td>\n",
       "      <td>115<\/td>\n",
       "      <td>45<\/td>\n",
       "      <td>20<\/td>\n",
       "      <td>45<\/td>\n",
       "      <td>25<\/td>\n",
       "      <td>20<\/td>\n",
       "      <td>Fairy<\/td>\n",
       "    <\/tr>\n",
       "    <tr>\n",
       "      <th>45<\/th>\n",
       "      <td>Wigglytuff<\/td>\n",
       "      <td>Normal<\/td>\n",
       "      <td>Fairy<\/td>\n",
       "      <td>435<\/td>\n",
       "      <td>140<\/td>\n",
       "      <td>70<\/td>\n",
       "      <td>45<\/td>\n",
       "      <td>85<\/td>\n",
       "      <td>50<\/td>\n",
       "      <td>45<\/td>\n",
       "      <td>Fairy<\/td>\n",
       "    <\/tr>\n",
       "    <tr>\n",
       "      <th>131<\/th>\n",
       "      <td>Mr Mime<\/td>\n",
       "      <td>Psychic<\/td>\n",
       "      <td>Fairy<\/td>\n",
       "      <td>460<\/td>\n",
       "      <td>40<\/td>\n",
       "      <td>45<\/td>\n",
       "      <td>65<\/td>\n",
       "      <td>100<\/td>\n",
       "      <td>120<\/td>\n",
       "      <td>90<\/td>\n",
       "      <td>Fairy<\/td>\n",
       "    <\/tr>\n",
       "    <tr>\n",
       "      <th>...<\/th>\n",
       "      <td>...<\/td>\n",
       "      <td>...<\/td>\n",
       "      <td>...<\/td>\n",
       "      <td>...<\/td>\n",
       "      <td>...<\/td>\n",
       "      <td>...<\/td>\n",
       "      <td>...<\/td>\n",
       "      <td>...<\/td>\n",
       "      <td>...<\/td>\n",
       "      <td>...<\/td>\n",
       "      <td>...<\/td>\n",
       "    <\/tr>\n",
       "    <tr>\n",
       "      <th>790<\/th>\n",
       "      <td>Noibat<\/td>\n",
       "      <td>Flying<\/td>\n",
       "      <td>Dragon<\/td>\n",
       "      <td>245<\/td>\n",
       "      <td>40<\/td>\n",
       "      <td>30<\/td>\n",
       "      <td>35<\/td>\n",
       "      <td>45<\/td>\n",
       "      <td>40<\/td>\n",
       "      <td>55<\/td>\n",
       "      <td>Dragon<\/td>\n",
       "    <\/tr>\n",
       "    <tr>\n",
       "      <th>791<\/th>\n",
       "      <td>Noivern<\/td>\n",
       "      <td>Flying<\/td>\n",
       "      <td>Dragon<\/td>\n",
       "      <td>535<\/td>\n",
       "      <td>85<\/td>\n",
       "      <td>70<\/td>\n",
       "      <td>80<\/td>\n",
       "      <td>97<\/td>\n",
       "      <td>80<\/td>\n",
       "      <td>123<\/td>\n",
       "      <td>Dragon<\/td>\n",
       "    <\/tr>\n",
       "    <tr>\n",
       "      <th>792<\/th>\n",
       "      <td>Xerneas<\/td>\n",
       "      <td>Fairy<\/td>\n",
       "      <td>None<\/td>\n",
       "      <td>680<\/td>\n",
       "      <td>126<\/td>\n",
       "      <td>131<\/td>\n",
       "      <td>95<\/td>\n",
       "      <td>131<\/td>\n",
       "      <td>98<\/td>\n",
       "      <td>99<\/td>\n",
       "      <td>Fairy<\/td>\n",
       "    <\/tr>\n",
       "    <tr>\n",
       "      <th>794<\/th>\n",
       "      <td>Zygarde Form<\/td>\n",
       "      <td>Dragon<\/td>\n",
       "      <td>Ground<\/td>\n",
       "      <td>600<\/td>\n",
       "      <td>108<\/td>\n",
       "      <td>100<\/td>\n",
       "      <td>121<\/td>\n",
       "      <td>81<\/td>\n",
       "      <td>95<\/td>\n",
       "      <td>95<\/td>\n",
       "      <td>Dragon<\/td>\n",
       "    <\/tr>\n",
       "    <tr>\n",
       "      <th>795<\/th>\n",
       "      <td>Diancie<\/td>\n",
       "      <td>Rock<\/td>\n",
       "      <td>Fairy<\/td>\n",
       "      <td>600<\/td>\n",
       "      <td>50<\/td>\n",
       "      <td>100<\/td>\n",
       "      <td>150<\/td>\n",
       "      <td>100<\/td>\n",
       "      <td>150<\/td>\n",
       "      <td>50<\/td>\n",
       "      <td>Fairy<\/td>\n",
       "    <\/tr>\n",
       "  <\/tbody>\n",
       "<\/table>\n",
       "<p>76 rows × 11 columns<\/p>\n",
       "<\/div>"
      ]
     },
     "metadata":{
      
     },
     "output_type":"display_data"
    }
   ],
   "metadata":{
    "datalore":{
     "node_id":"DLBaD3JvAtseDdnpWT2U1y",
     "type":"CODE",
     "hide_input_from_viewers":false,
     "hide_output_from_viewers":false,
     "report_properties":{
      "y":426
     }
    }
   }
  },
  {
   "cell_type":"code",
   "source":[
    "# Visualize the count of dragon type versus fairy type pokemon.\n",
    "\n",
    "sns.countplot(data=binary_dragon_fairy,\n",
    "              x='Dragon_or_fairy')\n",
    "plt.xlabel('Pokemon Type')\n",
    "plt.ylabel('Number of Pokemon')\n",
    "plt.title('Number of Pokemon Per Type')\n",
    "plt.show()"
   ],
   "execution_count":39,
   "outputs":[
    {
     "data":{
      "image\/png":"[encoded data removed]"
     },
     "metadata":{
      "image\/png":{
       
      }
     },
     "output_type":"display_data"
    }
   ],
   "metadata":{
    "datalore":{
     "node_id":"KDtQmQQWTzzdas4alj03a8",
     "type":"CODE",
     "hide_input_from_viewers":false,
     "hide_output_from_viewers":false,
     "report_properties":{
      "y":439
     }
    }
   }
  },
  {
   "cell_type":"code",
   "source":[
    "# Comparing dragon and fairy type total stats.\n",
    "sns.histplot(data=binary_dragon_fairy,\n",
    "             x='Total',\n",
    "             hue='Dragon_or_fairy',\n",
    "             legend=False,\n",
    "             alpha=0.65)\n",
    "plt.legend(title='Pokemon Type', labels=['Fairy', 'Dragon'])\n",
    "plt.title('Summary Stats of Dragon and Fairy Type Pokemon')\n",
    "plt.xlabel('Pokemon Summary Stats')\n",
    "plt.show()\n",
    "\n",
    "# Fairy type pokemon trend toward the upper limit when it comes to their summary stats. Dragon type stats are more spread out.\n",
    "# Fairy types may tend to be glass cannons, while dragon types may be more tanky."
   ],
   "execution_count":40,
   "outputs":[
    {
     "data":{
      "image\/png":"[encoded data removed]"
     },
     "metadata":{
      "image\/png":{
       
      }
     },
     "output_type":"display_data"
    }
   ],
   "metadata":{
    "datalore":{
     "node_id":"mRZr8S5M3HRJl9pvnKot4u",
     "type":"CODE",
     "hide_input_from_viewers":false,
     "hide_output_from_viewers":false,
     "report_properties":{
      "y":460
     }
    }
   }
  },
  {
   "cell_type":"code",
   "source":[
    "# Compare dragon type Attack to fairy type Attack\n",
    "sns.barplot(data=binary_dragon_fairy,\n",
    "            x=binary_dragon_fairy.Dragon_or_fairy,\n",
    "            y=binary_dragon_fairy.Attack,\n",
    "            capsize=0.5)\n",
    "plt.xlabel('Pokemon Type')\n",
    "plt.title('Attack Comparisions')\n",
    "plt.show()"
   ],
   "execution_count":41,
   "outputs":[
    {
     "data":{
      "image\/png":"[encoded data removed]"
     },
     "metadata":{
      "image\/png":{
       
      }
     },
     "output_type":"display_data"
    }
   ],
   "metadata":{
    "datalore":{
     "node_id":"kE0XN2GMmoSgAEOdhwTdWD",
     "type":"CODE",
     "hide_input_from_viewers":false,
     "hide_output_from_viewers":false,
     "report_properties":{
      "y":484
     }
    }
   }
  },
  {
   "cell_type":"code",
   "source":[
    "# Compare their special attack stats.\n",
    "sns.barplot(data=binary_dragon_fairy,\n",
    "            x=binary_dragon_fairy.Dragon_or_fairy,\n",
    "            y=binary_dragon_fairy['Sp. Atk'],\n",
    "            capsize=0.5)\n",
    "plt.xlabel('Pokemon Type')\n",
    "plt.title('Special Attack Comparisions')\n",
    "plt.show()"
   ],
   "execution_count":42,
   "outputs":[
    {
     "data":{
      "image\/png":"[encoded data removed]"
     },
     "metadata":{
      "image\/png":{
       
      }
     },
     "output_type":"display_data"
    }
   ],
   "metadata":{
    "datalore":{
     "node_id":"15PkFGwz8m5nUesAL11U0v",
     "type":"CODE",
     "hide_input_from_viewers":false,
     "hide_output_from_viewers":false,
     "report_properties":{
      "y":505
     }
    }
   }
  },
  {
   "cell_type":"code",
   "source":[
    "binary_dragon_fairy"
   ],
   "execution_count":43,
   "outputs":[
    {
     "data":{
      "text\/html":[
       "<div>\n",
       "<style scoped>\n",
       "    .dataframe tbody tr th:only-of-type {\n",
       "        vertical-align: middle;\n",
       "    }\n",
       "\n",
       "    .dataframe tbody tr th {\n",
       "        vertical-align: top;\n",
       "    }\n",
       "\n",
       "    .dataframe thead th {\n",
       "        text-align: right;\n",
       "    }\n",
       "<\/style>\n",
       "<table border=\"1\" class=\"dataframe\">\n",
       "  <thead>\n",
       "    <tr style=\"text-align: right;\">\n",
       "      <th><\/th>\n",
       "      <th>Name<\/th>\n",
       "      <th>Type 1<\/th>\n",
       "      <th>Type 2<\/th>\n",
       "      <th>Total<\/th>\n",
       "      <th>HP<\/th>\n",
       "      <th>Attack<\/th>\n",
       "      <th>Defense<\/th>\n",
       "      <th>Sp. Atk<\/th>\n",
       "      <th>Sp. Def<\/th>\n",
       "      <th>Speed<\/th>\n",
       "      <th>Dragon_or_fairy<\/th>\n",
       "    <\/tr>\n",
       "  <\/thead>\n",
       "  <tbody>\n",
       "    <tr>\n",
       "      <th>40<\/th>\n",
       "      <td>Clefairy<\/td>\n",
       "      <td>Fairy<\/td>\n",
       "      <td>None<\/td>\n",
       "      <td>323<\/td>\n",
       "      <td>70<\/td>\n",
       "      <td>45<\/td>\n",
       "      <td>48<\/td>\n",
       "      <td>60<\/td>\n",
       "      <td>65<\/td>\n",
       "      <td>35<\/td>\n",
       "      <td>Fairy<\/td>\n",
       "    <\/tr>\n",
       "    <tr>\n",
       "      <th>41<\/th>\n",
       "      <td>Clefable<\/td>\n",
       "      <td>Fairy<\/td>\n",
       "      <td>None<\/td>\n",
       "      <td>483<\/td>\n",
       "      <td>95<\/td>\n",
       "      <td>70<\/td>\n",
       "      <td>73<\/td>\n",
       "      <td>95<\/td>\n",
       "      <td>90<\/td>\n",
       "      <td>60<\/td>\n",
       "      <td>Fairy<\/td>\n",
       "    <\/tr>\n",
       "    <tr>\n",
       "      <th>44<\/th>\n",
       "      <td>Jigglypuff<\/td>\n",
       "      <td>Normal<\/td>\n",
       "      <td>Fairy<\/td>\n",
       "      <td>270<\/td>\n",
       "      <td>115<\/td>\n",
       "      <td>45<\/td>\n",
       "      <td>20<\/td>\n",
       "      <td>45<\/td>\n",
       "      <td>25<\/td>\n",
       "      <td>20<\/td>\n",
       "      <td>Fairy<\/td>\n",
       "    <\/tr>\n",
       "    <tr>\n",
       "      <th>45<\/th>\n",
       "      <td>Wigglytuff<\/td>\n",
       "      <td>Normal<\/td>\n",
       "      <td>Fairy<\/td>\n",
       "      <td>435<\/td>\n",
       "      <td>140<\/td>\n",
       "      <td>70<\/td>\n",
       "      <td>45<\/td>\n",
       "      <td>85<\/td>\n",
       "      <td>50<\/td>\n",
       "      <td>45<\/td>\n",
       "      <td>Fairy<\/td>\n",
       "    <\/tr>\n",
       "    <tr>\n",
       "      <th>131<\/th>\n",
       "      <td>Mr Mime<\/td>\n",
       "      <td>Psychic<\/td>\n",
       "      <td>Fairy<\/td>\n",
       "      <td>460<\/td>\n",
       "      <td>40<\/td>\n",
       "      <td>45<\/td>\n",
       "      <td>65<\/td>\n",
       "      <td>100<\/td>\n",
       "      <td>120<\/td>\n",
       "      <td>90<\/td>\n",
       "      <td>Fairy<\/td>\n",
       "    <\/tr>\n",
       "    <tr>\n",
       "      <th>...<\/th>\n",
       "      <td>...<\/td>\n",
       "      <td>...<\/td>\n",
       "      <td>...<\/td>\n",
       "      <td>...<\/td>\n",
       "      <td>...<\/td>\n",
       "      <td>...<\/td>\n",
       "      <td>...<\/td>\n",
       "      <td>...<\/td>\n",
       "      <td>...<\/td>\n",
       "      <td>...<\/td>\n",
       "      <td>...<\/td>\n",
       "    <\/tr>\n",
       "    <tr>\n",
       "      <th>790<\/th>\n",
       "      <td>Noibat<\/td>\n",
       "      <td>Flying<\/td>\n",
       "      <td>Dragon<\/td>\n",
       "      <td>245<\/td>\n",
       "      <td>40<\/td>\n",
       "      <td>30<\/td>\n",
       "      <td>35<\/td>\n",
       "      <td>45<\/td>\n",
       "      <td>40<\/td>\n",
       "      <td>55<\/td>\n",
       "      <td>Dragon<\/td>\n",
       "    <\/tr>\n",
       "    <tr>\n",
       "      <th>791<\/th>\n",
       "      <td>Noivern<\/td>\n",
       "      <td>Flying<\/td>\n",
       "      <td>Dragon<\/td>\n",
       "      <td>535<\/td>\n",
       "      <td>85<\/td>\n",
       "      <td>70<\/td>\n",
       "      <td>80<\/td>\n",
       "      <td>97<\/td>\n",
       "      <td>80<\/td>\n",
       "      <td>123<\/td>\n",
       "      <td>Dragon<\/td>\n",
       "    <\/tr>\n",
       "    <tr>\n",
       "      <th>792<\/th>\n",
       "      <td>Xerneas<\/td>\n",
       "      <td>Fairy<\/td>\n",
       "      <td>None<\/td>\n",
       "      <td>680<\/td>\n",
       "      <td>126<\/td>\n",
       "      <td>131<\/td>\n",
       "      <td>95<\/td>\n",
       "      <td>131<\/td>\n",
       "      <td>98<\/td>\n",
       "      <td>99<\/td>\n",
       "      <td>Fairy<\/td>\n",
       "    <\/tr>\n",
       "    <tr>\n",
       "      <th>794<\/th>\n",
       "      <td>Zygarde Form<\/td>\n",
       "      <td>Dragon<\/td>\n",
       "      <td>Ground<\/td>\n",
       "      <td>600<\/td>\n",
       "      <td>108<\/td>\n",
       "      <td>100<\/td>\n",
       "      <td>121<\/td>\n",
       "      <td>81<\/td>\n",
       "      <td>95<\/td>\n",
       "      <td>95<\/td>\n",
       "      <td>Dragon<\/td>\n",
       "    <\/tr>\n",
       "    <tr>\n",
       "      <th>795<\/th>\n",
       "      <td>Diancie<\/td>\n",
       "      <td>Rock<\/td>\n",
       "      <td>Fairy<\/td>\n",
       "      <td>600<\/td>\n",
       "      <td>50<\/td>\n",
       "      <td>100<\/td>\n",
       "      <td>150<\/td>\n",
       "      <td>100<\/td>\n",
       "      <td>150<\/td>\n",
       "      <td>50<\/td>\n",
       "      <td>Fairy<\/td>\n",
       "    <\/tr>\n",
       "  <\/tbody>\n",
       "<\/table>\n",
       "<p>76 rows × 11 columns<\/p>\n",
       "<\/div>"
      ]
     },
     "metadata":{
      
     },
     "output_type":"display_data"
    }
   ],
   "metadata":{
    "datalore":{
     "node_id":"jZGVzQ72hW2BBuVAY0DiSE",
     "type":"CODE",
     "hide_input_from_viewers":false,
     "hide_output_from_viewers":false,
     "report_properties":{
      "y":526
     }
    }
   }
  },
  {
   "cell_type":"code",
   "source":[
    "# Compare HP\n",
    "sns.barplot(data=binary_dragon_fairy,\n",
    "            x=binary_dragon_fairy.Dragon_or_fairy,\n",
    "            y=binary_dragon_fairy['HP'],\n",
    "            capsize=0.5)\n",
    "plt.xlabel('Pokemon Type')\n",
    "plt.title('Hit Point Comparisions')\n",
    "plt.show()"
   ],
   "execution_count":44,
   "outputs":[
    {
     "data":{
      "image\/png":"[encoded data removed]"
     },
     "metadata":{
      "image\/png":{
       
      }
     },
     "output_type":"display_data"
    }
   ],
   "metadata":{
    "datalore":{
     "node_id":"Uu7DZ42m4mdIz9v1EZy8DF",
     "type":"CODE",
     "hide_input_from_viewers":false,
     "hide_output_from_viewers":false,
     "report_properties":{
      "y":539
     }
    }
   }
  },
  {
   "cell_type":"code",
   "source":[
    "# Compare defense.\n",
    "sns.barplot(data=binary_dragon_fairy,\n",
    "            x=binary_dragon_fairy.Dragon_or_fairy,\n",
    "            y=binary_dragon_fairy['Defense'],\n",
    "            capsize=0.5)\n",
    "plt.xlabel('Pokemon Type')\n",
    "plt.title('Special Attack Comparisions')\n",
    "plt.show()"
   ],
   "execution_count":45,
   "outputs":[
    {
     "data":{
      "image\/png":"[encoded data removed]"
     },
     "metadata":{
      "image\/png":{
       
      }
     },
     "output_type":"display_data"
    }
   ],
   "metadata":{
    "datalore":{
     "node_id":"3boNrchTiwVj277ASjxSNn",
     "type":"CODE",
     "hide_input_from_viewers":false,
     "hide_output_from_viewers":false,
     "report_properties":{
      "y":560
     }
    }
   }
  },
  {
   "cell_type":"code",
   "source":[
    "binary_dragon_fairy"
   ],
   "execution_count":46,
   "outputs":[
    {
     "data":{
      "text\/html":[
       "<div>\n",
       "<style scoped>\n",
       "    .dataframe tbody tr th:only-of-type {\n",
       "        vertical-align: middle;\n",
       "    }\n",
       "\n",
       "    .dataframe tbody tr th {\n",
       "        vertical-align: top;\n",
       "    }\n",
       "\n",
       "    .dataframe thead th {\n",
       "        text-align: right;\n",
       "    }\n",
       "<\/style>\n",
       "<table border=\"1\" class=\"dataframe\">\n",
       "  <thead>\n",
       "    <tr style=\"text-align: right;\">\n",
       "      <th><\/th>\n",
       "      <th>Name<\/th>\n",
       "      <th>Type 1<\/th>\n",
       "      <th>Type 2<\/th>\n",
       "      <th>Total<\/th>\n",
       "      <th>HP<\/th>\n",
       "      <th>Attack<\/th>\n",
       "      <th>Defense<\/th>\n",
       "      <th>Sp. Atk<\/th>\n",
       "      <th>Sp. Def<\/th>\n",
       "      <th>Speed<\/th>\n",
       "      <th>Dragon_or_fairy<\/th>\n",
       "    <\/tr>\n",
       "  <\/thead>\n",
       "  <tbody>\n",
       "    <tr>\n",
       "      <th>40<\/th>\n",
       "      <td>Clefairy<\/td>\n",
       "      <td>Fairy<\/td>\n",
       "      <td>None<\/td>\n",
       "      <td>323<\/td>\n",
       "      <td>70<\/td>\n",
       "      <td>45<\/td>\n",
       "      <td>48<\/td>\n",
       "      <td>60<\/td>\n",
       "      <td>65<\/td>\n",
       "      <td>35<\/td>\n",
       "      <td>Fairy<\/td>\n",
       "    <\/tr>\n",
       "    <tr>\n",
       "      <th>41<\/th>\n",
       "      <td>Clefable<\/td>\n",
       "      <td>Fairy<\/td>\n",
       "      <td>None<\/td>\n",
       "      <td>483<\/td>\n",
       "      <td>95<\/td>\n",
       "      <td>70<\/td>\n",
       "      <td>73<\/td>\n",
       "      <td>95<\/td>\n",
       "      <td>90<\/td>\n",
       "      <td>60<\/td>\n",
       "      <td>Fairy<\/td>\n",
       "    <\/tr>\n",
       "    <tr>\n",
       "      <th>44<\/th>\n",
       "      <td>Jigglypuff<\/td>\n",
       "      <td>Normal<\/td>\n",
       "      <td>Fairy<\/td>\n",
       "      <td>270<\/td>\n",
       "      <td>115<\/td>\n",
       "      <td>45<\/td>\n",
       "      <td>20<\/td>\n",
       "      <td>45<\/td>\n",
       "      <td>25<\/td>\n",
       "      <td>20<\/td>\n",
       "      <td>Fairy<\/td>\n",
       "    <\/tr>\n",
       "    <tr>\n",
       "      <th>45<\/th>\n",
       "      <td>Wigglytuff<\/td>\n",
       "      <td>Normal<\/td>\n",
       "      <td>Fairy<\/td>\n",
       "      <td>435<\/td>\n",
       "      <td>140<\/td>\n",
       "      <td>70<\/td>\n",
       "      <td>45<\/td>\n",
       "      <td>85<\/td>\n",
       "      <td>50<\/td>\n",
       "      <td>45<\/td>\n",
       "      <td>Fairy<\/td>\n",
       "    <\/tr>\n",
       "    <tr>\n",
       "      <th>131<\/th>\n",
       "      <td>Mr Mime<\/td>\n",
       "      <td>Psychic<\/td>\n",
       "      <td>Fairy<\/td>\n",
       "      <td>460<\/td>\n",
       "      <td>40<\/td>\n",
       "      <td>45<\/td>\n",
       "      <td>65<\/td>\n",
       "      <td>100<\/td>\n",
       "      <td>120<\/td>\n",
       "      <td>90<\/td>\n",
       "      <td>Fairy<\/td>\n",
       "    <\/tr>\n",
       "    <tr>\n",
       "      <th>...<\/th>\n",
       "      <td>...<\/td>\n",
       "      <td>...<\/td>\n",
       "      <td>...<\/td>\n",
       "      <td>...<\/td>\n",
       "      <td>...<\/td>\n",
       "      <td>...<\/td>\n",
       "      <td>...<\/td>\n",
       "      <td>...<\/td>\n",
       "      <td>...<\/td>\n",
       "      <td>...<\/td>\n",
       "      <td>...<\/td>\n",
       "    <\/tr>\n",
       "    <tr>\n",
       "      <th>790<\/th>\n",
       "      <td>Noibat<\/td>\n",
       "      <td>Flying<\/td>\n",
       "      <td>Dragon<\/td>\n",
       "      <td>245<\/td>\n",
       "      <td>40<\/td>\n",
       "      <td>30<\/td>\n",
       "      <td>35<\/td>\n",
       "      <td>45<\/td>\n",
       "      <td>40<\/td>\n",
       "      <td>55<\/td>\n",
       "      <td>Dragon<\/td>\n",
       "    <\/tr>\n",
       "    <tr>\n",
       "      <th>791<\/th>\n",
       "      <td>Noivern<\/td>\n",
       "      <td>Flying<\/td>\n",
       "      <td>Dragon<\/td>\n",
       "      <td>535<\/td>\n",
       "      <td>85<\/td>\n",
       "      <td>70<\/td>\n",
       "      <td>80<\/td>\n",
       "      <td>97<\/td>\n",
       "      <td>80<\/td>\n",
       "      <td>123<\/td>\n",
       "      <td>Dragon<\/td>\n",
       "    <\/tr>\n",
       "    <tr>\n",
       "      <th>792<\/th>\n",
       "      <td>Xerneas<\/td>\n",
       "      <td>Fairy<\/td>\n",
       "      <td>None<\/td>\n",
       "      <td>680<\/td>\n",
       "      <td>126<\/td>\n",
       "      <td>131<\/td>\n",
       "      <td>95<\/td>\n",
       "      <td>131<\/td>\n",
       "      <td>98<\/td>\n",
       "      <td>99<\/td>\n",
       "      <td>Fairy<\/td>\n",
       "    <\/tr>\n",
       "    <tr>\n",
       "      <th>794<\/th>\n",
       "      <td>Zygarde Form<\/td>\n",
       "      <td>Dragon<\/td>\n",
       "      <td>Ground<\/td>\n",
       "      <td>600<\/td>\n",
       "      <td>108<\/td>\n",
       "      <td>100<\/td>\n",
       "      <td>121<\/td>\n",
       "      <td>81<\/td>\n",
       "      <td>95<\/td>\n",
       "      <td>95<\/td>\n",
       "      <td>Dragon<\/td>\n",
       "    <\/tr>\n",
       "    <tr>\n",
       "      <th>795<\/th>\n",
       "      <td>Diancie<\/td>\n",
       "      <td>Rock<\/td>\n",
       "      <td>Fairy<\/td>\n",
       "      <td>600<\/td>\n",
       "      <td>50<\/td>\n",
       "      <td>100<\/td>\n",
       "      <td>150<\/td>\n",
       "      <td>100<\/td>\n",
       "      <td>150<\/td>\n",
       "      <td>50<\/td>\n",
       "      <td>Fairy<\/td>\n",
       "    <\/tr>\n",
       "  <\/tbody>\n",
       "<\/table>\n",
       "<p>76 rows × 11 columns<\/p>\n",
       "<\/div>"
      ]
     },
     "metadata":{
      
     },
     "output_type":"display_data"
    }
   ],
   "metadata":{
    "datalore":{
     "node_id":"uS1SJA06DdNDmeoWWy38ds",
     "type":"CODE",
     "hide_input_from_viewers":false,
     "hide_output_from_viewers":false,
     "report_properties":{
      "y":581
     }
    }
   }
  },
  {
   "cell_type":"code",
   "source":[
    "# Bringing the stats together.\n",
    "fig, axes = plt.subplots(2, 2, figsize=(10,10))\n",
    "\n",
    "sns.barplot(data=binary_dragon_fairy, x=\"Dragon_or_fairy\", y=\"HP\", ax=axes[0,0])\n",
    "sns.barplot(data=binary_dragon_fairy, x=\"Dragon_or_fairy\", y=\"Defense\", ax=axes[0,1])\n",
    "sns.barplot(data=binary_dragon_fairy, x=\"Dragon_or_fairy\", y=\"Sp. Atk\", ax=axes[1,0])\n",
    "sns.barplot(data=binary_dragon_fairy, x=\"Dragon_or_fairy\", y=\"Attack\", ax=axes[1,1])\n",
    "\n",
    "axes[0,0].set_xlabel('Pokemon Type')\n",
    "axes[0,1].set_xlabel('Pokemon Type')\n",
    "axes[1,0].set_xlabel('Pokemon Type')\n",
    "axes[1,1].set_xlabel('Pokemon Type')\n",
    "\n",
    "plt.suptitle('Fairy and Dragon Stats Comparison')\n",
    "plt.show()"
   ],
   "execution_count":47,
   "outputs":[
    {
     "data":{
      "image\/png":"[encoded data removed]"
     },
     "metadata":{
      "image\/png":{
       
      }
     },
     "output_type":"display_data"
    }
   ],
   "metadata":{
    "datalore":{
     "node_id":"wGjQnBGrB4TQ5jcm9NPyyH",
     "type":"CODE",
     "hide_input_from_viewers":false,
     "hide_output_from_viewers":false,
     "report_properties":{
      "y":584
     }
    }
   }
  },
  {
   "cell_type":"markdown",
   "source":[
    "It seems that in almost every avenue, the dragon type pokemon outclasses the fairy type pokemon. "
   ],
   "attachments":{
    
   },
   "metadata":{
    "datalore":{
     "node_id":"4RpxGqQUNesuSWG1nNe4p8",
     "type":"MD",
     "hide_input_from_viewers":false,
     "hide_output_from_viewers":false,
     "report_properties":{
      "y":587
     }
    }
   }
  },
  {
   "cell_type":"code",
   "source":[
    "sns.countplot(data=fairy, x=fairy['Type 1'])\n",
    "plt.show()\n"
   ],
   "execution_count":48,
   "outputs":[
    {
     "data":{
      "image\/png":"[encoded data removed]"
     },
     "metadata":{
      "image\/png":{
       
      }
     },
     "output_type":"display_data"
    }
   ],
   "metadata":{
    "datalore":{
     "node_id":"Z2dzStNwL9GUbQHGq5XTVO",
     "type":"CODE",
     "hide_input_from_viewers":false,
     "hide_output_from_viewers":false,
     "report_properties":{
      "y":590
     }
    }
   }
  },
  {
   "cell_type":"code",
   "source":[
    "sns.countplot(data=fairy, x=fairy['Type 2'])\n",
    "plt.show()"
   ],
   "execution_count":49,
   "outputs":[
    {
     "data":{
      "image\/png":"[encoded data removed]"
     },
     "metadata":{
      "image\/png":{
       
      }
     },
     "output_type":"display_data"
    }
   ],
   "metadata":{
    "datalore":{
     "node_id":"AI41boCyP75KLGeU8VIlsO",
     "type":"CODE",
     "hide_input_from_viewers":false,
     "hide_output_from_viewers":false,
     "report_properties":{
      "y":593
     }
    }
   }
  },
  {
   "cell_type":"code",
   "source":[
    "# Type 1 counts\n",
    "fairy[fairy['Type 1'] == 'Psychic'].count() #5\n",
    "fairy[fairy['Type 1'] == 'Normal'].count() #4\n",
    "fairy[fairy['Type 1'] == 'Water'].count() #2\n",
    "fairy[fairy['Type 1'] == 'Steel'].count() #2\n",
    "fairy[fairy['Type 1'] == 'Grass'].count() #2\n",
    "fairy[fairy['Type 1'] == 'Electric'].count() #1\n",
    "fairy[fairy['Type 1'] == 'Rock'].count() #2\n",
    "\n",
    "# Type 2 counts\n",
    "fairy[fairy['Type 2'] == 'None'].count() #15\n",
    "fairy[fairy['Type 2'] == 'Flying'].count() #2\n",
    "\n",
    "# Validating data\n",
    "5 + 4 + (2 * 3) + 1 + 2 + 15 + 2\n",
    "\n",
    "# Creating data for treemap\n",
    "labels = ['Psychic', 'Normal', 'Water', 'Steel', 'Grass', 'Electric', 'Rock', 'None', 'Flying']\n",
    "fairy_nums = [5, 4, 2, 2, 2, 1, 2, 15, 2]"
   ],
   "execution_count":50,
   "outputs":[
    
   ],
   "metadata":{
    "datalore":{
     "node_id":"AqoEojvF4G0i2MuxML1tlM",
     "type":"CODE",
     "hide_input_from_viewers":false,
     "hide_output_from_viewers":false,
     "report_properties":{
      "y":596
     }
    }
   }
  },
  {
   "cell_type":"code",
   "source":[
    "# Looking squarely at fairy type pokemon and their subtypes.\n",
    "squarify.plot(sizes=fairy_nums, label=labels, color=sns.color_palette('Spectral',len(fairy_nums)))\n",
    "plt.axis('off')\n",
    "plt.suptitle('Spread of Fairy Subtypes')\n",
    "plt.show()\n",
    "\n",
    "# Most fairy types are pure fairy types."
   ],
   "execution_count":51,
   "outputs":[
    {
     "data":{
      "image\/png":"[encoded data removed]"
     },
     "metadata":{
      "image\/png":{
       
      }
     },
     "output_type":"display_data"
    }
   ],
   "metadata":{
    "datalore":{
     "node_id":"EQKyzlwia9sz6b4gtoDGH6",
     "type":"CODE",
     "hide_input_from_viewers":false,
     "hide_output_from_viewers":false,
     "report_properties":{
      "y":599
     }
    }
   }
  },
  {
   "cell_type":"code",
   "source":[
    "fairy"
   ],
   "execution_count":52,
   "outputs":[
    {
     "data":{
      "text\/html":[
       "<div>\n",
       "<style scoped>\n",
       "    .dataframe tbody tr th:only-of-type {\n",
       "        vertical-align: middle;\n",
       "    }\n",
       "\n",
       "    .dataframe tbody tr th {\n",
       "        vertical-align: top;\n",
       "    }\n",
       "\n",
       "    .dataframe thead th {\n",
       "        text-align: right;\n",
       "    }\n",
       "<\/style>\n",
       "<table border=\"1\" class=\"dataframe\">\n",
       "  <thead>\n",
       "    <tr style=\"text-align: right;\">\n",
       "      <th><\/th>\n",
       "      <th>Name<\/th>\n",
       "      <th>Type 1<\/th>\n",
       "      <th>Type 2<\/th>\n",
       "      <th>Total<\/th>\n",
       "      <th>HP<\/th>\n",
       "      <th>Attack<\/th>\n",
       "      <th>Defense<\/th>\n",
       "      <th>Sp. Atk<\/th>\n",
       "      <th>Sp. Def<\/th>\n",
       "      <th>Speed<\/th>\n",
       "    <\/tr>\n",
       "  <\/thead>\n",
       "  <tbody>\n",
       "    <tr>\n",
       "      <th>40<\/th>\n",
       "      <td>Clefairy<\/td>\n",
       "      <td>Fairy<\/td>\n",
       "      <td>None<\/td>\n",
       "      <td>323<\/td>\n",
       "      <td>70<\/td>\n",
       "      <td>45<\/td>\n",
       "      <td>48<\/td>\n",
       "      <td>60<\/td>\n",
       "      <td>65<\/td>\n",
       "      <td>35<\/td>\n",
       "    <\/tr>\n",
       "    <tr>\n",
       "      <th>41<\/th>\n",
       "      <td>Clefable<\/td>\n",
       "      <td>Fairy<\/td>\n",
       "      <td>None<\/td>\n",
       "      <td>483<\/td>\n",
       "      <td>95<\/td>\n",
       "      <td>70<\/td>\n",
       "      <td>73<\/td>\n",
       "      <td>95<\/td>\n",
       "      <td>90<\/td>\n",
       "      <td>60<\/td>\n",
       "    <\/tr>\n",
       "    <tr>\n",
       "      <th>44<\/th>\n",
       "      <td>Jigglypuff<\/td>\n",
       "      <td>Normal<\/td>\n",
       "      <td>Fairy<\/td>\n",
       "      <td>270<\/td>\n",
       "      <td>115<\/td>\n",
       "      <td>45<\/td>\n",
       "      <td>20<\/td>\n",
       "      <td>45<\/td>\n",
       "      <td>25<\/td>\n",
       "      <td>20<\/td>\n",
       "    <\/tr>\n",
       "    <tr>\n",
       "      <th>45<\/th>\n",
       "      <td>Wigglytuff<\/td>\n",
       "      <td>Normal<\/td>\n",
       "      <td>Fairy<\/td>\n",
       "      <td>435<\/td>\n",
       "      <td>140<\/td>\n",
       "      <td>70<\/td>\n",
       "      <td>45<\/td>\n",
       "      <td>85<\/td>\n",
       "      <td>50<\/td>\n",
       "      <td>45<\/td>\n",
       "    <\/tr>\n",
       "    <tr>\n",
       "      <th>131<\/th>\n",
       "      <td>Mr Mime<\/td>\n",
       "      <td>Psychic<\/td>\n",
       "      <td>Fairy<\/td>\n",
       "      <td>460<\/td>\n",
       "      <td>40<\/td>\n",
       "      <td>45<\/td>\n",
       "      <td>65<\/td>\n",
       "      <td>100<\/td>\n",
       "      <td>120<\/td>\n",
       "      <td>90<\/td>\n",
       "    <\/tr>\n",
       "    <tr>\n",
       "      <th>187<\/th>\n",
       "      <td>Cleffa<\/td>\n",
       "      <td>Fairy<\/td>\n",
       "      <td>None<\/td>\n",
       "      <td>218<\/td>\n",
       "      <td>50<\/td>\n",
       "      <td>25<\/td>\n",
       "      <td>28<\/td>\n",
       "      <td>45<\/td>\n",
       "      <td>55<\/td>\n",
       "      <td>15<\/td>\n",
       "    <\/tr>\n",
       "    <tr>\n",
       "      <th>188<\/th>\n",
       "      <td>Igglybuff<\/td>\n",
       "      <td>Normal<\/td>\n",
       "      <td>Fairy<\/td>\n",
       "      <td>210<\/td>\n",
       "      <td>90<\/td>\n",
       "      <td>30<\/td>\n",
       "      <td>15<\/td>\n",
       "      <td>40<\/td>\n",
       "      <td>20<\/td>\n",
       "      <td>15<\/td>\n",
       "    <\/tr>\n",
       "    <tr>\n",
       "      <th>189<\/th>\n",
       "      <td>Togepi<\/td>\n",
       "      <td>Fairy<\/td>\n",
       "      <td>None<\/td>\n",
       "      <td>245<\/td>\n",
       "      <td>35<\/td>\n",
       "      <td>20<\/td>\n",
       "      <td>65<\/td>\n",
       "      <td>40<\/td>\n",
       "      <td>65<\/td>\n",
       "      <td>20<\/td>\n",
       "    <\/tr>\n",
       "    <tr>\n",
       "      <th>190<\/th>\n",
       "      <td>Togetic<\/td>\n",
       "      <td>Fairy<\/td>\n",
       "      <td>Flying<\/td>\n",
       "      <td>405<\/td>\n",
       "      <td>55<\/td>\n",
       "      <td>40<\/td>\n",
       "      <td>85<\/td>\n",
       "      <td>80<\/td>\n",
       "      <td>105<\/td>\n",
       "      <td>40<\/td>\n",
       "    <\/tr>\n",
       "    <tr>\n",
       "      <th>198<\/th>\n",
       "      <td>Marill<\/td>\n",
       "      <td>Water<\/td>\n",
       "      <td>Fairy<\/td>\n",
       "      <td>250<\/td>\n",
       "      <td>70<\/td>\n",
       "      <td>20<\/td>\n",
       "      <td>50<\/td>\n",
       "      <td>20<\/td>\n",
       "      <td>50<\/td>\n",
       "      <td>40<\/td>\n",
       "    <\/tr>\n",
       "    <tr>\n",
       "      <th>199<\/th>\n",
       "      <td>Azumarill<\/td>\n",
       "      <td>Water<\/td>\n",
       "      <td>Fairy<\/td>\n",
       "      <td>420<\/td>\n",
       "      <td>100<\/td>\n",
       "      <td>50<\/td>\n",
       "      <td>80<\/td>\n",
       "      <td>60<\/td>\n",
       "      <td>80<\/td>\n",
       "      <td>50<\/td>\n",
       "    <\/tr>\n",
       "    <tr>\n",
       "      <th>225<\/th>\n",
       "      <td>Snubbull<\/td>\n",
       "      <td>Fairy<\/td>\n",
       "      <td>None<\/td>\n",
       "      <td>300<\/td>\n",
       "      <td>60<\/td>\n",
       "      <td>80<\/td>\n",
       "      <td>50<\/td>\n",
       "      <td>40<\/td>\n",
       "      <td>40<\/td>\n",
       "      <td>30<\/td>\n",
       "    <\/tr>\n",
       "    <tr>\n",
       "      <th>226<\/th>\n",
       "      <td>Granbull<\/td>\n",
       "      <td>Fairy<\/td>\n",
       "      <td>None<\/td>\n",
       "      <td>450<\/td>\n",
       "      <td>90<\/td>\n",
       "      <td>120<\/td>\n",
       "      <td>75<\/td>\n",
       "      <td>60<\/td>\n",
       "      <td>60<\/td>\n",
       "      <td>45<\/td>\n",
       "    <\/tr>\n",
       "    <tr>\n",
       "      <th>303<\/th>\n",
       "      <td>Ralts<\/td>\n",
       "      <td>Psychic<\/td>\n",
       "      <td>Fairy<\/td>\n",
       "      <td>198<\/td>\n",
       "      <td>28<\/td>\n",
       "      <td>25<\/td>\n",
       "      <td>25<\/td>\n",
       "      <td>45<\/td>\n",
       "      <td>35<\/td>\n",
       "      <td>40<\/td>\n",
       "    <\/tr>\n",
       "    <tr>\n",
       "      <th>304<\/th>\n",
       "      <td>Kirlia<\/td>\n",
       "      <td>Psychic<\/td>\n",
       "      <td>Fairy<\/td>\n",
       "      <td>278<\/td>\n",
       "      <td>38<\/td>\n",
       "      <td>35<\/td>\n",
       "      <td>35<\/td>\n",
       "      <td>65<\/td>\n",
       "      <td>55<\/td>\n",
       "      <td>50<\/td>\n",
       "    <\/tr>\n",
       "    <tr>\n",
       "      <th>305<\/th>\n",
       "      <td>Gardevoir<\/td>\n",
       "      <td>Psychic<\/td>\n",
       "      <td>Fairy<\/td>\n",
       "      <td>518<\/td>\n",
       "      <td>68<\/td>\n",
       "      <td>65<\/td>\n",
       "      <td>65<\/td>\n",
       "      <td>125<\/td>\n",
       "      <td>115<\/td>\n",
       "      <td>80<\/td>\n",
       "    <\/tr>\n",
       "    <tr>\n",
       "      <th>322<\/th>\n",
       "      <td>Azurill<\/td>\n",
       "      <td>Normal<\/td>\n",
       "      <td>Fairy<\/td>\n",
       "      <td>190<\/td>\n",
       "      <td>50<\/td>\n",
       "      <td>20<\/td>\n",
       "      <td>40<\/td>\n",
       "      <td>20<\/td>\n",
       "      <td>40<\/td>\n",
       "      <td>20<\/td>\n",
       "    <\/tr>\n",
       "    <tr>\n",
       "      <th>328<\/th>\n",
       "      <td>Mawile<\/td>\n",
       "      <td>Steel<\/td>\n",
       "      <td>Fairy<\/td>\n",
       "      <td>380<\/td>\n",
       "      <td>50<\/td>\n",
       "      <td>85<\/td>\n",
       "      <td>85<\/td>\n",
       "      <td>55<\/td>\n",
       "      <td>55<\/td>\n",
       "      <td>50<\/td>\n",
       "    <\/tr>\n",
       "    <tr>\n",
       "      <th>487<\/th>\n",
       "      <td>Mime Jr<\/td>\n",
       "      <td>Psychic<\/td>\n",
       "      <td>Fairy<\/td>\n",
       "      <td>310<\/td>\n",
       "      <td>20<\/td>\n",
       "      <td>25<\/td>\n",
       "      <td>45<\/td>\n",
       "      <td>70<\/td>\n",
       "      <td>90<\/td>\n",
       "      <td>60<\/td>\n",
       "    <\/tr>\n",
       "    <tr>\n",
       "      <th>519<\/th>\n",
       "      <td>Togekiss<\/td>\n",
       "      <td>Fairy<\/td>\n",
       "      <td>Flying<\/td>\n",
       "      <td>545<\/td>\n",
       "      <td>85<\/td>\n",
       "      <td>50<\/td>\n",
       "      <td>95<\/td>\n",
       "      <td>120<\/td>\n",
       "      <td>115<\/td>\n",
       "      <td>80<\/td>\n",
       "    <\/tr>\n",
       "    <tr>\n",
       "      <th>606<\/th>\n",
       "      <td>Cottonee<\/td>\n",
       "      <td>Grass<\/td>\n",
       "      <td>Fairy<\/td>\n",
       "      <td>280<\/td>\n",
       "      <td>40<\/td>\n",
       "      <td>27<\/td>\n",
       "      <td>60<\/td>\n",
       "      <td>37<\/td>\n",
       "      <td>50<\/td>\n",
       "      <td>66<\/td>\n",
       "    <\/tr>\n",
       "    <tr>\n",
       "      <th>607<\/th>\n",
       "      <td>Whimsicott<\/td>\n",
       "      <td>Grass<\/td>\n",
       "      <td>Fairy<\/td>\n",
       "      <td>480<\/td>\n",
       "      <td>60<\/td>\n",
       "      <td>67<\/td>\n",
       "      <td>85<\/td>\n",
       "      <td>77<\/td>\n",
       "      <td>75<\/td>\n",
       "      <td>116<\/td>\n",
       "    <\/tr>\n",
       "    <tr>\n",
       "      <th>737<\/th>\n",
       "      <td>Flabébé<\/td>\n",
       "      <td>Fairy<\/td>\n",
       "      <td>None<\/td>\n",
       "      <td>303<\/td>\n",
       "      <td>44<\/td>\n",
       "      <td>38<\/td>\n",
       "      <td>39<\/td>\n",
       "      <td>61<\/td>\n",
       "      <td>79<\/td>\n",
       "      <td>42<\/td>\n",
       "    <\/tr>\n",
       "    <tr>\n",
       "      <th>738<\/th>\n",
       "      <td>Floette<\/td>\n",
       "      <td>Fairy<\/td>\n",
       "      <td>None<\/td>\n",
       "      <td>371<\/td>\n",
       "      <td>54<\/td>\n",
       "      <td>45<\/td>\n",
       "      <td>47<\/td>\n",
       "      <td>75<\/td>\n",
       "      <td>98<\/td>\n",
       "      <td>52<\/td>\n",
       "    <\/tr>\n",
       "    <tr>\n",
       "      <th>739<\/th>\n",
       "      <td>Florges<\/td>\n",
       "      <td>Fairy<\/td>\n",
       "      <td>None<\/td>\n",
       "      <td>552<\/td>\n",
       "      <td>78<\/td>\n",
       "      <td>65<\/td>\n",
       "      <td>68<\/td>\n",
       "      <td>112<\/td>\n",
       "      <td>154<\/td>\n",
       "      <td>75<\/td>\n",
       "    <\/tr>\n",
       "    <tr>\n",
       "      <th>752<\/th>\n",
       "      <td>Spritzee<\/td>\n",
       "      <td>Fairy<\/td>\n",
       "      <td>None<\/td>\n",
       "      <td>341<\/td>\n",
       "      <td>78<\/td>\n",
       "      <td>52<\/td>\n",
       "      <td>60<\/td>\n",
       "      <td>63<\/td>\n",
       "      <td>65<\/td>\n",
       "      <td>23<\/td>\n",
       "    <\/tr>\n",
       "    <tr>\n",
       "      <th>753<\/th>\n",
       "      <td>Aromatisse<\/td>\n",
       "      <td>Fairy<\/td>\n",
       "      <td>None<\/td>\n",
       "      <td>462<\/td>\n",
       "      <td>101<\/td>\n",
       "      <td>72<\/td>\n",
       "      <td>72<\/td>\n",
       "      <td>99<\/td>\n",
       "      <td>89<\/td>\n",
       "      <td>29<\/td>\n",
       "    <\/tr>\n",
       "    <tr>\n",
       "      <th>754<\/th>\n",
       "      <td>Swirlix<\/td>\n",
       "      <td>Fairy<\/td>\n",
       "      <td>None<\/td>\n",
       "      <td>341<\/td>\n",
       "      <td>62<\/td>\n",
       "      <td>48<\/td>\n",
       "      <td>66<\/td>\n",
       "      <td>59<\/td>\n",
       "      <td>57<\/td>\n",
       "      <td>49<\/td>\n",
       "    <\/tr>\n",
       "    <tr>\n",
       "      <th>755<\/th>\n",
       "      <td>Slurpuff<\/td>\n",
       "      <td>Fairy<\/td>\n",
       "      <td>None<\/td>\n",
       "      <td>480<\/td>\n",
       "      <td>82<\/td>\n",
       "      <td>80<\/td>\n",
       "      <td>86<\/td>\n",
       "      <td>85<\/td>\n",
       "      <td>75<\/td>\n",
       "      <td>72<\/td>\n",
       "    <\/tr>\n",
       "    <tr>\n",
       "      <th>770<\/th>\n",
       "      <td>Sylveon<\/td>\n",
       "      <td>Fairy<\/td>\n",
       "      <td>None<\/td>\n",
       "      <td>525<\/td>\n",
       "      <td>95<\/td>\n",
       "      <td>65<\/td>\n",
       "      <td>65<\/td>\n",
       "      <td>110<\/td>\n",
       "      <td>130<\/td>\n",
       "      <td>60<\/td>\n",
       "    <\/tr>\n",
       "    <tr>\n",
       "      <th>772<\/th>\n",
       "      <td>Dedenne<\/td>\n",
       "      <td>Electric<\/td>\n",
       "      <td>Fairy<\/td>\n",
       "      <td>431<\/td>\n",
       "      <td>67<\/td>\n",
       "      <td>58<\/td>\n",
       "      <td>57<\/td>\n",
       "      <td>81<\/td>\n",
       "      <td>67<\/td>\n",
       "      <td>101<\/td>\n",
       "    <\/tr>\n",
       "    <tr>\n",
       "      <th>773<\/th>\n",
       "      <td>Carbink<\/td>\n",
       "      <td>Rock<\/td>\n",
       "      <td>Fairy<\/td>\n",
       "      <td>500<\/td>\n",
       "      <td>50<\/td>\n",
       "      <td>50<\/td>\n",
       "      <td>150<\/td>\n",
       "      <td>50<\/td>\n",
       "      <td>150<\/td>\n",
       "      <td>50<\/td>\n",
       "    <\/tr>\n",
       "    <tr>\n",
       "      <th>777<\/th>\n",
       "      <td>Klefki<\/td>\n",
       "      <td>Steel<\/td>\n",
       "      <td>Fairy<\/td>\n",
       "      <td>470<\/td>\n",
       "      <td>57<\/td>\n",
       "      <td>80<\/td>\n",
       "      <td>91<\/td>\n",
       "      <td>80<\/td>\n",
       "      <td>87<\/td>\n",
       "      <td>75<\/td>\n",
       "    <\/tr>\n",
       "    <tr>\n",
       "      <th>792<\/th>\n",
       "      <td>Xerneas<\/td>\n",
       "      <td>Fairy<\/td>\n",
       "      <td>None<\/td>\n",
       "      <td>680<\/td>\n",
       "      <td>126<\/td>\n",
       "      <td>131<\/td>\n",
       "      <td>95<\/td>\n",
       "      <td>131<\/td>\n",
       "      <td>98<\/td>\n",
       "      <td>99<\/td>\n",
       "    <\/tr>\n",
       "    <tr>\n",
       "      <th>795<\/th>\n",
       "      <td>Diancie<\/td>\n",
       "      <td>Rock<\/td>\n",
       "      <td>Fairy<\/td>\n",
       "      <td>600<\/td>\n",
       "      <td>50<\/td>\n",
       "      <td>100<\/td>\n",
       "      <td>150<\/td>\n",
       "      <td>100<\/td>\n",
       "      <td>150<\/td>\n",
       "      <td>50<\/td>\n",
       "    <\/tr>\n",
       "  <\/tbody>\n",
       "<\/table>\n",
       "<\/div>"
      ]
     },
     "metadata":{
      
     },
     "output_type":"display_data"
    }
   ],
   "metadata":{
    "datalore":{
     "node_id":"JDztCVW0Wth1Orj3oFof88",
     "type":"CODE",
     "hide_input_from_viewers":false,
     "hide_output_from_viewers":false,
     "report_properties":{
      "y":602
     }
    }
   }
  },
  {
   "cell_type":"code",
   "source":[
    "# What do the stats look like among the normal fairy types?\n",
    "\n",
    "# Create a new fairy dataframe and drop the total column\n",
    "pure_fairy = fairy.drop(['Total'], axis=1)"
   ],
   "execution_count":53,
   "outputs":[
    
   ],
   "metadata":{
    "datalore":{
     "node_id":"0T98Hp4gZm0kqkZSUHlNWP",
     "type":"CODE",
     "hide_input_from_viewers":false,
     "hide_output_from_viewers":false,
     "report_properties":{
      "y":605
     }
    }
   }
  },
  {
   "cell_type":"code",
   "source":[
    "# Filter the dataframe to only include pure fairy types\n",
    "pure_fairy = pure_fairy[(pure_fairy['Type 1'] == 'None') | (pure_fairy['Type 2'] == 'None')]"
   ],
   "execution_count":54,
   "outputs":[
    
   ],
   "metadata":{
    "datalore":{
     "node_id":"QPMi7pgJMPhnnvsNMSVSaO",
     "type":"CODE",
     "hide_input_from_viewers":false,
     "hide_output_from_viewers":false,
     "report_properties":{
      "y":608
     }
    }
   }
  },
  {
   "cell_type":"code",
   "source":[
    "pure_fairy"
   ],
   "execution_count":55,
   "outputs":[
    {
     "data":{
      "text\/html":[
       "<div>\n",
       "<style scoped>\n",
       "    .dataframe tbody tr th:only-of-type {\n",
       "        vertical-align: middle;\n",
       "    }\n",
       "\n",
       "    .dataframe tbody tr th {\n",
       "        vertical-align: top;\n",
       "    }\n",
       "\n",
       "    .dataframe thead th {\n",
       "        text-align: right;\n",
       "    }\n",
       "<\/style>\n",
       "<table border=\"1\" class=\"dataframe\">\n",
       "  <thead>\n",
       "    <tr style=\"text-align: right;\">\n",
       "      <th><\/th>\n",
       "      <th>Name<\/th>\n",
       "      <th>Type 1<\/th>\n",
       "      <th>Type 2<\/th>\n",
       "      <th>HP<\/th>\n",
       "      <th>Attack<\/th>\n",
       "      <th>Defense<\/th>\n",
       "      <th>Sp. Atk<\/th>\n",
       "      <th>Sp. Def<\/th>\n",
       "      <th>Speed<\/th>\n",
       "    <\/tr>\n",
       "  <\/thead>\n",
       "  <tbody>\n",
       "    <tr>\n",
       "      <th>40<\/th>\n",
       "      <td>Clefairy<\/td>\n",
       "      <td>Fairy<\/td>\n",
       "      <td>None<\/td>\n",
       "      <td>70<\/td>\n",
       "      <td>45<\/td>\n",
       "      <td>48<\/td>\n",
       "      <td>60<\/td>\n",
       "      <td>65<\/td>\n",
       "      <td>35<\/td>\n",
       "    <\/tr>\n",
       "    <tr>\n",
       "      <th>41<\/th>\n",
       "      <td>Clefable<\/td>\n",
       "      <td>Fairy<\/td>\n",
       "      <td>None<\/td>\n",
       "      <td>95<\/td>\n",
       "      <td>70<\/td>\n",
       "      <td>73<\/td>\n",
       "      <td>95<\/td>\n",
       "      <td>90<\/td>\n",
       "      <td>60<\/td>\n",
       "    <\/tr>\n",
       "    <tr>\n",
       "      <th>187<\/th>\n",
       "      <td>Cleffa<\/td>\n",
       "      <td>Fairy<\/td>\n",
       "      <td>None<\/td>\n",
       "      <td>50<\/td>\n",
       "      <td>25<\/td>\n",
       "      <td>28<\/td>\n",
       "      <td>45<\/td>\n",
       "      <td>55<\/td>\n",
       "      <td>15<\/td>\n",
       "    <\/tr>\n",
       "    <tr>\n",
       "      <th>189<\/th>\n",
       "      <td>Togepi<\/td>\n",
       "      <td>Fairy<\/td>\n",
       "      <td>None<\/td>\n",
       "      <td>35<\/td>\n",
       "      <td>20<\/td>\n",
       "      <td>65<\/td>\n",
       "      <td>40<\/td>\n",
       "      <td>65<\/td>\n",
       "      <td>20<\/td>\n",
       "    <\/tr>\n",
       "    <tr>\n",
       "      <th>225<\/th>\n",
       "      <td>Snubbull<\/td>\n",
       "      <td>Fairy<\/td>\n",
       "      <td>None<\/td>\n",
       "      <td>60<\/td>\n",
       "      <td>80<\/td>\n",
       "      <td>50<\/td>\n",
       "      <td>40<\/td>\n",
       "      <td>40<\/td>\n",
       "      <td>30<\/td>\n",
       "    <\/tr>\n",
       "    <tr>\n",
       "      <th>226<\/th>\n",
       "      <td>Granbull<\/td>\n",
       "      <td>Fairy<\/td>\n",
       "      <td>None<\/td>\n",
       "      <td>90<\/td>\n",
       "      <td>120<\/td>\n",
       "      <td>75<\/td>\n",
       "      <td>60<\/td>\n",
       "      <td>60<\/td>\n",
       "      <td>45<\/td>\n",
       "    <\/tr>\n",
       "    <tr>\n",
       "      <th>737<\/th>\n",
       "      <td>Flabébé<\/td>\n",
       "      <td>Fairy<\/td>\n",
       "      <td>None<\/td>\n",
       "      <td>44<\/td>\n",
       "      <td>38<\/td>\n",
       "      <td>39<\/td>\n",
       "      <td>61<\/td>\n",
       "      <td>79<\/td>\n",
       "      <td>42<\/td>\n",
       "    <\/tr>\n",
       "    <tr>\n",
       "      <th>738<\/th>\n",
       "      <td>Floette<\/td>\n",
       "      <td>Fairy<\/td>\n",
       "      <td>None<\/td>\n",
       "      <td>54<\/td>\n",
       "      <td>45<\/td>\n",
       "      <td>47<\/td>\n",
       "      <td>75<\/td>\n",
       "      <td>98<\/td>\n",
       "      <td>52<\/td>\n",
       "    <\/tr>\n",
       "    <tr>\n",
       "      <th>739<\/th>\n",
       "      <td>Florges<\/td>\n",
       "      <td>Fairy<\/td>\n",
       "      <td>None<\/td>\n",
       "      <td>78<\/td>\n",
       "      <td>65<\/td>\n",
       "      <td>68<\/td>\n",
       "      <td>112<\/td>\n",
       "      <td>154<\/td>\n",
       "      <td>75<\/td>\n",
       "    <\/tr>\n",
       "    <tr>\n",
       "      <th>752<\/th>\n",
       "      <td>Spritzee<\/td>\n",
       "      <td>Fairy<\/td>\n",
       "      <td>None<\/td>\n",
       "      <td>78<\/td>\n",
       "      <td>52<\/td>\n",
       "      <td>60<\/td>\n",
       "      <td>63<\/td>\n",
       "      <td>65<\/td>\n",
       "      <td>23<\/td>\n",
       "    <\/tr>\n",
       "    <tr>\n",
       "      <th>753<\/th>\n",
       "      <td>Aromatisse<\/td>\n",
       "      <td>Fairy<\/td>\n",
       "      <td>None<\/td>\n",
       "      <td>101<\/td>\n",
       "      <td>72<\/td>\n",
       "      <td>72<\/td>\n",
       "      <td>99<\/td>\n",
       "      <td>89<\/td>\n",
       "      <td>29<\/td>\n",
       "    <\/tr>\n",
       "    <tr>\n",
       "      <th>754<\/th>\n",
       "      <td>Swirlix<\/td>\n",
       "      <td>Fairy<\/td>\n",
       "      <td>None<\/td>\n",
       "      <td>62<\/td>\n",
       "      <td>48<\/td>\n",
       "      <td>66<\/td>\n",
       "      <td>59<\/td>\n",
       "      <td>57<\/td>\n",
       "      <td>49<\/td>\n",
       "    <\/tr>\n",
       "    <tr>\n",
       "      <th>755<\/th>\n",
       "      <td>Slurpuff<\/td>\n",
       "      <td>Fairy<\/td>\n",
       "      <td>None<\/td>\n",
       "      <td>82<\/td>\n",
       "      <td>80<\/td>\n",
       "      <td>86<\/td>\n",
       "      <td>85<\/td>\n",
       "      <td>75<\/td>\n",
       "      <td>72<\/td>\n",
       "    <\/tr>\n",
       "    <tr>\n",
       "      <th>770<\/th>\n",
       "      <td>Sylveon<\/td>\n",
       "      <td>Fairy<\/td>\n",
       "      <td>None<\/td>\n",
       "      <td>95<\/td>\n",
       "      <td>65<\/td>\n",
       "      <td>65<\/td>\n",
       "      <td>110<\/td>\n",
       "      <td>130<\/td>\n",
       "      <td>60<\/td>\n",
       "    <\/tr>\n",
       "    <tr>\n",
       "      <th>792<\/th>\n",
       "      <td>Xerneas<\/td>\n",
       "      <td>Fairy<\/td>\n",
       "      <td>None<\/td>\n",
       "      <td>126<\/td>\n",
       "      <td>131<\/td>\n",
       "      <td>95<\/td>\n",
       "      <td>131<\/td>\n",
       "      <td>98<\/td>\n",
       "      <td>99<\/td>\n",
       "    <\/tr>\n",
       "  <\/tbody>\n",
       "<\/table>\n",
       "<\/div>"
      ]
     },
     "metadata":{
      
     },
     "output_type":"display_data"
    }
   ],
   "metadata":{
    "datalore":{
     "node_id":"Jdqt9XILa00Qt09k1oUwBh",
     "type":"CODE",
     "hide_input_from_viewers":false,
     "hide_output_from_viewers":false,
     "report_properties":{
      "y":611
     }
    }
   }
  },
  {
   "cell_type":"code",
   "source":[
    "# Compare the stats of the pure fairies.\n",
    "\n",
    "sns.violinplot(data=pure_fairy,\n",
    "               scale='count')\n",
    "plt.title('Pure Fairy Type Stat Summary')\n",
    "plt.ylabel('Count')\n",
    "plt.show()\n",
    "\n",
    "# Their highest stat is special defense."
   ],
   "execution_count":56,
   "outputs":[
    {
     "data":{
      "image\/png":"[encoded data removed]"
     },
     "metadata":{
      "image\/png":{
       
      }
     },
     "output_type":"display_data"
    }
   ],
   "metadata":{
    "datalore":{
     "node_id":"hty406uK3oefIfg2gD4UQN",
     "type":"CODE",
     "hide_input_from_viewers":false,
     "hide_output_from_viewers":false,
     "report_properties":{
      "y":614
     }
    }
   }
  },
  {
   "cell_type":"code",
   "source":[
    "# How do pure fairy types size up against the other fairy tyles?\n",
    "# Create a new dataframe that tags pure fairy types\n",
    "\n",
    "# Dropping the Total column\n",
    "pure_fairy_labels = fairy.drop(['Total'], axis=1)"
   ],
   "execution_count":57,
   "outputs":[
    
   ],
   "metadata":{
    "datalore":{
     "node_id":"cfUqbXx4LF62AJxeLMULvp",
     "type":"CODE",
     "hide_input_from_viewers":false,
     "hide_output_from_viewers":false,
     "report_properties":{
      "y":617
     }
    }
   }
  },
  {
   "cell_type":"code",
   "source":[
    "# Creating a new column.\n",
    "pure_fairy_labels['Pure Fairy Type?'] = np.where((fairy['Type 1'] == 'None') \n",
    "                                                 | (fairy['Type 2'] == 'None'), 'Yes', 'No')"
   ],
   "execution_count":58,
   "outputs":[
    
   ],
   "metadata":{
    "datalore":{
     "node_id":"J77KpIfIIE5V21ikABqczs",
     "type":"CODE",
     "hide_input_from_viewers":false,
     "hide_output_from_viewers":false,
     "report_properties":{
      "y":620
     }
    }
   }
  },
  {
   "cell_type":"code",
   "source":[
    "pure_fairy_labels[pure_fairy_labels['Pure Fairy Type?'] == 'Yes'].count()"
   ],
   "execution_count":59,
   "outputs":[
    {
     "data":{
      "text\/html":[
       "<pre>Name                15\n",
       "Type 1              15\n",
       "Type 2              15\n",
       "HP                  15\n",
       "Attack              15\n",
       "Defense             15\n",
       "Sp. Atk             15\n",
       "Sp. Def             15\n",
       "Speed               15\n",
       "Pure Fairy Type?    15\n",
       "dtype: int64<\/pre>"
      ]
     },
     "metadata":{
      
     },
     "output_type":"display_data"
    }
   ],
   "metadata":{
    "datalore":{
     "node_id":"5mDF8M76syUllRgopHgGt2",
     "type":"CODE",
     "hide_input_from_viewers":false,
     "hide_output_from_viewers":false,
     "report_properties":{
      "y":623
     }
    }
   }
  },
  {
   "cell_type":"code",
   "source":[
    "fig, axes = plt.subplots(1,2, figsize=(15,7))\n",
    "\n",
    "sns.violinplot(data=pure_fairy_labels[pure_fairy_labels['Pure Fairy Type?'] == 'No'],\n",
    "               ax=axes[0]).set(title='Other Fairy Types')\n",
    "sns.violinplot(data=pure_fairy_labels[pure_fairy_labels['Pure Fairy Type?'] == 'Yes'],\n",
    "               ax=axes[1]).set(title='Pure Fairy Types')\n",
    "\n",
    "plt.suptitle('Comparing Fairy Type Stats')\n",
    "axes[0].set_yticks([0,50,100,150])\n",
    "\n",
    "plt.show()\n",
    "\n",
    "# Other fairy types excel in HP, defense, and attack.\n",
    "# Pure fairy types excel at special attack, and special defense. They fall short in the defense area. "
   ],
   "execution_count":60,
   "outputs":[
    {
     "data":{
      "image\/png":"[encoded data removed]"
     },
     "metadata":{
      "image\/png":{
       
      }
     },
     "output_type":"display_data"
    }
   ],
   "metadata":{
    "datalore":{
     "node_id":"51inuyRrEaDll0Dz6YVYN8",
     "type":"CODE",
     "hide_input_from_viewers":false,
     "hide_output_from_viewers":false,
     "report_properties":{
      "y":626
     }
    }
   }
  },
  {
   "cell_type":"code",
   "source":[
    "# What is the strongest fairy type?\n",
    "\n",
    "# Use the Total column to find the strongest fairy type pokemon.\n",
    "max_num = max(fairy['Total']) # 680\n",
    "\n",
    "# Find the fairy type pokemon with the 680 Total number.\n",
    "strongest_fairy = fairy[fairy['Total'] == max_num] #Xerneas\n",
    "\n",
    "strongest_fairy"
   ],
   "execution_count":61,
   "outputs":[
    {
     "data":{
      "text\/html":[
       "<div>\n",
       "<style scoped>\n",
       "    .dataframe tbody tr th:only-of-type {\n",
       "        vertical-align: middle;\n",
       "    }\n",
       "\n",
       "    .dataframe tbody tr th {\n",
       "        vertical-align: top;\n",
       "    }\n",
       "\n",
       "    .dataframe thead th {\n",
       "        text-align: right;\n",
       "    }\n",
       "<\/style>\n",
       "<table border=\"1\" class=\"dataframe\">\n",
       "  <thead>\n",
       "    <tr style=\"text-align: right;\">\n",
       "      <th><\/th>\n",
       "      <th>Name<\/th>\n",
       "      <th>Type 1<\/th>\n",
       "      <th>Type 2<\/th>\n",
       "      <th>Total<\/th>\n",
       "      <th>HP<\/th>\n",
       "      <th>Attack<\/th>\n",
       "      <th>Defense<\/th>\n",
       "      <th>Sp. Atk<\/th>\n",
       "      <th>Sp. Def<\/th>\n",
       "      <th>Speed<\/th>\n",
       "    <\/tr>\n",
       "  <\/thead>\n",
       "  <tbody>\n",
       "    <tr>\n",
       "      <th>792<\/th>\n",
       "      <td>Xerneas<\/td>\n",
       "      <td>Fairy<\/td>\n",
       "      <td>None<\/td>\n",
       "      <td>680<\/td>\n",
       "      <td>126<\/td>\n",
       "      <td>131<\/td>\n",
       "      <td>95<\/td>\n",
       "      <td>131<\/td>\n",
       "      <td>98<\/td>\n",
       "      <td>99<\/td>\n",
       "    <\/tr>\n",
       "  <\/tbody>\n",
       "<\/table>\n",
       "<\/div>"
      ]
     },
     "metadata":{
      
     },
     "output_type":"display_data"
    }
   ],
   "metadata":{
    "datalore":{
     "node_id":"OAnYCOIE53KkehOuhKuUWB",
     "type":"CODE",
     "hide_input_from_viewers":false,
     "hide_output_from_viewers":false,
     "report_properties":{
      "y":629
     }
    }
   }
  },
  {
   "cell_type":"code",
   "source":[
    "# Make a radar chart for the strongest fairy type pokemon\n",
    "labels = np.array(['HP', 'Attack', 'Defense', 'Sp. Atk', 'Sp. Def', 'Speed'])\n",
    "\n",
    "# Change strongest fairy to a list.\n",
    "f_list = strongest_fairy.values.tolist()\n",
    "\n",
    "f_list_1 = f_list[0]\n",
    "\n",
    "# Slice the list to only include labels according to the array\n",
    "fairy_stats = f_list_1[4:10]\n",
    "\n",
    "f_list_1"
   ],
   "execution_count":62,
   "outputs":[
    {
     "data":{
      "text\/plain":[
       "['Xerneas', 'Fairy', 'None', 680, 126, 131, 95, 131, 98, 99]"
      ]
     },
     "metadata":{
      
     },
     "output_type":"display_data"
    }
   ],
   "metadata":{
    "datalore":{
     "node_id":"groUTPtVCpXcxbMgit4xsa",
     "type":"CODE",
     "hide_input_from_viewers":false,
     "hide_output_from_viewers":false,
     "report_properties":{
      "y":632
     }
    }
   }
  },
  {
   "cell_type":"code",
   "source":[
    "# Draw the radar chart.\n",
    "fig = px.line_polar(strongest_fairy, r=fairy_stats, theta=labels\n",
    "                    ,line_close=True, template='seaborn', title='Xerneas Stats', width=800, height=600,\n",
    "                    range_r=[0,160])\n",
    "fig.update_traces(fill='toself')\n",
    "\n",
    "fig.show()\n",
    "\n",
    "# Xerneas excels in HP, attack, and special attack."
   ],
   "execution_count":63,
   "outputs":[
    {
     "data":{
      "application\/vnd.plotly.v1+json":{
       "data":[
        {
         "hovertemplate":"r=%{r}<br>theta=%{theta}<extra><\/extra>",
         "legendgroup":"",
         "line":{
          "color":"rgb(76,114,176)",
          "dash":"solid"
         },
         "marker":{
          "symbol":"circle"
         },
         "mode":"lines",
         "name":"",
         "r":[
          126,
          131,
          95,
          131,
          98,
          99,
          126
         ],
         "showlegend":false,
         "subplot":"polar",
         "theta":[
          "HP",
          "Attack",
          "Defense",
          "Sp. Atk",
          "Sp. Def",
          "Speed",
          "HP"
         ],
         "type":"scatterpolar",
         "fill":"toself"
        }
       ],
       "layout":{
        "template":{
         "data":{
          "barpolar":[
           {
            "marker":{
             "line":{
              "color":"rgb(234,234,242)",
              "width":0.5
             },
             "pattern":{
              "fillmode":"overlay",
              "size":10,
              "solidity":0.2
             }
            },
            "type":"barpolar"
           }
          ],
          "bar":[
           {
            "error_x":{
             "color":"rgb(36,36,36)"
            },
            "error_y":{
             "color":"rgb(36,36,36)"
            },
            "marker":{
             "line":{
              "color":"rgb(234,234,242)",
              "width":0.5
             },
             "pattern":{
              "fillmode":"overlay",
              "size":10,
              "solidity":0.2
             }
            },
            "type":"bar"
           }
          ],
          "carpet":[
           {
            "aaxis":{
             "endlinecolor":"rgb(36,36,36)",
             "gridcolor":"white",
             "linecolor":"white",
             "minorgridcolor":"white",
             "startlinecolor":"rgb(36,36,36)"
            },
            "baxis":{
             "endlinecolor":"rgb(36,36,36)",
             "gridcolor":"white",
             "linecolor":"white",
             "minorgridcolor":"white",
             "startlinecolor":"rgb(36,36,36)"
            },
            "type":"carpet"
           }
          ],
          "choropleth":[
           {
            "colorbar":{
             "outlinewidth":0,
             "tickcolor":"rgb(36,36,36)",
             "ticklen":8,
             "ticks":"outside",
             "tickwidth":2
            },
            "type":"choropleth"
           }
          ],
          "contourcarpet":[
           {
            "colorbar":{
             "outlinewidth":0,
             "tickcolor":"rgb(36,36,36)",
             "ticklen":8,
             "ticks":"outside",
             "tickwidth":2
            },
            "type":"contourcarpet"
           }
          ],
          "contour":[
           {
            "colorbar":{
             "outlinewidth":0,
             "tickcolor":"rgb(36,36,36)",
             "ticklen":8,
             "ticks":"outside",
             "tickwidth":2
            },
            "colorscale":[
             [
              0,
              "rgb(2,4,25)"
             ],
             [
              0.06274509803921569,
              "rgb(24,15,41)"
             ],
             [
              0.12549019607843137,
              "rgb(47,23,57)"
             ],
             [
              0.18823529411764706,
              "rgb(71,28,72)"
             ],
             [
              0.25098039215686274,
              "rgb(97,30,82)"
             ],
             [
              0.3137254901960784,
              "rgb(123,30,89)"
             ],
             [
              0.3764705882352941,
              "rgb(150,27,91)"
             ],
             [
              0.4392156862745098,
              "rgb(177,22,88)"
             ],
             [
              0.5019607843137255,
              "rgb(203,26,79)"
             ],
             [
              0.5647058823529412,
              "rgb(223,47,67)"
             ],
             [
              0.6274509803921569,
              "rgb(236,76,61)"
             ],
             [
              0.6901960784313725,
              "rgb(242,107,73)"
             ],
             [
              0.7529411764705882,
              "rgb(244,135,95)"
             ],
             [
              0.8156862745098039,
              "rgb(245,162,122)"
             ],
             [
              0.8784313725490196,
              "rgb(246,188,153)"
             ],
             [
              0.9411764705882353,
              "rgb(247,212,187)"
             ],
             [
              1,
              "rgb(250,234,220)"
             ]
            ],
            "type":"contour"
           }
          ],
          "heatmapgl":[
           {
            "colorbar":{
             "outlinewidth":0,
             "tickcolor":"rgb(36,36,36)",
             "ticklen":8,
             "ticks":"outside",
             "tickwidth":2
            },
            "colorscale":[
             [
              0,
              "rgb(2,4,25)"
             ],
             [
              0.06274509803921569,
              "rgb(24,15,41)"
             ],
             [
              0.12549019607843137,
              "rgb(47,23,57)"
             ],
             [
              0.18823529411764706,
              "rgb(71,28,72)"
             ],
             [
              0.25098039215686274,
              "rgb(97,30,82)"
             ],
             [
              0.3137254901960784,
              "rgb(123,30,89)"
             ],
             [
              0.3764705882352941,
              "rgb(150,27,91)"
             ],
             [
              0.4392156862745098,
              "rgb(177,22,88)"
             ],
             [
              0.5019607843137255,
              "rgb(203,26,79)"
             ],
             [
              0.5647058823529412,
              "rgb(223,47,67)"
             ],
             [
              0.6274509803921569,
              "rgb(236,76,61)"
             ],
             [
              0.6901960784313725,
              "rgb(242,107,73)"
             ],
             [
              0.7529411764705882,
              "rgb(244,135,95)"
             ],
             [
              0.8156862745098039,
              "rgb(245,162,122)"
             ],
             [
              0.8784313725490196,
              "rgb(246,188,153)"
             ],
             [
              0.9411764705882353,
              "rgb(247,212,187)"
             ],
             [
              1,
              "rgb(250,234,220)"
             ]
            ],
            "type":"heatmapgl"
           }
          ],
          "heatmap":[
           {
            "colorbar":{
             "outlinewidth":0,
             "tickcolor":"rgb(36,36,36)",
             "ticklen":8,
             "ticks":"outside",
             "tickwidth":2
            },
            "colorscale":[
             [
              0,
              "rgb(2,4,25)"
             ],
             [
              0.06274509803921569,
              "rgb(24,15,41)"
             ],
             [
              0.12549019607843137,
              "rgb(47,23,57)"
             ],
             [
              0.18823529411764706,
              "rgb(71,28,72)"
             ],
             [
              0.25098039215686274,
              "rgb(97,30,82)"
             ],
             [
              0.3137254901960784,
              "rgb(123,30,89)"
             ],
             [
              0.3764705882352941,
              "rgb(150,27,91)"
             ],
             [
              0.4392156862745098,
              "rgb(177,22,88)"
             ],
             [
              0.5019607843137255,
              "rgb(203,26,79)"
             ],
             [
              0.5647058823529412,
              "rgb(223,47,67)"
             ],
             [
              0.6274509803921569,
              "rgb(236,76,61)"
             ],
             [
              0.6901960784313725,
              "rgb(242,107,73)"
             ],
             [
              0.7529411764705882,
              "rgb(244,135,95)"
             ],
             [
              0.8156862745098039,
              "rgb(245,162,122)"
             ],
             [
              0.8784313725490196,
              "rgb(246,188,153)"
             ],
             [
              0.9411764705882353,
              "rgb(247,212,187)"
             ],
             [
              1,
              "rgb(250,234,220)"
             ]
            ],
            "type":"heatmap"
           }
          ],
          "histogram2dcontour":[
           {
            "colorbar":{
             "outlinewidth":0,
             "tickcolor":"rgb(36,36,36)",
             "ticklen":8,
             "ticks":"outside",
             "tickwidth":2
            },
            "colorscale":[
             [
              0,
              "rgb(2,4,25)"
             ],
             [
              0.06274509803921569,
              "rgb(24,15,41)"
             ],
             [
              0.12549019607843137,
              "rgb(47,23,57)"
             ],
             [
              0.18823529411764706,
              "rgb(71,28,72)"
             ],
             [
              0.25098039215686274,
              "rgb(97,30,82)"
             ],
             [
              0.3137254901960784,
              "rgb(123,30,89)"
             ],
             [
              0.3764705882352941,
              "rgb(150,27,91)"
             ],
             [
              0.4392156862745098,
              "rgb(177,22,88)"
             ],
             [
              0.5019607843137255,
              "rgb(203,26,79)"
             ],
             [
              0.5647058823529412,
              "rgb(223,47,67)"
             ],
             [
              0.6274509803921569,
              "rgb(236,76,61)"
             ],
             [
              0.6901960784313725,
              "rgb(242,107,73)"
             ],
             [
              0.7529411764705882,
              "rgb(244,135,95)"
             ],
             [
              0.8156862745098039,
              "rgb(245,162,122)"
             ],
             [
              0.8784313725490196,
              "rgb(246,188,153)"
             ],
             [
              0.9411764705882353,
              "rgb(247,212,187)"
             ],
             [
              1,
              "rgb(250,234,220)"
             ]
            ],
            "type":"histogram2dcontour"
           }
          ],
          "histogram2d":[
           {
            "colorbar":{
             "outlinewidth":0,
             "tickcolor":"rgb(36,36,36)",
             "ticklen":8,
             "ticks":"outside",
             "tickwidth":2
            },
            "colorscale":[
             [
              0,
              "rgb(2,4,25)"
             ],
             [
              0.06274509803921569,
              "rgb(24,15,41)"
             ],
             [
              0.12549019607843137,
              "rgb(47,23,57)"
             ],
             [
              0.18823529411764706,
              "rgb(71,28,72)"
             ],
             [
              0.25098039215686274,
              "rgb(97,30,82)"
             ],
             [
              0.3137254901960784,
              "rgb(123,30,89)"
             ],
             [
              0.3764705882352941,
              "rgb(150,27,91)"
             ],
             [
              0.4392156862745098,
              "rgb(177,22,88)"
             ],
             [
              0.5019607843137255,
              "rgb(203,26,79)"
             ],
             [
              0.5647058823529412,
              "rgb(223,47,67)"
             ],
             [
              0.6274509803921569,
              "rgb(236,76,61)"
             ],
             [
              0.6901960784313725,
              "rgb(242,107,73)"
             ],
             [
              0.7529411764705882,
              "rgb(244,135,95)"
             ],
             [
              0.8156862745098039,
              "rgb(245,162,122)"
             ],
             [
              0.8784313725490196,
              "rgb(246,188,153)"
             ],
             [
              0.9411764705882353,
              "rgb(247,212,187)"
             ],
             [
              1,
              "rgb(250,234,220)"
             ]
            ],
            "type":"histogram2d"
           }
          ],
          "histogram":[
           {
            "marker":{
             "pattern":{
              "fillmode":"overlay",
              "size":10,
              "solidity":0.2
             }
            },
            "type":"histogram"
           }
          ],
          "mesh3d":[
           {
            "colorbar":{
             "outlinewidth":0,
             "tickcolor":"rgb(36,36,36)",
             "ticklen":8,
             "ticks":"outside",
             "tickwidth":2
            },
            "type":"mesh3d"
           }
          ],
          "parcoords":[
           {
            "line":{
             "colorbar":{
              "outlinewidth":0,
              "tickcolor":"rgb(36,36,36)",
              "ticklen":8,
              "ticks":"outside",
              "tickwidth":2
             }
            },
            "type":"parcoords"
           }
          ],
          "pie":[
           {
            "automargin":true,
            "type":"pie"
           }
          ],
          "scatter3d":[
           {
            "line":{
             "colorbar":{
              "outlinewidth":0,
              "tickcolor":"rgb(36,36,36)",
              "ticklen":8,
              "ticks":"outside",
              "tickwidth":2
             }
            },
            "marker":{
             "colorbar":{
              "outlinewidth":0,
              "tickcolor":"rgb(36,36,36)",
              "ticklen":8,
              "ticks":"outside",
              "tickwidth":2
             }
            },
            "type":"scatter3d"
           }
          ],
          "scattercarpet":[
           {
            "marker":{
             "colorbar":{
              "outlinewidth":0,
              "tickcolor":"rgb(36,36,36)",
              "ticklen":8,
              "ticks":"outside",
              "tickwidth":2
             }
            },
            "type":"scattercarpet"
           }
          ],
          "scattergeo":[
           {
            "marker":{
             "colorbar":{
              "outlinewidth":0,
              "tickcolor":"rgb(36,36,36)",
              "ticklen":8,
              "ticks":"outside",
              "tickwidth":2
             }
            },
            "type":"scattergeo"
           }
          ],
          "scattergl":[
           {
            "marker":{
             "colorbar":{
              "outlinewidth":0,
              "tickcolor":"rgb(36,36,36)",
              "ticklen":8,
              "ticks":"outside",
              "tickwidth":2
             }
            },
            "type":"scattergl"
           }
          ],
          "scattermapbox":[
           {
            "marker":{
             "colorbar":{
              "outlinewidth":0,
              "tickcolor":"rgb(36,36,36)",
              "ticklen":8,
              "ticks":"outside",
              "tickwidth":2
             }
            },
            "type":"scattermapbox"
           }
          ],
          "scatterpolargl":[
           {
            "marker":{
             "colorbar":{
              "outlinewidth":0,
              "tickcolor":"rgb(36,36,36)",
              "ticklen":8,
              "ticks":"outside",
              "tickwidth":2
             }
            },
            "type":"scatterpolargl"
           }
          ],
          "scatterpolar":[
           {
            "marker":{
             "colorbar":{
              "outlinewidth":0,
              "tickcolor":"rgb(36,36,36)",
              "ticklen":8,
              "ticks":"outside",
              "tickwidth":2
             }
            },
            "type":"scatterpolar"
           }
          ],
          "scatter":[
           {
            "marker":{
             "colorbar":{
              "outlinewidth":0,
              "tickcolor":"rgb(36,36,36)",
              "ticklen":8,
              "ticks":"outside",
              "tickwidth":2
             }
            },
            "type":"scatter"
           }
          ],
          "scatterternary":[
           {
            "marker":{
             "colorbar":{
              "outlinewidth":0,
              "tickcolor":"rgb(36,36,36)",
              "ticklen":8,
              "ticks":"outside",
              "tickwidth":2
             }
            },
            "type":"scatterternary"
           }
          ],
          "surface":[
           {
            "colorbar":{
             "outlinewidth":0,
             "tickcolor":"rgb(36,36,36)",
             "ticklen":8,
             "ticks":"outside",
             "tickwidth":2
            },
            "colorscale":[
             [
              0,
              "rgb(2,4,25)"
             ],
             [
              0.06274509803921569,
              "rgb(24,15,41)"
             ],
             [
              0.12549019607843137,
              "rgb(47,23,57)"
             ],
             [
              0.18823529411764706,
              "rgb(71,28,72)"
             ],
             [
              0.25098039215686274,
              "rgb(97,30,82)"
             ],
             [
              0.3137254901960784,
              "rgb(123,30,89)"
             ],
             [
              0.3764705882352941,
              "rgb(150,27,91)"
             ],
             [
              0.4392156862745098,
              "rgb(177,22,88)"
             ],
             [
              0.5019607843137255,
              "rgb(203,26,79)"
             ],
             [
              0.5647058823529412,
              "rgb(223,47,67)"
             ],
             [
              0.6274509803921569,
              "rgb(236,76,61)"
             ],
             [
              0.6901960784313725,
              "rgb(242,107,73)"
             ],
             [
              0.7529411764705882,
              "rgb(244,135,95)"
             ],
             [
              0.8156862745098039,
              "rgb(245,162,122)"
             ],
             [
              0.8784313725490196,
              "rgb(246,188,153)"
             ],
             [
              0.9411764705882353,
              "rgb(247,212,187)"
             ],
             [
              1,
              "rgb(250,234,220)"
             ]
            ],
            "type":"surface"
           }
          ],
          "table":[
           {
            "cells":{
             "fill":{
              "color":"rgb(231,231,240)"
             },
             "line":{
              "color":"white"
             }
            },
            "header":{
             "fill":{
              "color":"rgb(183,183,191)"
             },
             "line":{
              "color":"white"
             }
            },
            "type":"table"
           }
          ]
         },
         "layout":{
          "annotationdefaults":{
           "arrowcolor":"rgb(67,103,167)"
          },
          "autotypenumbers":"strict",
          "coloraxis":{
           "colorbar":{
            "outlinewidth":0,
            "tickcolor":"rgb(36,36,36)",
            "ticklen":8,
            "ticks":"outside",
            "tickwidth":2
           }
          },
          "colorscale":{
           "sequential":[
            [
             0,
             "rgb(2,4,25)"
            ],
            [
             0.06274509803921569,
             "rgb(24,15,41)"
            ],
            [
             0.12549019607843137,
             "rgb(47,23,57)"
            ],
            [
             0.18823529411764706,
             "rgb(71,28,72)"
            ],
            [
             0.25098039215686274,
             "rgb(97,30,82)"
            ],
            [
             0.3137254901960784,
             "rgb(123,30,89)"
            ],
            [
             0.3764705882352941,
             "rgb(150,27,91)"
            ],
            [
             0.4392156862745098,
             "rgb(177,22,88)"
            ],
            [
             0.5019607843137255,
             "rgb(203,26,79)"
            ],
            [
             0.5647058823529412,
             "rgb(223,47,67)"
            ],
            [
             0.6274509803921569,
             "rgb(236,76,61)"
            ],
            [
             0.6901960784313725,
             "rgb(242,107,73)"
            ],
            [
             0.7529411764705882,
             "rgb(244,135,95)"
            ],
            [
             0.8156862745098039,
             "rgb(245,162,122)"
            ],
            [
             0.8784313725490196,
             "rgb(246,188,153)"
            ],
            [
             0.9411764705882353,
             "rgb(247,212,187)"
            ],
            [
             1,
             "rgb(250,234,220)"
            ]
           ],
           "sequentialminus":[
            [
             0,
             "rgb(2,4,25)"
            ],
            [
             0.06274509803921569,
             "rgb(24,15,41)"
            ],
            [
             0.12549019607843137,
             "rgb(47,23,57)"
            ],
            [
             0.18823529411764706,
             "rgb(71,28,72)"
            ],
            [
             0.25098039215686274,
             "rgb(97,30,82)"
            ],
            [
             0.3137254901960784,
             "rgb(123,30,89)"
            ],
            [
             0.3764705882352941,
             "rgb(150,27,91)"
            ],
            [
             0.4392156862745098,
             "rgb(177,22,88)"
            ],
            [
             0.5019607843137255,
             "rgb(203,26,79)"
            ],
            [
             0.5647058823529412,
             "rgb(223,47,67)"
            ],
            [
             0.6274509803921569,
             "rgb(236,76,61)"
            ],
            [
             0.6901960784313725,
             "rgb(242,107,73)"
            ],
            [
             0.7529411764705882,
             "rgb(244,135,95)"
            ],
            [
             0.8156862745098039,
             "rgb(245,162,122)"
            ],
            [
             0.8784313725490196,
             "rgb(246,188,153)"
            ],
            [
             0.9411764705882353,
             "rgb(247,212,187)"
            ],
            [
             1,
             "rgb(250,234,220)"
            ]
           ]
          },
          "colorway":[
           "rgb(76,114,176)",
           "rgb(221,132,82)",
           "rgb(85,168,104)",
           "rgb(196,78,82)",
           "rgb(129,114,179)",
           "rgb(147,120,96)",
           "rgb(218,139,195)",
           "rgb(140,140,140)",
           "rgb(204,185,116)",
           "rgb(100,181,205)"
          ],
          "font":{
           "color":"rgb(36,36,36)"
          },
          "geo":{
           "bgcolor":"white",
           "lakecolor":"white",
           "landcolor":"rgb(234,234,242)",
           "showlakes":true,
           "showland":true,
           "subunitcolor":"white"
          },
          "hoverlabel":{
           "align":"left"
          },
          "hovermode":"closest",
          "paper_bgcolor":"white",
          "plot_bgcolor":"rgb(234,234,242)",
          "polar":{
           "angularaxis":{
            "gridcolor":"white",
            "linecolor":"white",
            "showgrid":true,
            "ticks":""
           },
           "bgcolor":"rgb(234,234,242)",
           "radialaxis":{
            "gridcolor":"white",
            "linecolor":"white",
            "showgrid":true,
            "ticks":""
           }
          },
          "scene":{
           "xaxis":{
            "backgroundcolor":"rgb(234,234,242)",
            "gridcolor":"white",
            "gridwidth":2,
            "linecolor":"white",
            "showbackground":true,
            "showgrid":true,
            "ticks":"",
            "zerolinecolor":"white"
           },
           "yaxis":{
            "backgroundcolor":"rgb(234,234,242)",
            "gridcolor":"white",
            "gridwidth":2,
            "linecolor":"white",
            "showbackground":true,
            "showgrid":true,
            "ticks":"",
            "zerolinecolor":"white"
           },
           "zaxis":{
            "backgroundcolor":"rgb(234,234,242)",
            "gridcolor":"white",
            "gridwidth":2,
            "linecolor":"white",
            "showbackground":true,
            "showgrid":true,
            "ticks":"",
            "zerolinecolor":"white"
           }
          },
          "shapedefaults":{
           "fillcolor":"rgb(67,103,167)",
           "line":{
            "width":0
           },
           "opacity":0.5
          },
          "ternary":{
           "aaxis":{
            "gridcolor":"white",
            "linecolor":"white",
            "showgrid":true,
            "ticks":""
           },
           "baxis":{
            "gridcolor":"white",
            "linecolor":"white",
            "showgrid":true,
            "ticks":""
           },
           "bgcolor":"rgb(234,234,242)",
           "caxis":{
            "gridcolor":"white",
            "linecolor":"white",
            "showgrid":true,
            "ticks":""
           }
          },
          "xaxis":{
           "automargin":true,
           "gridcolor":"white",
           "linecolor":"white",
           "showgrid":true,
           "ticks":"",
           "title":{
            "standoff":15
           },
           "zerolinecolor":"white"
          },
          "yaxis":{
           "automargin":true,
           "gridcolor":"white",
           "linecolor":"white",
           "showgrid":true,
           "ticks":"",
           "title":{
            "standoff":15
           },
           "zerolinecolor":"white"
          }
         }
        },
        "polar":{
         "domain":{
          "x":[
           0,
           1
          ],
          "y":[
           0,
           1
          ]
         },
         "angularaxis":{
          "direction":"clockwise",
          "rotation":90
         },
         "radialaxis":{
          "range":[
           0,
           160
          ]
         }
        },
        "legend":{
         "tracegroupgap":0
        },
        "title":{
         "text":"Xerneas Stats"
        },
        "height":600,
        "width":800
       },
       "config":{
        "plotlyServerURL":"https:\/\/plot.ly"
       }
      }
     },
     "metadata":{
      
     },
     "output_type":"display_data"
    }
   ],
   "metadata":{
    "datalore":{
     "node_id":"pdG6ZAuojm5sJuEKEqFJJn",
     "type":"CODE",
     "hide_input_from_viewers":false,
     "hide_output_from_viewers":false,
     "report_properties":{
      "y":635
     }
    }
   }
  },
  {
   "cell_type":"code",
   "source":[
    "# How does Xerneas size up against the strongest dragon type?\n",
    "\n",
    "# Find the strongest dragon type.\n",
    "# Use the Total column to find the strongest dragon type pokemon.\n",
    "dmax_num = max(dragon['Total']) # 700\n",
    "\n",
    "# Find the dragon type pokemon with the above number.\n",
    "strongest_dragon = dragon[dragon['Total'] == dmax_num] # Black and white Kyurem\n",
    "strongest_dragon1 = strongest_dragon.iloc[[0]]\n",
    "strongest_dragon2 = strongest_dragon.iloc[[1]]\n",
    "\n",
    "strongest_dragon1 #Black Kyurem\n",
    "strongest_dragon2 #White Kyurem"
   ],
   "execution_count":64,
   "outputs":[
    {
     "data":{
      "text\/html":[
       "<div>\n",
       "<style scoped>\n",
       "    .dataframe tbody tr th:only-of-type {\n",
       "        vertical-align: middle;\n",
       "    }\n",
       "\n",
       "    .dataframe tbody tr th {\n",
       "        vertical-align: top;\n",
       "    }\n",
       "\n",
       "    .dataframe thead th {\n",
       "        text-align: right;\n",
       "    }\n",
       "<\/style>\n",
       "<table border=\"1\" class=\"dataframe\">\n",
       "  <thead>\n",
       "    <tr style=\"text-align: right;\">\n",
       "      <th><\/th>\n",
       "      <th>Name<\/th>\n",
       "      <th>Type 1<\/th>\n",
       "      <th>Type 2<\/th>\n",
       "      <th>Total<\/th>\n",
       "      <th>HP<\/th>\n",
       "      <th>Attack<\/th>\n",
       "      <th>Defense<\/th>\n",
       "      <th>Sp. Atk<\/th>\n",
       "      <th>Sp. Def<\/th>\n",
       "      <th>Speed<\/th>\n",
       "    <\/tr>\n",
       "  <\/thead>\n",
       "  <tbody>\n",
       "    <tr>\n",
       "      <th>712<\/th>\n",
       "      <td>White Kyurem<\/td>\n",
       "      <td>Dragon<\/td>\n",
       "      <td>Ice<\/td>\n",
       "      <td>700<\/td>\n",
       "      <td>125<\/td>\n",
       "      <td>120<\/td>\n",
       "      <td>90<\/td>\n",
       "      <td>170<\/td>\n",
       "      <td>100<\/td>\n",
       "      <td>95<\/td>\n",
       "    <\/tr>\n",
       "  <\/tbody>\n",
       "<\/table>\n",
       "<\/div>"
      ]
     },
     "metadata":{
      
     },
     "output_type":"display_data"
    }
   ],
   "metadata":{
    "datalore":{
     "node_id":"h9OW54MktXNb6BTAq4Ag4h",
     "type":"CODE",
     "hide_input_from_viewers":false,
     "hide_output_from_viewers":false,
     "report_properties":{
      "y":638
     }
    }
   }
  },
  {
   "cell_type":"code",
   "source":[
    "# Creating radar graph preparation.\n",
    "\n",
    "# Change dragon dataframes to lists.\n",
    "# 1 is black and 2 is white\n",
    "d_list1 = strongest_dragon1.values.tolist()\n",
    "d_list2 = strongest_dragon2.values.tolist()\n",
    "\n",
    "d_list1 = d_list1[0]\n",
    "d_list2 = d_list2[0]\n",
    "\n",
    "# Slice the lists to only include labels according to the array\n",
    "d1_stats = d_list1[4:10]\n",
    "d2_stats = d_list2[4:10]\n",
    "\n",
    "d1_stats"
   ],
   "execution_count":65,
   "outputs":[
    {
     "data":{
      "text\/plain":[
       "[125, 170, 100, 120, 90, 95]"
      ]
     },
     "metadata":{
      
     },
     "output_type":"display_data"
    }
   ],
   "metadata":{
    "datalore":{
     "node_id":"Bx7KQlgAs7ZUKJwx6Aq8u1",
     "type":"CODE",
     "hide_input_from_viewers":false,
     "hide_output_from_viewers":false,
     "report_properties":{
      "y":641
     }
    }
   }
  },
  {
   "cell_type":"code",
   "source":[
    "# Draw the overlapping radar chart\n",
    "\n",
    "fig = go.Figure()\n",
    "\n",
    "fig.add_trace(go.Scatterpolar(\n",
    "    r=d1_stats,\n",
    "    theta=labels,\n",
    "    fill='toself',\n",
    "    name='Black Kyurem'\n",
    "))\n",
    "\n",
    "fig.add_trace(go.Scatterpolar(\n",
    "    r=d2_stats,\n",
    "    theta=labels,\n",
    "    fill='toself',\n",
    "    name='White Kyurem'\n",
    "))\n",
    "\n",
    "fig.update_layout(\n",
    "  polar=dict(\n",
    "    radialaxis=dict(\n",
    "      visible=True\n",
    "    )),\n",
    "  showlegend=True,\n",
    "  title=\"Black and White Kyurem Stats\",\n",
    "  template='seaborn',\n",
    "  width=800,\n",
    "  height=600\n",
    ")\n",
    "\n",
    "fig.show()\n",
    "\n",
    "# White Kyurem excels in special attack while black kyurem excels in attack. "
   ],
   "execution_count":66,
   "outputs":[
    {
     "data":{
      "application\/vnd.plotly.v1+json":{
       "data":[
        {
         "fill":"toself",
         "name":"Black Kyurem",
         "r":[
          125,
          170,
          100,
          120,
          90,
          95
         ],
         "theta":[
          "HP",
          "Attack",
          "Defense",
          "Sp. Atk",
          "Sp. Def",
          "Speed"
         ],
         "type":"scatterpolar"
        },
        {
         "fill":"toself",
         "name":"White Kyurem",
         "r":[
          125,
          120,
          90,
          170,
          100,
          95
         ],
         "theta":[
          "HP",
          "Attack",
          "Defense",
          "Sp. Atk",
          "Sp. Def",
          "Speed"
         ],
         "type":"scatterpolar"
        }
       ],
       "layout":{
        "template":{
         "data":{
          "barpolar":[
           {
            "marker":{
             "line":{
              "color":"rgb(234,234,242)",
              "width":0.5
             },
             "pattern":{
              "fillmode":"overlay",
              "size":10,
              "solidity":0.2
             }
            },
            "type":"barpolar"
           }
          ],
          "bar":[
           {
            "error_x":{
             "color":"rgb(36,36,36)"
            },
            "error_y":{
             "color":"rgb(36,36,36)"
            },
            "marker":{
             "line":{
              "color":"rgb(234,234,242)",
              "width":0.5
             },
             "pattern":{
              "fillmode":"overlay",
              "size":10,
              "solidity":0.2
             }
            },
            "type":"bar"
           }
          ],
          "carpet":[
           {
            "aaxis":{
             "endlinecolor":"rgb(36,36,36)",
             "gridcolor":"white",
             "linecolor":"white",
             "minorgridcolor":"white",
             "startlinecolor":"rgb(36,36,36)"
            },
            "baxis":{
             "endlinecolor":"rgb(36,36,36)",
             "gridcolor":"white",
             "linecolor":"white",
             "minorgridcolor":"white",
             "startlinecolor":"rgb(36,36,36)"
            },
            "type":"carpet"
           }
          ],
          "choropleth":[
           {
            "colorbar":{
             "outlinewidth":0,
             "tickcolor":"rgb(36,36,36)",
             "ticklen":8,
             "ticks":"outside",
             "tickwidth":2
            },
            "type":"choropleth"
           }
          ],
          "contourcarpet":[
           {
            "colorbar":{
             "outlinewidth":0,
             "tickcolor":"rgb(36,36,36)",
             "ticklen":8,
             "ticks":"outside",
             "tickwidth":2
            },
            "type":"contourcarpet"
           }
          ],
          "contour":[
           {
            "colorbar":{
             "outlinewidth":0,
             "tickcolor":"rgb(36,36,36)",
             "ticklen":8,
             "ticks":"outside",
             "tickwidth":2
            },
            "colorscale":[
             [
              0,
              "rgb(2,4,25)"
             ],
             [
              0.06274509803921569,
              "rgb(24,15,41)"
             ],
             [
              0.12549019607843137,
              "rgb(47,23,57)"
             ],
             [
              0.18823529411764706,
              "rgb(71,28,72)"
             ],
             [
              0.25098039215686274,
              "rgb(97,30,82)"
             ],
             [
              0.3137254901960784,
              "rgb(123,30,89)"
             ],
             [
              0.3764705882352941,
              "rgb(150,27,91)"
             ],
             [
              0.4392156862745098,
              "rgb(177,22,88)"
             ],
             [
              0.5019607843137255,
              "rgb(203,26,79)"
             ],
             [
              0.5647058823529412,
              "rgb(223,47,67)"
             ],
             [
              0.6274509803921569,
              "rgb(236,76,61)"
             ],
             [
              0.6901960784313725,
              "rgb(242,107,73)"
             ],
             [
              0.7529411764705882,
              "rgb(244,135,95)"
             ],
             [
              0.8156862745098039,
              "rgb(245,162,122)"
             ],
             [
              0.8784313725490196,
              "rgb(246,188,153)"
             ],
             [
              0.9411764705882353,
              "rgb(247,212,187)"
             ],
             [
              1,
              "rgb(250,234,220)"
             ]
            ],
            "type":"contour"
           }
          ],
          "heatmapgl":[
           {
            "colorbar":{
             "outlinewidth":0,
             "tickcolor":"rgb(36,36,36)",
             "ticklen":8,
             "ticks":"outside",
             "tickwidth":2
            },
            "colorscale":[
             [
              0,
              "rgb(2,4,25)"
             ],
             [
              0.06274509803921569,
              "rgb(24,15,41)"
             ],
             [
              0.12549019607843137,
              "rgb(47,23,57)"
             ],
             [
              0.18823529411764706,
              "rgb(71,28,72)"
             ],
             [
              0.25098039215686274,
              "rgb(97,30,82)"
             ],
             [
              0.3137254901960784,
              "rgb(123,30,89)"
             ],
             [
              0.3764705882352941,
              "rgb(150,27,91)"
             ],
             [
              0.4392156862745098,
              "rgb(177,22,88)"
             ],
             [
              0.5019607843137255,
              "rgb(203,26,79)"
             ],
             [
              0.5647058823529412,
              "rgb(223,47,67)"
             ],
             [
              0.6274509803921569,
              "rgb(236,76,61)"
             ],
             [
              0.6901960784313725,
              "rgb(242,107,73)"
             ],
             [
              0.7529411764705882,
              "rgb(244,135,95)"
             ],
             [
              0.8156862745098039,
              "rgb(245,162,122)"
             ],
             [
              0.8784313725490196,
              "rgb(246,188,153)"
             ],
             [
              0.9411764705882353,
              "rgb(247,212,187)"
             ],
             [
              1,
              "rgb(250,234,220)"
             ]
            ],
            "type":"heatmapgl"
           }
          ],
          "heatmap":[
           {
            "colorbar":{
             "outlinewidth":0,
             "tickcolor":"rgb(36,36,36)",
             "ticklen":8,
             "ticks":"outside",
             "tickwidth":2
            },
            "colorscale":[
             [
              0,
              "rgb(2,4,25)"
             ],
             [
              0.06274509803921569,
              "rgb(24,15,41)"
             ],
             [
              0.12549019607843137,
              "rgb(47,23,57)"
             ],
             [
              0.18823529411764706,
              "rgb(71,28,72)"
             ],
             [
              0.25098039215686274,
              "rgb(97,30,82)"
             ],
             [
              0.3137254901960784,
              "rgb(123,30,89)"
             ],
             [
              0.3764705882352941,
              "rgb(150,27,91)"
             ],
             [
              0.4392156862745098,
              "rgb(177,22,88)"
             ],
             [
              0.5019607843137255,
              "rgb(203,26,79)"
             ],
             [
              0.5647058823529412,
              "rgb(223,47,67)"
             ],
             [
              0.6274509803921569,
              "rgb(236,76,61)"
             ],
             [
              0.6901960784313725,
              "rgb(242,107,73)"
             ],
             [
              0.7529411764705882,
              "rgb(244,135,95)"
             ],
             [
              0.8156862745098039,
              "rgb(245,162,122)"
             ],
             [
              0.8784313725490196,
              "rgb(246,188,153)"
             ],
             [
              0.9411764705882353,
              "rgb(247,212,187)"
             ],
             [
              1,
              "rgb(250,234,220)"
             ]
            ],
            "type":"heatmap"
           }
          ],
          "histogram2dcontour":[
           {
            "colorbar":{
             "outlinewidth":0,
             "tickcolor":"rgb(36,36,36)",
             "ticklen":8,
             "ticks":"outside",
             "tickwidth":2
            },
            "colorscale":[
             [
              0,
              "rgb(2,4,25)"
             ],
             [
              0.06274509803921569,
              "rgb(24,15,41)"
             ],
             [
              0.12549019607843137,
              "rgb(47,23,57)"
             ],
             [
              0.18823529411764706,
              "rgb(71,28,72)"
             ],
             [
              0.25098039215686274,
              "rgb(97,30,82)"
             ],
             [
              0.3137254901960784,
              "rgb(123,30,89)"
             ],
             [
              0.3764705882352941,
              "rgb(150,27,91)"
             ],
             [
              0.4392156862745098,
              "rgb(177,22,88)"
             ],
             [
              0.5019607843137255,
              "rgb(203,26,79)"
             ],
             [
              0.5647058823529412,
              "rgb(223,47,67)"
             ],
             [
              0.6274509803921569,
              "rgb(236,76,61)"
             ],
             [
              0.6901960784313725,
              "rgb(242,107,73)"
             ],
             [
              0.7529411764705882,
              "rgb(244,135,95)"
             ],
             [
              0.8156862745098039,
              "rgb(245,162,122)"
             ],
             [
              0.8784313725490196,
              "rgb(246,188,153)"
             ],
             [
              0.9411764705882353,
              "rgb(247,212,187)"
             ],
             [
              1,
              "rgb(250,234,220)"
             ]
            ],
            "type":"histogram2dcontour"
           }
          ],
          "histogram2d":[
           {
            "colorbar":{
             "outlinewidth":0,
             "tickcolor":"rgb(36,36,36)",
             "ticklen":8,
             "ticks":"outside",
             "tickwidth":2
            },
            "colorscale":[
             [
              0,
              "rgb(2,4,25)"
             ],
             [
              0.06274509803921569,
              "rgb(24,15,41)"
             ],
             [
              0.12549019607843137,
              "rgb(47,23,57)"
             ],
             [
              0.18823529411764706,
              "rgb(71,28,72)"
             ],
             [
              0.25098039215686274,
              "rgb(97,30,82)"
             ],
             [
              0.3137254901960784,
              "rgb(123,30,89)"
             ],
             [
              0.3764705882352941,
              "rgb(150,27,91)"
             ],
             [
              0.4392156862745098,
              "rgb(177,22,88)"
             ],
             [
              0.5019607843137255,
              "rgb(203,26,79)"
             ],
             [
              0.5647058823529412,
              "rgb(223,47,67)"
             ],
             [
              0.6274509803921569,
              "rgb(236,76,61)"
             ],
             [
              0.6901960784313725,
              "rgb(242,107,73)"
             ],
             [
              0.7529411764705882,
              "rgb(244,135,95)"
             ],
             [
              0.8156862745098039,
              "rgb(245,162,122)"
             ],
             [
              0.8784313725490196,
              "rgb(246,188,153)"
             ],
             [
              0.9411764705882353,
              "rgb(247,212,187)"
             ],
             [
              1,
              "rgb(250,234,220)"
             ]
            ],
            "type":"histogram2d"
           }
          ],
          "histogram":[
           {
            "marker":{
             "pattern":{
              "fillmode":"overlay",
              "size":10,
              "solidity":0.2
             }
            },
            "type":"histogram"
           }
          ],
          "mesh3d":[
           {
            "colorbar":{
             "outlinewidth":0,
             "tickcolor":"rgb(36,36,36)",
             "ticklen":8,
             "ticks":"outside",
             "tickwidth":2
            },
            "type":"mesh3d"
           }
          ],
          "parcoords":[
           {
            "line":{
             "colorbar":{
              "outlinewidth":0,
              "tickcolor":"rgb(36,36,36)",
              "ticklen":8,
              "ticks":"outside",
              "tickwidth":2
             }
            },
            "type":"parcoords"
           }
          ],
          "pie":[
           {
            "automargin":true,
            "type":"pie"
           }
          ],
          "scatter3d":[
           {
            "line":{
             "colorbar":{
              "outlinewidth":0,
              "tickcolor":"rgb(36,36,36)",
              "ticklen":8,
              "ticks":"outside",
              "tickwidth":2
             }
            },
            "marker":{
             "colorbar":{
              "outlinewidth":0,
              "tickcolor":"rgb(36,36,36)",
              "ticklen":8,
              "ticks":"outside",
              "tickwidth":2
             }
            },
            "type":"scatter3d"
           }
          ],
          "scattercarpet":[
           {
            "marker":{
             "colorbar":{
              "outlinewidth":0,
              "tickcolor":"rgb(36,36,36)",
              "ticklen":8,
              "ticks":"outside",
              "tickwidth":2
             }
            },
            "type":"scattercarpet"
           }
          ],
          "scattergeo":[
           {
            "marker":{
             "colorbar":{
              "outlinewidth":0,
              "tickcolor":"rgb(36,36,36)",
              "ticklen":8,
              "ticks":"outside",
              "tickwidth":2
             }
            },
            "type":"scattergeo"
           }
          ],
          "scattergl":[
           {
            "marker":{
             "colorbar":{
              "outlinewidth":0,
              "tickcolor":"rgb(36,36,36)",
              "ticklen":8,
              "ticks":"outside",
              "tickwidth":2
             }
            },
            "type":"scattergl"
           }
          ],
          "scattermapbox":[
           {
            "marker":{
             "colorbar":{
              "outlinewidth":0,
              "tickcolor":"rgb(36,36,36)",
              "ticklen":8,
              "ticks":"outside",
              "tickwidth":2
             }
            },
            "type":"scattermapbox"
           }
          ],
          "scatterpolargl":[
           {
            "marker":{
             "colorbar":{
              "outlinewidth":0,
              "tickcolor":"rgb(36,36,36)",
              "ticklen":8,
              "ticks":"outside",
              "tickwidth":2
             }
            },
            "type":"scatterpolargl"
           }
          ],
          "scatterpolar":[
           {
            "marker":{
             "colorbar":{
              "outlinewidth":0,
              "tickcolor":"rgb(36,36,36)",
              "ticklen":8,
              "ticks":"outside",
              "tickwidth":2
             }
            },
            "type":"scatterpolar"
           }
          ],
          "scatter":[
           {
            "marker":{
             "colorbar":{
              "outlinewidth":0,
              "tickcolor":"rgb(36,36,36)",
              "ticklen":8,
              "ticks":"outside",
              "tickwidth":2
             }
            },
            "type":"scatter"
           }
          ],
          "scatterternary":[
           {
            "marker":{
             "colorbar":{
              "outlinewidth":0,
              "tickcolor":"rgb(36,36,36)",
              "ticklen":8,
              "ticks":"outside",
              "tickwidth":2
             }
            },
            "type":"scatterternary"
           }
          ],
          "surface":[
           {
            "colorbar":{
             "outlinewidth":0,
             "tickcolor":"rgb(36,36,36)",
             "ticklen":8,
             "ticks":"outside",
             "tickwidth":2
            },
            "colorscale":[
             [
              0,
              "rgb(2,4,25)"
             ],
             [
              0.06274509803921569,
              "rgb(24,15,41)"
             ],
             [
              0.12549019607843137,
              "rgb(47,23,57)"
             ],
             [
              0.18823529411764706,
              "rgb(71,28,72)"
             ],
             [
              0.25098039215686274,
              "rgb(97,30,82)"
             ],
             [
              0.3137254901960784,
              "rgb(123,30,89)"
             ],
             [
              0.3764705882352941,
              "rgb(150,27,91)"
             ],
             [
              0.4392156862745098,
              "rgb(177,22,88)"
             ],
             [
              0.5019607843137255,
              "rgb(203,26,79)"
             ],
             [
              0.5647058823529412,
              "rgb(223,47,67)"
             ],
             [
              0.6274509803921569,
              "rgb(236,76,61)"
             ],
             [
              0.6901960784313725,
              "rgb(242,107,73)"
             ],
             [
              0.7529411764705882,
              "rgb(244,135,95)"
             ],
             [
              0.8156862745098039,
              "rgb(245,162,122)"
             ],
             [
              0.8784313725490196,
              "rgb(246,188,153)"
             ],
             [
              0.9411764705882353,
              "rgb(247,212,187)"
             ],
             [
              1,
              "rgb(250,234,220)"
             ]
            ],
            "type":"surface"
           }
          ],
          "table":[
           {
            "cells":{
             "fill":{
              "color":"rgb(231,231,240)"
             },
             "line":{
              "color":"white"
             }
            },
            "header":{
             "fill":{
              "color":"rgb(183,183,191)"
             },
             "line":{
              "color":"white"
             }
            },
            "type":"table"
           }
          ]
         },
         "layout":{
          "annotationdefaults":{
           "arrowcolor":"rgb(67,103,167)"
          },
          "autotypenumbers":"strict",
          "coloraxis":{
           "colorbar":{
            "outlinewidth":0,
            "tickcolor":"rgb(36,36,36)",
            "ticklen":8,
            "ticks":"outside",
            "tickwidth":2
           }
          },
          "colorscale":{
           "sequential":[
            [
             0,
             "rgb(2,4,25)"
            ],
            [
             0.06274509803921569,
             "rgb(24,15,41)"
            ],
            [
             0.12549019607843137,
             "rgb(47,23,57)"
            ],
            [
             0.18823529411764706,
             "rgb(71,28,72)"
            ],
            [
             0.25098039215686274,
             "rgb(97,30,82)"
            ],
            [
             0.3137254901960784,
             "rgb(123,30,89)"
            ],
            [
             0.3764705882352941,
             "rgb(150,27,91)"
            ],
            [
             0.4392156862745098,
             "rgb(177,22,88)"
            ],
            [
             0.5019607843137255,
             "rgb(203,26,79)"
            ],
            [
             0.5647058823529412,
             "rgb(223,47,67)"
            ],
            [
             0.6274509803921569,
             "rgb(236,76,61)"
            ],
            [
             0.6901960784313725,
             "rgb(242,107,73)"
            ],
            [
             0.7529411764705882,
             "rgb(244,135,95)"
            ],
            [
             0.8156862745098039,
             "rgb(245,162,122)"
            ],
            [
             0.8784313725490196,
             "rgb(246,188,153)"
            ],
            [
             0.9411764705882353,
             "rgb(247,212,187)"
            ],
            [
             1,
             "rgb(250,234,220)"
            ]
           ],
           "sequentialminus":[
            [
             0,
             "rgb(2,4,25)"
            ],
            [
             0.06274509803921569,
             "rgb(24,15,41)"
            ],
            [
             0.12549019607843137,
             "rgb(47,23,57)"
            ],
            [
             0.18823529411764706,
             "rgb(71,28,72)"
            ],
            [
             0.25098039215686274,
             "rgb(97,30,82)"
            ],
            [
             0.3137254901960784,
             "rgb(123,30,89)"
            ],
            [
             0.3764705882352941,
             "rgb(150,27,91)"
            ],
            [
             0.4392156862745098,
             "rgb(177,22,88)"
            ],
            [
             0.5019607843137255,
             "rgb(203,26,79)"
            ],
            [
             0.5647058823529412,
             "rgb(223,47,67)"
            ],
            [
             0.6274509803921569,
             "rgb(236,76,61)"
            ],
            [
             0.6901960784313725,
             "rgb(242,107,73)"
            ],
            [
             0.7529411764705882,
             "rgb(244,135,95)"
            ],
            [
             0.8156862745098039,
             "rgb(245,162,122)"
            ],
            [
             0.8784313725490196,
             "rgb(246,188,153)"
            ],
            [
             0.9411764705882353,
             "rgb(247,212,187)"
            ],
            [
             1,
             "rgb(250,234,220)"
            ]
           ]
          },
          "colorway":[
           "rgb(76,114,176)",
           "rgb(221,132,82)",
           "rgb(85,168,104)",
           "rgb(196,78,82)",
           "rgb(129,114,179)",
           "rgb(147,120,96)",
           "rgb(218,139,195)",
           "rgb(140,140,140)",
           "rgb(204,185,116)",
           "rgb(100,181,205)"
          ],
          "font":{
           "color":"rgb(36,36,36)"
          },
          "geo":{
           "bgcolor":"white",
           "lakecolor":"white",
           "landcolor":"rgb(234,234,242)",
           "showlakes":true,
           "showland":true,
           "subunitcolor":"white"
          },
          "hoverlabel":{
           "align":"left"
          },
          "hovermode":"closest",
          "paper_bgcolor":"white",
          "plot_bgcolor":"rgb(234,234,242)",
          "polar":{
           "angularaxis":{
            "gridcolor":"white",
            "linecolor":"white",
            "showgrid":true,
            "ticks":""
           },
           "bgcolor":"rgb(234,234,242)",
           "radialaxis":{
            "gridcolor":"white",
            "linecolor":"white",
            "showgrid":true,
            "ticks":""
           }
          },
          "scene":{
           "xaxis":{
            "backgroundcolor":"rgb(234,234,242)",
            "gridcolor":"white",
            "gridwidth":2,
            "linecolor":"white",
            "showbackground":true,
            "showgrid":true,
            "ticks":"",
            "zerolinecolor":"white"
           },
           "yaxis":{
            "backgroundcolor":"rgb(234,234,242)",
            "gridcolor":"white",
            "gridwidth":2,
            "linecolor":"white",
            "showbackground":true,
            "showgrid":true,
            "ticks":"",
            "zerolinecolor":"white"
           },
           "zaxis":{
            "backgroundcolor":"rgb(234,234,242)",
            "gridcolor":"white",
            "gridwidth":2,
            "linecolor":"white",
            "showbackground":true,
            "showgrid":true,
            "ticks":"",
            "zerolinecolor":"white"
           }
          },
          "shapedefaults":{
           "fillcolor":"rgb(67,103,167)",
           "line":{
            "width":0
           },
           "opacity":0.5
          },
          "ternary":{
           "aaxis":{
            "gridcolor":"white",
            "linecolor":"white",
            "showgrid":true,
            "ticks":""
           },
           "baxis":{
            "gridcolor":"white",
            "linecolor":"white",
            "showgrid":true,
            "ticks":""
           },
           "bgcolor":"rgb(234,234,242)",
           "caxis":{
            "gridcolor":"white",
            "linecolor":"white",
            "showgrid":true,
            "ticks":""
           }
          },
          "xaxis":{
           "automargin":true,
           "gridcolor":"white",
           "linecolor":"white",
           "showgrid":true,
           "ticks":"",
           "title":{
            "standoff":15
           },
           "zerolinecolor":"white"
          },
          "yaxis":{
           "automargin":true,
           "gridcolor":"white",
           "linecolor":"white",
           "showgrid":true,
           "ticks":"",
           "title":{
            "standoff":15
           },
           "zerolinecolor":"white"
          }
         }
        },
        "polar":{
         "radialaxis":{
          "visible":true
         }
        },
        "showlegend":true,
        "title":{
         "text":"Black and White Kyurem Stats"
        },
        "width":800,
        "height":600
       },
       "config":{
        "plotlyServerURL":"https:\/\/plot.ly"
       }
      }
     },
     "metadata":{
      
     },
     "output_type":"display_data"
    }
   ],
   "metadata":{
    "datalore":{
     "node_id":"uv1URFO6bbxGUKLAHYOWJq",
     "type":"CODE",
     "hide_input_from_viewers":false,
     "hide_output_from_viewers":false,
     "report_properties":{
      "y":644
     }
    }
   }
  },
  {
   "cell_type":"code",
   "source":[
    "# Comparing the Kyurems to Xerneas.\n",
    "\n",
    "# Draw the overlapping radar chart\n",
    "\n",
    "fig = go.Figure()\n",
    "\n",
    "fig.add_trace(go.Scatterpolar(\n",
    "    r=d1_stats,\n",
    "    theta=labels,\n",
    "    fill='toself',\n",
    "    name='Black Kyurem'\n",
    "))\n",
    "\n",
    "fig.add_trace(go.Scatterpolar(\n",
    "    r=fairy_stats,\n",
    "    theta=labels,\n",
    "    fill='toself',\n",
    "    name='Xerneas'\n",
    "))\n",
    "\n",
    "fig.add_trace(go.Scatterpolar(\n",
    "    r=d2_stats,\n",
    "    theta=labels,\n",
    "    fill='toself',\n",
    "    name='White Kyurem'\n",
    "))\n",
    "\n",
    "fig.update_layout(\n",
    "  polar=dict(\n",
    "    radialaxis=dict(\n",
    "      visible=True\n",
    "    )),\n",
    "  showlegend=True,\n",
    "  title=\"Comparing Kyurem and Xerneas Stats\",\n",
    "  template='seaborn',\n",
    "  width=800,\n",
    "  height=600,\n",
    "  title_xanchor='auto'\n",
    ")\n",
    "\n",
    "fig.show()\n",
    "\n",
    "# When it comes to HP, these three pokemon are similar. \n",
    "# Xerneas beats White Kyurem in the attack stat. It also beats Black Kyurem in the special attack stat, but only by inches.\n",
    "# White Kyurem beats Xerneas in the special attack stat.\n",
    "# Black Kyurem beats Xernias in the attack stat.\n",
    "# When it comes to spead, Xerneas bests both Kyurems.\n",
    "# Xerneas is only mildly better than the stats it does beat either Kyurem in. "
   ],
   "execution_count":67,
   "outputs":[
    {
     "data":{
      "application\/vnd.plotly.v1+json":{
       "data":[
        {
         "fill":"toself",
         "name":"Black Kyurem",
         "r":[
          125,
          170,
          100,
          120,
          90,
          95
         ],
         "theta":[
          "HP",
          "Attack",
          "Defense",
          "Sp. Atk",
          "Sp. Def",
          "Speed"
         ],
         "type":"scatterpolar"
        },
        {
         "fill":"toself",
         "name":"Xerneas",
         "r":[
          126,
          131,
          95,
          131,
          98,
          99
         ],
         "theta":[
          "HP",
          "Attack",
          "Defense",
          "Sp. Atk",
          "Sp. Def",
          "Speed"
         ],
         "type":"scatterpolar"
        },
        {
         "fill":"toself",
         "name":"White Kyurem",
         "r":[
          125,
          120,
          90,
          170,
          100,
          95
         ],
         "theta":[
          "HP",
          "Attack",
          "Defense",
          "Sp. Atk",
          "Sp. Def",
          "Speed"
         ],
         "type":"scatterpolar"
        }
       ],
       "layout":{
        "template":{
         "data":{
          "barpolar":[
           {
            "marker":{
             "line":{
              "color":"rgb(234,234,242)",
              "width":0.5
             },
             "pattern":{
              "fillmode":"overlay",
              "size":10,
              "solidity":0.2
             }
            },
            "type":"barpolar"
           }
          ],
          "bar":[
           {
            "error_x":{
             "color":"rgb(36,36,36)"
            },
            "error_y":{
             "color":"rgb(36,36,36)"
            },
            "marker":{
             "line":{
              "color":"rgb(234,234,242)",
              "width":0.5
             },
             "pattern":{
              "fillmode":"overlay",
              "size":10,
              "solidity":0.2
             }
            },
            "type":"bar"
           }
          ],
          "carpet":[
           {
            "aaxis":{
             "endlinecolor":"rgb(36,36,36)",
             "gridcolor":"white",
             "linecolor":"white",
             "minorgridcolor":"white",
             "startlinecolor":"rgb(36,36,36)"
            },
            "baxis":{
             "endlinecolor":"rgb(36,36,36)",
             "gridcolor":"white",
             "linecolor":"white",
             "minorgridcolor":"white",
             "startlinecolor":"rgb(36,36,36)"
            },
            "type":"carpet"
           }
          ],
          "choropleth":[
           {
            "colorbar":{
             "outlinewidth":0,
             "tickcolor":"rgb(36,36,36)",
             "ticklen":8,
             "ticks":"outside",
             "tickwidth":2
            },
            "type":"choropleth"
           }
          ],
          "contourcarpet":[
           {
            "colorbar":{
             "outlinewidth":0,
             "tickcolor":"rgb(36,36,36)",
             "ticklen":8,
             "ticks":"outside",
             "tickwidth":2
            },
            "type":"contourcarpet"
           }
          ],
          "contour":[
           {
            "colorbar":{
             "outlinewidth":0,
             "tickcolor":"rgb(36,36,36)",
             "ticklen":8,
             "ticks":"outside",
             "tickwidth":2
            },
            "colorscale":[
             [
              0,
              "rgb(2,4,25)"
             ],
             [
              0.06274509803921569,
              "rgb(24,15,41)"
             ],
             [
              0.12549019607843137,
              "rgb(47,23,57)"
             ],
             [
              0.18823529411764706,
              "rgb(71,28,72)"
             ],
             [
              0.25098039215686274,
              "rgb(97,30,82)"
             ],
             [
              0.3137254901960784,
              "rgb(123,30,89)"
             ],
             [
              0.3764705882352941,
              "rgb(150,27,91)"
             ],
             [
              0.4392156862745098,
              "rgb(177,22,88)"
             ],
             [
              0.5019607843137255,
              "rgb(203,26,79)"
             ],
             [
              0.5647058823529412,
              "rgb(223,47,67)"
             ],
             [
              0.6274509803921569,
              "rgb(236,76,61)"
             ],
             [
              0.6901960784313725,
              "rgb(242,107,73)"
             ],
             [
              0.7529411764705882,
              "rgb(244,135,95)"
             ],
             [
              0.8156862745098039,
              "rgb(245,162,122)"
             ],
             [
              0.8784313725490196,
              "rgb(246,188,153)"
             ],
             [
              0.9411764705882353,
              "rgb(247,212,187)"
             ],
             [
              1,
              "rgb(250,234,220)"
             ]
            ],
            "type":"contour"
           }
          ],
          "heatmapgl":[
           {
            "colorbar":{
             "outlinewidth":0,
             "tickcolor":"rgb(36,36,36)",
             "ticklen":8,
             "ticks":"outside",
             "tickwidth":2
            },
            "colorscale":[
             [
              0,
              "rgb(2,4,25)"
             ],
             [
              0.06274509803921569,
              "rgb(24,15,41)"
             ],
             [
              0.12549019607843137,
              "rgb(47,23,57)"
             ],
             [
              0.18823529411764706,
              "rgb(71,28,72)"
             ],
             [
              0.25098039215686274,
              "rgb(97,30,82)"
             ],
             [
              0.3137254901960784,
              "rgb(123,30,89)"
             ],
             [
              0.3764705882352941,
              "rgb(150,27,91)"
             ],
             [
              0.4392156862745098,
              "rgb(177,22,88)"
             ],
             [
              0.5019607843137255,
              "rgb(203,26,79)"
             ],
             [
              0.5647058823529412,
              "rgb(223,47,67)"
             ],
             [
              0.6274509803921569,
              "rgb(236,76,61)"
             ],
             [
              0.6901960784313725,
              "rgb(242,107,73)"
             ],
             [
              0.7529411764705882,
              "rgb(244,135,95)"
             ],
             [
              0.8156862745098039,
              "rgb(245,162,122)"
             ],
             [
              0.8784313725490196,
              "rgb(246,188,153)"
             ],
             [
              0.9411764705882353,
              "rgb(247,212,187)"
             ],
             [
              1,
              "rgb(250,234,220)"
             ]
            ],
            "type":"heatmapgl"
           }
          ],
          "heatmap":[
           {
            "colorbar":{
             "outlinewidth":0,
             "tickcolor":"rgb(36,36,36)",
             "ticklen":8,
             "ticks":"outside",
             "tickwidth":2
            },
            "colorscale":[
             [
              0,
              "rgb(2,4,25)"
             ],
             [
              0.06274509803921569,
              "rgb(24,15,41)"
             ],
             [
              0.12549019607843137,
              "rgb(47,23,57)"
             ],
             [
              0.18823529411764706,
              "rgb(71,28,72)"
             ],
             [
              0.25098039215686274,
              "rgb(97,30,82)"
             ],
             [
              0.3137254901960784,
              "rgb(123,30,89)"
             ],
             [
              0.3764705882352941,
              "rgb(150,27,91)"
             ],
             [
              0.4392156862745098,
              "rgb(177,22,88)"
             ],
             [
              0.5019607843137255,
              "rgb(203,26,79)"
             ],
             [
              0.5647058823529412,
              "rgb(223,47,67)"
             ],
             [
              0.6274509803921569,
              "rgb(236,76,61)"
             ],
             [
              0.6901960784313725,
              "rgb(242,107,73)"
             ],
             [
              0.7529411764705882,
              "rgb(244,135,95)"
             ],
             [
              0.8156862745098039,
              "rgb(245,162,122)"
             ],
             [
              0.8784313725490196,
              "rgb(246,188,153)"
             ],
             [
              0.9411764705882353,
              "rgb(247,212,187)"
             ],
             [
              1,
              "rgb(250,234,220)"
             ]
            ],
            "type":"heatmap"
           }
          ],
          "histogram2dcontour":[
           {
            "colorbar":{
             "outlinewidth":0,
             "tickcolor":"rgb(36,36,36)",
             "ticklen":8,
             "ticks":"outside",
             "tickwidth":2
            },
            "colorscale":[
             [
              0,
              "rgb(2,4,25)"
             ],
             [
              0.06274509803921569,
              "rgb(24,15,41)"
             ],
             [
              0.12549019607843137,
              "rgb(47,23,57)"
             ],
             [
              0.18823529411764706,
              "rgb(71,28,72)"
             ],
             [
              0.25098039215686274,
              "rgb(97,30,82)"
             ],
             [
              0.3137254901960784,
              "rgb(123,30,89)"
             ],
             [
              0.3764705882352941,
              "rgb(150,27,91)"
             ],
             [
              0.4392156862745098,
              "rgb(177,22,88)"
             ],
             [
              0.5019607843137255,
              "rgb(203,26,79)"
             ],
             [
              0.5647058823529412,
              "rgb(223,47,67)"
             ],
             [
              0.6274509803921569,
              "rgb(236,76,61)"
             ],
             [
              0.6901960784313725,
              "rgb(242,107,73)"
             ],
             [
              0.7529411764705882,
              "rgb(244,135,95)"
             ],
             [
              0.8156862745098039,
              "rgb(245,162,122)"
             ],
             [
              0.8784313725490196,
              "rgb(246,188,153)"
             ],
             [
              0.9411764705882353,
              "rgb(247,212,187)"
             ],
             [
              1,
              "rgb(250,234,220)"
             ]
            ],
            "type":"histogram2dcontour"
           }
          ],
          "histogram2d":[
           {
            "colorbar":{
             "outlinewidth":0,
             "tickcolor":"rgb(36,36,36)",
             "ticklen":8,
             "ticks":"outside",
             "tickwidth":2
            },
            "colorscale":[
             [
              0,
              "rgb(2,4,25)"
             ],
             [
              0.06274509803921569,
              "rgb(24,15,41)"
             ],
             [
              0.12549019607843137,
              "rgb(47,23,57)"
             ],
             [
              0.18823529411764706,
              "rgb(71,28,72)"
             ],
             [
              0.25098039215686274,
              "rgb(97,30,82)"
             ],
             [
              0.3137254901960784,
              "rgb(123,30,89)"
             ],
             [
              0.3764705882352941,
              "rgb(150,27,91)"
             ],
             [
              0.4392156862745098,
              "rgb(177,22,88)"
             ],
             [
              0.5019607843137255,
              "rgb(203,26,79)"
             ],
             [
              0.5647058823529412,
              "rgb(223,47,67)"
             ],
             [
              0.6274509803921569,
              "rgb(236,76,61)"
             ],
             [
              0.6901960784313725,
              "rgb(242,107,73)"
             ],
             [
              0.7529411764705882,
              "rgb(244,135,95)"
             ],
             [
              0.8156862745098039,
              "rgb(245,162,122)"
             ],
             [
              0.8784313725490196,
              "rgb(246,188,153)"
             ],
             [
              0.9411764705882353,
              "rgb(247,212,187)"
             ],
             [
              1,
              "rgb(250,234,220)"
             ]
            ],
            "type":"histogram2d"
           }
          ],
          "histogram":[
           {
            "marker":{
             "pattern":{
              "fillmode":"overlay",
              "size":10,
              "solidity":0.2
             }
            },
            "type":"histogram"
           }
          ],
          "mesh3d":[
           {
            "colorbar":{
             "outlinewidth":0,
             "tickcolor":"rgb(36,36,36)",
             "ticklen":8,
             "ticks":"outside",
             "tickwidth":2
            },
            "type":"mesh3d"
           }
          ],
          "parcoords":[
           {
            "line":{
             "colorbar":{
              "outlinewidth":0,
              "tickcolor":"rgb(36,36,36)",
              "ticklen":8,
              "ticks":"outside",
              "tickwidth":2
             }
            },
            "type":"parcoords"
           }
          ],
          "pie":[
           {
            "automargin":true,
            "type":"pie"
           }
          ],
          "scatter3d":[
           {
            "line":{
             "colorbar":{
              "outlinewidth":0,
              "tickcolor":"rgb(36,36,36)",
              "ticklen":8,
              "ticks":"outside",
              "tickwidth":2
             }
            },
            "marker":{
             "colorbar":{
              "outlinewidth":0,
              "tickcolor":"rgb(36,36,36)",
              "ticklen":8,
              "ticks":"outside",
              "tickwidth":2
             }
            },
            "type":"scatter3d"
           }
          ],
          "scattercarpet":[
           {
            "marker":{
             "colorbar":{
              "outlinewidth":0,
              "tickcolor":"rgb(36,36,36)",
              "ticklen":8,
              "ticks":"outside",
              "tickwidth":2
             }
            },
            "type":"scattercarpet"
           }
          ],
          "scattergeo":[
           {
            "marker":{
             "colorbar":{
              "outlinewidth":0,
              "tickcolor":"rgb(36,36,36)",
              "ticklen":8,
              "ticks":"outside",
              "tickwidth":2
             }
            },
            "type":"scattergeo"
           }
          ],
          "scattergl":[
           {
            "marker":{
             "colorbar":{
              "outlinewidth":0,
              "tickcolor":"rgb(36,36,36)",
              "ticklen":8,
              "ticks":"outside",
              "tickwidth":2
             }
            },
            "type":"scattergl"
           }
          ],
          "scattermapbox":[
           {
            "marker":{
             "colorbar":{
              "outlinewidth":0,
              "tickcolor":"rgb(36,36,36)",
              "ticklen":8,
              "ticks":"outside",
              "tickwidth":2
             }
            },
            "type":"scattermapbox"
           }
          ],
          "scatterpolargl":[
           {
            "marker":{
             "colorbar":{
              "outlinewidth":0,
              "tickcolor":"rgb(36,36,36)",
              "ticklen":8,
              "ticks":"outside",
              "tickwidth":2
             }
            },
            "type":"scatterpolargl"
           }
          ],
          "scatterpolar":[
           {
            "marker":{
             "colorbar":{
              "outlinewidth":0,
              "tickcolor":"rgb(36,36,36)",
              "ticklen":8,
              "ticks":"outside",
              "tickwidth":2
             }
            },
            "type":"scatterpolar"
           }
          ],
          "scatter":[
           {
            "marker":{
             "colorbar":{
              "outlinewidth":0,
              "tickcolor":"rgb(36,36,36)",
              "ticklen":8,
              "ticks":"outside",
              "tickwidth":2
             }
            },
            "type":"scatter"
           }
          ],
          "scatterternary":[
           {
            "marker":{
             "colorbar":{
              "outlinewidth":0,
              "tickcolor":"rgb(36,36,36)",
              "ticklen":8,
              "ticks":"outside",
              "tickwidth":2
             }
            },
            "type":"scatterternary"
           }
          ],
          "surface":[
           {
            "colorbar":{
             "outlinewidth":0,
             "tickcolor":"rgb(36,36,36)",
             "ticklen":8,
             "ticks":"outside",
             "tickwidth":2
            },
            "colorscale":[
             [
              0,
              "rgb(2,4,25)"
             ],
             [
              0.06274509803921569,
              "rgb(24,15,41)"
             ],
             [
              0.12549019607843137,
              "rgb(47,23,57)"
             ],
             [
              0.18823529411764706,
              "rgb(71,28,72)"
             ],
             [
              0.25098039215686274,
              "rgb(97,30,82)"
             ],
             [
              0.3137254901960784,
              "rgb(123,30,89)"
             ],
             [
              0.3764705882352941,
              "rgb(150,27,91)"
             ],
             [
              0.4392156862745098,
              "rgb(177,22,88)"
             ],
             [
              0.5019607843137255,
              "rgb(203,26,79)"
             ],
             [
              0.5647058823529412,
              "rgb(223,47,67)"
             ],
             [
              0.6274509803921569,
              "rgb(236,76,61)"
             ],
             [
              0.6901960784313725,
              "rgb(242,107,73)"
             ],
             [
              0.7529411764705882,
              "rgb(244,135,95)"
             ],
             [
              0.8156862745098039,
              "rgb(245,162,122)"
             ],
             [
              0.8784313725490196,
              "rgb(246,188,153)"
             ],
             [
              0.9411764705882353,
              "rgb(247,212,187)"
             ],
             [
              1,
              "rgb(250,234,220)"
             ]
            ],
            "type":"surface"
           }
          ],
          "table":[
           {
            "cells":{
             "fill":{
              "color":"rgb(231,231,240)"
             },
             "line":{
              "color":"white"
             }
            },
            "header":{
             "fill":{
              "color":"rgb(183,183,191)"
             },
             "line":{
              "color":"white"
             }
            },
            "type":"table"
           }
          ]
         },
         "layout":{
          "annotationdefaults":{
           "arrowcolor":"rgb(67,103,167)"
          },
          "autotypenumbers":"strict",
          "coloraxis":{
           "colorbar":{
            "outlinewidth":0,
            "tickcolor":"rgb(36,36,36)",
            "ticklen":8,
            "ticks":"outside",
            "tickwidth":2
           }
          },
          "colorscale":{
           "sequential":[
            [
             0,
             "rgb(2,4,25)"
            ],
            [
             0.06274509803921569,
             "rgb(24,15,41)"
            ],
            [
             0.12549019607843137,
             "rgb(47,23,57)"
            ],
            [
             0.18823529411764706,
             "rgb(71,28,72)"
            ],
            [
             0.25098039215686274,
             "rgb(97,30,82)"
            ],
            [
             0.3137254901960784,
             "rgb(123,30,89)"
            ],
            [
             0.3764705882352941,
             "rgb(150,27,91)"
            ],
            [
             0.4392156862745098,
             "rgb(177,22,88)"
            ],
            [
             0.5019607843137255,
             "rgb(203,26,79)"
            ],
            [
             0.5647058823529412,
             "rgb(223,47,67)"
            ],
            [
             0.6274509803921569,
             "rgb(236,76,61)"
            ],
            [
             0.6901960784313725,
             "rgb(242,107,73)"
            ],
            [
             0.7529411764705882,
             "rgb(244,135,95)"
            ],
            [
             0.8156862745098039,
             "rgb(245,162,122)"
            ],
            [
             0.8784313725490196,
             "rgb(246,188,153)"
            ],
            [
             0.9411764705882353,
             "rgb(247,212,187)"
            ],
            [
             1,
             "rgb(250,234,220)"
            ]
           ],
           "sequentialminus":[
            [
             0,
             "rgb(2,4,25)"
            ],
            [
             0.06274509803921569,
             "rgb(24,15,41)"
            ],
            [
             0.12549019607843137,
             "rgb(47,23,57)"
            ],
            [
             0.18823529411764706,
             "rgb(71,28,72)"
            ],
            [
             0.25098039215686274,
             "rgb(97,30,82)"
            ],
            [
             0.3137254901960784,
             "rgb(123,30,89)"
            ],
            [
             0.3764705882352941,
             "rgb(150,27,91)"
            ],
            [
             0.4392156862745098,
             "rgb(177,22,88)"
            ],
            [
             0.5019607843137255,
             "rgb(203,26,79)"
            ],
            [
             0.5647058823529412,
             "rgb(223,47,67)"
            ],
            [
             0.6274509803921569,
             "rgb(236,76,61)"
            ],
            [
             0.6901960784313725,
             "rgb(242,107,73)"
            ],
            [
             0.7529411764705882,
             "rgb(244,135,95)"
            ],
            [
             0.8156862745098039,
             "rgb(245,162,122)"
            ],
            [
             0.8784313725490196,
             "rgb(246,188,153)"
            ],
            [
             0.9411764705882353,
             "rgb(247,212,187)"
            ],
            [
             1,
             "rgb(250,234,220)"
            ]
           ]
          },
          "colorway":[
           "rgb(76,114,176)",
           "rgb(221,132,82)",
           "rgb(85,168,104)",
           "rgb(196,78,82)",
           "rgb(129,114,179)",
           "rgb(147,120,96)",
           "rgb(218,139,195)",
           "rgb(140,140,140)",
           "rgb(204,185,116)",
           "rgb(100,181,205)"
          ],
          "font":{
           "color":"rgb(36,36,36)"
          },
          "geo":{
           "bgcolor":"white",
           "lakecolor":"white",
           "landcolor":"rgb(234,234,242)",
           "showlakes":true,
           "showland":true,
           "subunitcolor":"white"
          },
          "hoverlabel":{
           "align":"left"
          },
          "hovermode":"closest",
          "paper_bgcolor":"white",
          "plot_bgcolor":"rgb(234,234,242)",
          "polar":{
           "angularaxis":{
            "gridcolor":"white",
            "linecolor":"white",
            "showgrid":true,
            "ticks":""
           },
           "bgcolor":"rgb(234,234,242)",
           "radialaxis":{
            "gridcolor":"white",
            "linecolor":"white",
            "showgrid":true,
            "ticks":""
           }
          },
          "scene":{
           "xaxis":{
            "backgroundcolor":"rgb(234,234,242)",
            "gridcolor":"white",
            "gridwidth":2,
            "linecolor":"white",
            "showbackground":true,
            "showgrid":true,
            "ticks":"",
            "zerolinecolor":"white"
           },
           "yaxis":{
            "backgroundcolor":"rgb(234,234,242)",
            "gridcolor":"white",
            "gridwidth":2,
            "linecolor":"white",
            "showbackground":true,
            "showgrid":true,
            "ticks":"",
            "zerolinecolor":"white"
           },
           "zaxis":{
            "backgroundcolor":"rgb(234,234,242)",
            "gridcolor":"white",
            "gridwidth":2,
            "linecolor":"white",
            "showbackground":true,
            "showgrid":true,
            "ticks":"",
            "zerolinecolor":"white"
           }
          },
          "shapedefaults":{
           "fillcolor":"rgb(67,103,167)",
           "line":{
            "width":0
           },
           "opacity":0.5
          },
          "ternary":{
           "aaxis":{
            "gridcolor":"white",
            "linecolor":"white",
            "showgrid":true,
            "ticks":""
           },
           "baxis":{
            "gridcolor":"white",
            "linecolor":"white",
            "showgrid":true,
            "ticks":""
           },
           "bgcolor":"rgb(234,234,242)",
           "caxis":{
            "gridcolor":"white",
            "linecolor":"white",
            "showgrid":true,
            "ticks":""
           }
          },
          "xaxis":{
           "automargin":true,
           "gridcolor":"white",
           "linecolor":"white",
           "showgrid":true,
           "ticks":"",
           "title":{
            "standoff":15
           },
           "zerolinecolor":"white"
          },
          "yaxis":{
           "automargin":true,
           "gridcolor":"white",
           "linecolor":"white",
           "showgrid":true,
           "ticks":"",
           "title":{
            "standoff":15
           },
           "zerolinecolor":"white"
          }
         }
        },
        "polar":{
         "radialaxis":{
          "visible":true
         }
        },
        "title":{
         "text":"Comparing Kyurem and Xerneas Stats",
         "xanchor":"auto"
        },
        "showlegend":true,
        "width":800,
        "height":600
       },
       "config":{
        "plotlyServerURL":"https:\/\/plot.ly"
       }
      }
     },
     "metadata":{
      
     },
     "output_type":"display_data"
    }
   ],
   "metadata":{
    "datalore":{
     "node_id":"wIRKBof2UhhbtntVUHjgtl",
     "type":"CODE",
     "hide_input_from_viewers":false,
     "hide_output_from_viewers":false,
     "report_properties":{
      "y":647
     }
    }
   }
  },
  {
   "cell_type":"code",
   "source":[
    "# Comparing Xerneas to a dragon type with a similar total amount.\n",
    "strongest_fairy\n",
    "dragon[dragon['Total'] == 680] # 7 populate\n",
    "\n",
    "# Dragon types with a total of 680 share a similar make-up."
   ],
   "execution_count":68,
   "outputs":[
    {
     "data":{
      "text\/html":[
       "<div>\n",
       "<style scoped>\n",
       "    .dataframe tbody tr th:only-of-type {\n",
       "        vertical-align: middle;\n",
       "    }\n",
       "\n",
       "    .dataframe tbody tr th {\n",
       "        vertical-align: top;\n",
       "    }\n",
       "\n",
       "    .dataframe thead th {\n",
       "        text-align: right;\n",
       "    }\n",
       "<\/style>\n",
       "<table border=\"1\" class=\"dataframe\">\n",
       "  <thead>\n",
       "    <tr style=\"text-align: right;\">\n",
       "      <th><\/th>\n",
       "      <th>Name<\/th>\n",
       "      <th>Type 1<\/th>\n",
       "      <th>Type 2<\/th>\n",
       "      <th>Total<\/th>\n",
       "      <th>HP<\/th>\n",
       "      <th>Attack<\/th>\n",
       "      <th>Defense<\/th>\n",
       "      <th>Sp. Atk<\/th>\n",
       "      <th>Sp. Def<\/th>\n",
       "      <th>Speed<\/th>\n",
       "    <\/tr>\n",
       "  <\/thead>\n",
       "  <tbody>\n",
       "    <tr>\n",
       "      <th>425<\/th>\n",
       "      <td>Rayquaza<\/td>\n",
       "      <td>Dragon<\/td>\n",
       "      <td>Flying<\/td>\n",
       "      <td>680<\/td>\n",
       "      <td>105<\/td>\n",
       "      <td>150<\/td>\n",
       "      <td>90<\/td>\n",
       "      <td>150<\/td>\n",
       "      <td>90<\/td>\n",
       "      <td>95<\/td>\n",
       "    <\/tr>\n",
       "    <tr>\n",
       "      <th>540<\/th>\n",
       "      <td>Dialga<\/td>\n",
       "      <td>Steel<\/td>\n",
       "      <td>Dragon<\/td>\n",
       "      <td>680<\/td>\n",
       "      <td>100<\/td>\n",
       "      <td>120<\/td>\n",
       "      <td>120<\/td>\n",
       "      <td>150<\/td>\n",
       "      <td>100<\/td>\n",
       "      <td>90<\/td>\n",
       "    <\/tr>\n",
       "    <tr>\n",
       "      <th>541<\/th>\n",
       "      <td>Palkia<\/td>\n",
       "      <td>Water<\/td>\n",
       "      <td>Dragon<\/td>\n",
       "      <td>680<\/td>\n",
       "      <td>90<\/td>\n",
       "      <td>120<\/td>\n",
       "      <td>100<\/td>\n",
       "      <td>150<\/td>\n",
       "      <td>120<\/td>\n",
       "      <td>100<\/td>\n",
       "    <\/tr>\n",
       "    <tr>\n",
       "      <th>544<\/th>\n",
       "      <td>Altered Giratina<\/td>\n",
       "      <td>Ghost<\/td>\n",
       "      <td>Dragon<\/td>\n",
       "      <td>680<\/td>\n",
       "      <td>150<\/td>\n",
       "      <td>100<\/td>\n",
       "      <td>120<\/td>\n",
       "      <td>100<\/td>\n",
       "      <td>120<\/td>\n",
       "      <td>90<\/td>\n",
       "    <\/tr>\n",
       "    <tr>\n",
       "      <th>545<\/th>\n",
       "      <td>Giratina<\/td>\n",
       "      <td>Ghost<\/td>\n",
       "      <td>Dragon<\/td>\n",
       "      <td>680<\/td>\n",
       "      <td>150<\/td>\n",
       "      <td>120<\/td>\n",
       "      <td>100<\/td>\n",
       "      <td>120<\/td>\n",
       "      <td>100<\/td>\n",
       "      <td>90<\/td>\n",
       "    <\/tr>\n",
       "    <tr>\n",
       "      <th>706<\/th>\n",
       "      <td>Reshiram<\/td>\n",
       "      <td>Dragon<\/td>\n",
       "      <td>Fire<\/td>\n",
       "      <td>680<\/td>\n",
       "      <td>100<\/td>\n",
       "      <td>120<\/td>\n",
       "      <td>100<\/td>\n",
       "      <td>150<\/td>\n",
       "      <td>120<\/td>\n",
       "      <td>90<\/td>\n",
       "    <\/tr>\n",
       "    <tr>\n",
       "      <th>707<\/th>\n",
       "      <td>Zekrom<\/td>\n",
       "      <td>Dragon<\/td>\n",
       "      <td>Electric<\/td>\n",
       "      <td>680<\/td>\n",
       "      <td>100<\/td>\n",
       "      <td>150<\/td>\n",
       "      <td>120<\/td>\n",
       "      <td>120<\/td>\n",
       "      <td>100<\/td>\n",
       "      <td>90<\/td>\n",
       "    <\/tr>\n",
       "  <\/tbody>\n",
       "<\/table>\n",
       "<\/div>"
      ]
     },
     "metadata":{
      
     },
     "output_type":"display_data"
    }
   ],
   "metadata":{
    "datalore":{
     "node_id":"IS587WOEbi0L5aS6q2LDZS",
     "type":"CODE",
     "hide_input_from_viewers":false,
     "hide_output_from_viewers":false,
     "report_properties":{
      "y":650
     }
    }
   }
  },
  {
   "cell_type":"code",
   "source":[
    "# Separating out Rayquaza\n",
    "rayquaza = dragon[dragon['Name'] == 'Rayquaza']\n",
    "rayquaza\n",
    "\n",
    "# Dropping the total column\n",
    "rayquaza.drop(['Total'], axis=1, inplace=True)"
   ],
   "execution_count":69,
   "outputs":[
    {
     "name":"stderr",
     "text":[
      "\/opt\/python\/envs\/default\/lib\/python3.8\/site-packages\/pandas\/core\/frame.py:4906: SettingWithCopyWarning:\n",
      "\n",
      "\n",
      "A value is trying to be set on a copy of a slice from a DataFrame\n",
      "\n",
      "See the caveats in the documentation: https:\/\/pandas.pydata.org\/pandas-docs\/stable\/user_guide\/indexing.html#returning-a-view-versus-a-copy\n",
      "\n"
     ],
     "output_type":"stream"
    }
   ],
   "metadata":{
    "datalore":{
     "node_id":"VGCs3GzrM6YR40UWKhozja",
     "type":"CODE",
     "hide_input_from_viewers":false,
     "hide_output_from_viewers":false,
     "report_properties":{
      "y":653
     }
    }
   }
  },
  {
   "cell_type":"code",
   "source":[
    "rayquaza"
   ],
   "execution_count":70,
   "outputs":[
    {
     "data":{
      "text\/html":[
       "<div>\n",
       "<style scoped>\n",
       "    .dataframe tbody tr th:only-of-type {\n",
       "        vertical-align: middle;\n",
       "    }\n",
       "\n",
       "    .dataframe tbody tr th {\n",
       "        vertical-align: top;\n",
       "    }\n",
       "\n",
       "    .dataframe thead th {\n",
       "        text-align: right;\n",
       "    }\n",
       "<\/style>\n",
       "<table border=\"1\" class=\"dataframe\">\n",
       "  <thead>\n",
       "    <tr style=\"text-align: right;\">\n",
       "      <th><\/th>\n",
       "      <th>Name<\/th>\n",
       "      <th>Type 1<\/th>\n",
       "      <th>Type 2<\/th>\n",
       "      <th>HP<\/th>\n",
       "      <th>Attack<\/th>\n",
       "      <th>Defense<\/th>\n",
       "      <th>Sp. Atk<\/th>\n",
       "      <th>Sp. Def<\/th>\n",
       "      <th>Speed<\/th>\n",
       "    <\/tr>\n",
       "  <\/thead>\n",
       "  <tbody>\n",
       "    <tr>\n",
       "      <th>425<\/th>\n",
       "      <td>Rayquaza<\/td>\n",
       "      <td>Dragon<\/td>\n",
       "      <td>Flying<\/td>\n",
       "      <td>105<\/td>\n",
       "      <td>150<\/td>\n",
       "      <td>90<\/td>\n",
       "      <td>150<\/td>\n",
       "      <td>90<\/td>\n",
       "      <td>95<\/td>\n",
       "    <\/tr>\n",
       "  <\/tbody>\n",
       "<\/table>\n",
       "<\/div>"
      ]
     },
     "metadata":{
      
     },
     "output_type":"display_data"
    }
   ],
   "metadata":{
    "datalore":{
     "node_id":"LDvRQtv7BUmnuXC91XiXcl",
     "type":"CODE",
     "hide_input_from_viewers":false,
     "hide_output_from_viewers":false,
     "report_properties":{
      "y":656
     }
    }
   }
  },
  {
   "cell_type":"code",
   "source":[
    "# Writing a function to return a pokemon stats list\n",
    "def get_stats(df):\n",
    "    df_list = df.values.tolist()\n",
    "    df_list1 = df_list[0]\n",
    "    stats = df_list1[4:10]\n",
    "    return stats"
   ],
   "execution_count":71,
   "outputs":[
    
   ],
   "metadata":{
    "datalore":{
     "node_id":"HnPPw2kxF3csEBCohNv9en",
     "type":"CODE",
     "hide_input_from_viewers":false,
     "hide_output_from_viewers":false,
     "report_properties":{
      "y":659
     }
    }
   }
  },
  {
   "cell_type":"code",
   "source":[
    "rayquaza_stats = get_stats(rayquaza)\n",
    "rayquaza_stats"
   ],
   "execution_count":72,
   "outputs":[
    {
     "data":{
      "text\/plain":[
       "[150, 90, 150, 90, 95]"
      ]
     },
     "metadata":{
      
     },
     "output_type":"display_data"
    }
   ],
   "metadata":{
    "datalore":{
     "node_id":"OG2hfFSytLnFajbyp5XkTJ",
     "type":"CODE",
     "hide_input_from_viewers":false,
     "hide_output_from_viewers":false,
     "report_properties":{
      "y":662
     }
    }
   }
  },
  {
   "cell_type":"code",
   "source":[
    "# A function to return an overlapping radar chart\n",
    "\n",
    "def compare_stats(stats1, stats2, name1, name2):\n",
    "    # Draw the overlapping radar chart\n",
    "    fig = go.Figure()\n",
    "\n",
    "    fig.add_trace(go.Scatterpolar(\n",
    "        r=stats1,\n",
    "        theta=labels,\n",
    "        fill='toself',\n",
    "        name=name1\n",
    "    ))\n",
    "\n",
    "    fig.add_trace(go.Scatterpolar(\n",
    "        r=stats2,\n",
    "        theta=labels,\n",
    "        fill='toself',\n",
    "        name=name2\n",
    "    ))\n",
    "\n",
    "    fig.update_layout(\n",
    "    polar=dict(\n",
    "        radialaxis=dict(\n",
    "        visible=True\n",
    "        )),\n",
    "    showlegend=True,\n",
    "    title=f'{name1} and {name2} Stats',\n",
    "    template='seaborn',\n",
    "    width=800,\n",
    "    height=600\n",
    "    )\n",
    "\n",
    "    fig.show()"
   ],
   "execution_count":73,
   "outputs":[
    
   ],
   "metadata":{
    "datalore":{
     "node_id":"HXkP4dW7y8FNc5VrMNSY5K",
     "type":"CODE",
     "hide_input_from_viewers":false,
     "hide_output_from_viewers":false,
     "report_properties":{
      "y":665
     }
    }
   }
  },
  {
   "cell_type":"code",
   "source":[
    "compare_stats(rayquaza_stats, fairy_stats, 'Rayquaza', 'Xerneas')\n",
    "# Xerneas excels against rayquaza in attack, special attack, and speed.\n",
    "# While the strongest fairy type pokemon may not be a match for the strongest dragon type pokemon,\n",
    "    # this pokemon excels against pokemons that are similar to it in total score."
   ],
   "execution_count":74,
   "outputs":[
    {
     "data":{
      "application\/vnd.plotly.v1+json":{
       "data":[
        {
         "fill":"toself",
         "name":"Rayquaza",
         "r":[
          150,
          90,
          150,
          90,
          95
         ],
         "theta":[
          "HP",
          "Attack",
          "Defense",
          "Sp. Atk",
          "Sp. Def",
          "Speed"
         ],
         "type":"scatterpolar"
        },
        {
         "fill":"toself",
         "name":"Xerneas",
         "r":[
          126,
          131,
          95,
          131,
          98,
          99
         ],
         "theta":[
          "HP",
          "Attack",
          "Defense",
          "Sp. Atk",
          "Sp. Def",
          "Speed"
         ],
         "type":"scatterpolar"
        }
       ],
       "layout":{
        "template":{
         "data":{
          "barpolar":[
           {
            "marker":{
             "line":{
              "color":"rgb(234,234,242)",
              "width":0.5
             },
             "pattern":{
              "fillmode":"overlay",
              "size":10,
              "solidity":0.2
             }
            },
            "type":"barpolar"
           }
          ],
          "bar":[
           {
            "error_x":{
             "color":"rgb(36,36,36)"
            },
            "error_y":{
             "color":"rgb(36,36,36)"
            },
            "marker":{
             "line":{
              "color":"rgb(234,234,242)",
              "width":0.5
             },
             "pattern":{
              "fillmode":"overlay",
              "size":10,
              "solidity":0.2
             }
            },
            "type":"bar"
           }
          ],
          "carpet":[
           {
            "aaxis":{
             "endlinecolor":"rgb(36,36,36)",
             "gridcolor":"white",
             "linecolor":"white",
             "minorgridcolor":"white",
             "startlinecolor":"rgb(36,36,36)"
            },
            "baxis":{
             "endlinecolor":"rgb(36,36,36)",
             "gridcolor":"white",
             "linecolor":"white",
             "minorgridcolor":"white",
             "startlinecolor":"rgb(36,36,36)"
            },
            "type":"carpet"
           }
          ],
          "choropleth":[
           {
            "colorbar":{
             "outlinewidth":0,
             "tickcolor":"rgb(36,36,36)",
             "ticklen":8,
             "ticks":"outside",
             "tickwidth":2
            },
            "type":"choropleth"
           }
          ],
          "contourcarpet":[
           {
            "colorbar":{
             "outlinewidth":0,
             "tickcolor":"rgb(36,36,36)",
             "ticklen":8,
             "ticks":"outside",
             "tickwidth":2
            },
            "type":"contourcarpet"
           }
          ],
          "contour":[
           {
            "colorbar":{
             "outlinewidth":0,
             "tickcolor":"rgb(36,36,36)",
             "ticklen":8,
             "ticks":"outside",
             "tickwidth":2
            },
            "colorscale":[
             [
              0,
              "rgb(2,4,25)"
             ],
             [
              0.06274509803921569,
              "rgb(24,15,41)"
             ],
             [
              0.12549019607843137,
              "rgb(47,23,57)"
             ],
             [
              0.18823529411764706,
              "rgb(71,28,72)"
             ],
             [
              0.25098039215686274,
              "rgb(97,30,82)"
             ],
             [
              0.3137254901960784,
              "rgb(123,30,89)"
             ],
             [
              0.3764705882352941,
              "rgb(150,27,91)"
             ],
             [
              0.4392156862745098,
              "rgb(177,22,88)"
             ],
             [
              0.5019607843137255,
              "rgb(203,26,79)"
             ],
             [
              0.5647058823529412,
              "rgb(223,47,67)"
             ],
             [
              0.6274509803921569,
              "rgb(236,76,61)"
             ],
             [
              0.6901960784313725,
              "rgb(242,107,73)"
             ],
             [
              0.7529411764705882,
              "rgb(244,135,95)"
             ],
             [
              0.8156862745098039,
              "rgb(245,162,122)"
             ],
             [
              0.8784313725490196,
              "rgb(246,188,153)"
             ],
             [
              0.9411764705882353,
              "rgb(247,212,187)"
             ],
             [
              1,
              "rgb(250,234,220)"
             ]
            ],
            "type":"contour"
           }
          ],
          "heatmapgl":[
           {
            "colorbar":{
             "outlinewidth":0,
             "tickcolor":"rgb(36,36,36)",
             "ticklen":8,
             "ticks":"outside",
             "tickwidth":2
            },
            "colorscale":[
             [
              0,
              "rgb(2,4,25)"
             ],
             [
              0.06274509803921569,
              "rgb(24,15,41)"
             ],
             [
              0.12549019607843137,
              "rgb(47,23,57)"
             ],
             [
              0.18823529411764706,
              "rgb(71,28,72)"
             ],
             [
              0.25098039215686274,
              "rgb(97,30,82)"
             ],
             [
              0.3137254901960784,
              "rgb(123,30,89)"
             ],
             [
              0.3764705882352941,
              "rgb(150,27,91)"
             ],
             [
              0.4392156862745098,
              "rgb(177,22,88)"
             ],
             [
              0.5019607843137255,
              "rgb(203,26,79)"
             ],
             [
              0.5647058823529412,
              "rgb(223,47,67)"
             ],
             [
              0.6274509803921569,
              "rgb(236,76,61)"
             ],
             [
              0.6901960784313725,
              "rgb(242,107,73)"
             ],
             [
              0.7529411764705882,
              "rgb(244,135,95)"
             ],
             [
              0.8156862745098039,
              "rgb(245,162,122)"
             ],
             [
              0.8784313725490196,
              "rgb(246,188,153)"
             ],
             [
              0.9411764705882353,
              "rgb(247,212,187)"
             ],
             [
              1,
              "rgb(250,234,220)"
             ]
            ],
            "type":"heatmapgl"
           }
          ],
          "heatmap":[
           {
            "colorbar":{
             "outlinewidth":0,
             "tickcolor":"rgb(36,36,36)",
             "ticklen":8,
             "ticks":"outside",
             "tickwidth":2
            },
            "colorscale":[
             [
              0,
              "rgb(2,4,25)"
             ],
             [
              0.06274509803921569,
              "rgb(24,15,41)"
             ],
             [
              0.12549019607843137,
              "rgb(47,23,57)"
             ],
             [
              0.18823529411764706,
              "rgb(71,28,72)"
             ],
             [
              0.25098039215686274,
              "rgb(97,30,82)"
             ],
             [
              0.3137254901960784,
              "rgb(123,30,89)"
             ],
             [
              0.3764705882352941,
              "rgb(150,27,91)"
             ],
             [
              0.4392156862745098,
              "rgb(177,22,88)"
             ],
             [
              0.5019607843137255,
              "rgb(203,26,79)"
             ],
             [
              0.5647058823529412,
              "rgb(223,47,67)"
             ],
             [
              0.6274509803921569,
              "rgb(236,76,61)"
             ],
             [
              0.6901960784313725,
              "rgb(242,107,73)"
             ],
             [
              0.7529411764705882,
              "rgb(244,135,95)"
             ],
             [
              0.8156862745098039,
              "rgb(245,162,122)"
             ],
             [
              0.8784313725490196,
              "rgb(246,188,153)"
             ],
             [
              0.9411764705882353,
              "rgb(247,212,187)"
             ],
             [
              1,
              "rgb(250,234,220)"
             ]
            ],
            "type":"heatmap"
           }
          ],
          "histogram2dcontour":[
           {
            "colorbar":{
             "outlinewidth":0,
             "tickcolor":"rgb(36,36,36)",
             "ticklen":8,
             "ticks":"outside",
             "tickwidth":2
            },
            "colorscale":[
             [
              0,
              "rgb(2,4,25)"
             ],
             [
              0.06274509803921569,
              "rgb(24,15,41)"
             ],
             [
              0.12549019607843137,
              "rgb(47,23,57)"
             ],
             [
              0.18823529411764706,
              "rgb(71,28,72)"
             ],
             [
              0.25098039215686274,
              "rgb(97,30,82)"
             ],
             [
              0.3137254901960784,
              "rgb(123,30,89)"
             ],
             [
              0.3764705882352941,
              "rgb(150,27,91)"
             ],
             [
              0.4392156862745098,
              "rgb(177,22,88)"
             ],
             [
              0.5019607843137255,
              "rgb(203,26,79)"
             ],
             [
              0.5647058823529412,
              "rgb(223,47,67)"
             ],
             [
              0.6274509803921569,
              "rgb(236,76,61)"
             ],
             [
              0.6901960784313725,
              "rgb(242,107,73)"
             ],
             [
              0.7529411764705882,
              "rgb(244,135,95)"
             ],
             [
              0.8156862745098039,
              "rgb(245,162,122)"
             ],
             [
              0.8784313725490196,
              "rgb(246,188,153)"
             ],
             [
              0.9411764705882353,
              "rgb(247,212,187)"
             ],
             [
              1,
              "rgb(250,234,220)"
             ]
            ],
            "type":"histogram2dcontour"
           }
          ],
          "histogram2d":[
           {
            "colorbar":{
             "outlinewidth":0,
             "tickcolor":"rgb(36,36,36)",
             "ticklen":8,
             "ticks":"outside",
             "tickwidth":2
            },
            "colorscale":[
             [
              0,
              "rgb(2,4,25)"
             ],
             [
              0.06274509803921569,
              "rgb(24,15,41)"
             ],
             [
              0.12549019607843137,
              "rgb(47,23,57)"
             ],
             [
              0.18823529411764706,
              "rgb(71,28,72)"
             ],
             [
              0.25098039215686274,
              "rgb(97,30,82)"
             ],
             [
              0.3137254901960784,
              "rgb(123,30,89)"
             ],
             [
              0.3764705882352941,
              "rgb(150,27,91)"
             ],
             [
              0.4392156862745098,
              "rgb(177,22,88)"
             ],
             [
              0.5019607843137255,
              "rgb(203,26,79)"
             ],
             [
              0.5647058823529412,
              "rgb(223,47,67)"
             ],
             [
              0.6274509803921569,
              "rgb(236,76,61)"
             ],
             [
              0.6901960784313725,
              "rgb(242,107,73)"
             ],
             [
              0.7529411764705882,
              "rgb(244,135,95)"
             ],
             [
              0.8156862745098039,
              "rgb(245,162,122)"
             ],
             [
              0.8784313725490196,
              "rgb(246,188,153)"
             ],
             [
              0.9411764705882353,
              "rgb(247,212,187)"
             ],
             [
              1,
              "rgb(250,234,220)"
             ]
            ],
            "type":"histogram2d"
           }
          ],
          "histogram":[
           {
            "marker":{
             "pattern":{
              "fillmode":"overlay",
              "size":10,
              "solidity":0.2
             }
            },
            "type":"histogram"
           }
          ],
          "mesh3d":[
           {
            "colorbar":{
             "outlinewidth":0,
             "tickcolor":"rgb(36,36,36)",
             "ticklen":8,
             "ticks":"outside",
             "tickwidth":2
            },
            "type":"mesh3d"
           }
          ],
          "parcoords":[
           {
            "line":{
             "colorbar":{
              "outlinewidth":0,
              "tickcolor":"rgb(36,36,36)",
              "ticklen":8,
              "ticks":"outside",
              "tickwidth":2
             }
            },
            "type":"parcoords"
           }
          ],
          "pie":[
           {
            "automargin":true,
            "type":"pie"
           }
          ],
          "scatter3d":[
           {
            "line":{
             "colorbar":{
              "outlinewidth":0,
              "tickcolor":"rgb(36,36,36)",
              "ticklen":8,
              "ticks":"outside",
              "tickwidth":2
             }
            },
            "marker":{
             "colorbar":{
              "outlinewidth":0,
              "tickcolor":"rgb(36,36,36)",
              "ticklen":8,
              "ticks":"outside",
              "tickwidth":2
             }
            },
            "type":"scatter3d"
           }
          ],
          "scattercarpet":[
           {
            "marker":{
             "colorbar":{
              "outlinewidth":0,
              "tickcolor":"rgb(36,36,36)",
              "ticklen":8,
              "ticks":"outside",
              "tickwidth":2
             }
            },
            "type":"scattercarpet"
           }
          ],
          "scattergeo":[
           {
            "marker":{
             "colorbar":{
              "outlinewidth":0,
              "tickcolor":"rgb(36,36,36)",
              "ticklen":8,
              "ticks":"outside",
              "tickwidth":2
             }
            },
            "type":"scattergeo"
           }
          ],
          "scattergl":[
           {
            "marker":{
             "colorbar":{
              "outlinewidth":0,
              "tickcolor":"rgb(36,36,36)",
              "ticklen":8,
              "ticks":"outside",
              "tickwidth":2
             }
            },
            "type":"scattergl"
           }
          ],
          "scattermapbox":[
           {
            "marker":{
             "colorbar":{
              "outlinewidth":0,
              "tickcolor":"rgb(36,36,36)",
              "ticklen":8,
              "ticks":"outside",
              "tickwidth":2
             }
            },
            "type":"scattermapbox"
           }
          ],
          "scatterpolargl":[
           {
            "marker":{
             "colorbar":{
              "outlinewidth":0,
              "tickcolor":"rgb(36,36,36)",
              "ticklen":8,
              "ticks":"outside",
              "tickwidth":2
             }
            },
            "type":"scatterpolargl"
           }
          ],
          "scatterpolar":[
           {
            "marker":{
             "colorbar":{
              "outlinewidth":0,
              "tickcolor":"rgb(36,36,36)",
              "ticklen":8,
              "ticks":"outside",
              "tickwidth":2
             }
            },
            "type":"scatterpolar"
           }
          ],
          "scatter":[
           {
            "marker":{
             "colorbar":{
              "outlinewidth":0,
              "tickcolor":"rgb(36,36,36)",
              "ticklen":8,
              "ticks":"outside",
              "tickwidth":2
             }
            },
            "type":"scatter"
           }
          ],
          "scatterternary":[
           {
            "marker":{
             "colorbar":{
              "outlinewidth":0,
              "tickcolor":"rgb(36,36,36)",
              "ticklen":8,
              "ticks":"outside",
              "tickwidth":2
             }
            },
            "type":"scatterternary"
           }
          ],
          "surface":[
           {
            "colorbar":{
             "outlinewidth":0,
             "tickcolor":"rgb(36,36,36)",
             "ticklen":8,
             "ticks":"outside",
             "tickwidth":2
            },
            "colorscale":[
             [
              0,
              "rgb(2,4,25)"
             ],
             [
              0.06274509803921569,
              "rgb(24,15,41)"
             ],
             [
              0.12549019607843137,
              "rgb(47,23,57)"
             ],
             [
              0.18823529411764706,
              "rgb(71,28,72)"
             ],
             [
              0.25098039215686274,
              "rgb(97,30,82)"
             ],
             [
              0.3137254901960784,
              "rgb(123,30,89)"
             ],
             [
              0.3764705882352941,
              "rgb(150,27,91)"
             ],
             [
              0.4392156862745098,
              "rgb(177,22,88)"
             ],
             [
              0.5019607843137255,
              "rgb(203,26,79)"
             ],
             [
              0.5647058823529412,
              "rgb(223,47,67)"
             ],
             [
              0.6274509803921569,
              "rgb(236,76,61)"
             ],
             [
              0.6901960784313725,
              "rgb(242,107,73)"
             ],
             [
              0.7529411764705882,
              "rgb(244,135,95)"
             ],
             [
              0.8156862745098039,
              "rgb(245,162,122)"
             ],
             [
              0.8784313725490196,
              "rgb(246,188,153)"
             ],
             [
              0.9411764705882353,
              "rgb(247,212,187)"
             ],
             [
              1,
              "rgb(250,234,220)"
             ]
            ],
            "type":"surface"
           }
          ],
          "table":[
           {
            "cells":{
             "fill":{
              "color":"rgb(231,231,240)"
             },
             "line":{
              "color":"white"
             }
            },
            "header":{
             "fill":{
              "color":"rgb(183,183,191)"
             },
             "line":{
              "color":"white"
             }
            },
            "type":"table"
           }
          ]
         },
         "layout":{
          "annotationdefaults":{
           "arrowcolor":"rgb(67,103,167)"
          },
          "autotypenumbers":"strict",
          "coloraxis":{
           "colorbar":{
            "outlinewidth":0,
            "tickcolor":"rgb(36,36,36)",
            "ticklen":8,
            "ticks":"outside",
            "tickwidth":2
           }
          },
          "colorscale":{
           "sequential":[
            [
             0,
             "rgb(2,4,25)"
            ],
            [
             0.06274509803921569,
             "rgb(24,15,41)"
            ],
            [
             0.12549019607843137,
             "rgb(47,23,57)"
            ],
            [
             0.18823529411764706,
             "rgb(71,28,72)"
            ],
            [
             0.25098039215686274,
             "rgb(97,30,82)"
            ],
            [
             0.3137254901960784,
             "rgb(123,30,89)"
            ],
            [
             0.3764705882352941,
             "rgb(150,27,91)"
            ],
            [
             0.4392156862745098,
             "rgb(177,22,88)"
            ],
            [
             0.5019607843137255,
             "rgb(203,26,79)"
            ],
            [
             0.5647058823529412,
             "rgb(223,47,67)"
            ],
            [
             0.6274509803921569,
             "rgb(236,76,61)"
            ],
            [
             0.6901960784313725,
             "rgb(242,107,73)"
            ],
            [
             0.7529411764705882,
             "rgb(244,135,95)"
            ],
            [
             0.8156862745098039,
             "rgb(245,162,122)"
            ],
            [
             0.8784313725490196,
             "rgb(246,188,153)"
            ],
            [
             0.9411764705882353,
             "rgb(247,212,187)"
            ],
            [
             1,
             "rgb(250,234,220)"
            ]
           ],
           "sequentialminus":[
            [
             0,
             "rgb(2,4,25)"
            ],
            [
             0.06274509803921569,
             "rgb(24,15,41)"
            ],
            [
             0.12549019607843137,
             "rgb(47,23,57)"
            ],
            [
             0.18823529411764706,
             "rgb(71,28,72)"
            ],
            [
             0.25098039215686274,
             "rgb(97,30,82)"
            ],
            [
             0.3137254901960784,
             "rgb(123,30,89)"
            ],
            [
             0.3764705882352941,
             "rgb(150,27,91)"
            ],
            [
             0.4392156862745098,
             "rgb(177,22,88)"
            ],
            [
             0.5019607843137255,
             "rgb(203,26,79)"
            ],
            [
             0.5647058823529412,
             "rgb(223,47,67)"
            ],
            [
             0.6274509803921569,
             "rgb(236,76,61)"
            ],
            [
             0.6901960784313725,
             "rgb(242,107,73)"
            ],
            [
             0.7529411764705882,
             "rgb(244,135,95)"
            ],
            [
             0.8156862745098039,
             "rgb(245,162,122)"
            ],
            [
             0.8784313725490196,
             "rgb(246,188,153)"
            ],
            [
             0.9411764705882353,
             "rgb(247,212,187)"
            ],
            [
             1,
             "rgb(250,234,220)"
            ]
           ]
          },
          "colorway":[
           "rgb(76,114,176)",
           "rgb(221,132,82)",
           "rgb(85,168,104)",
           "rgb(196,78,82)",
           "rgb(129,114,179)",
           "rgb(147,120,96)",
           "rgb(218,139,195)",
           "rgb(140,140,140)",
           "rgb(204,185,116)",
           "rgb(100,181,205)"
          ],
          "font":{
           "color":"rgb(36,36,36)"
          },
          "geo":{
           "bgcolor":"white",
           "lakecolor":"white",
           "landcolor":"rgb(234,234,242)",
           "showlakes":true,
           "showland":true,
           "subunitcolor":"white"
          },
          "hoverlabel":{
           "align":"left"
          },
          "hovermode":"closest",
          "paper_bgcolor":"white",
          "plot_bgcolor":"rgb(234,234,242)",
          "polar":{
           "angularaxis":{
            "gridcolor":"white",
            "linecolor":"white",
            "showgrid":true,
            "ticks":""
           },
           "bgcolor":"rgb(234,234,242)",
           "radialaxis":{
            "gridcolor":"white",
            "linecolor":"white",
            "showgrid":true,
            "ticks":""
           }
          },
          "scene":{
           "xaxis":{
            "backgroundcolor":"rgb(234,234,242)",
            "gridcolor":"white",
            "gridwidth":2,
            "linecolor":"white",
            "showbackground":true,
            "showgrid":true,
            "ticks":"",
            "zerolinecolor":"white"
           },
           "yaxis":{
            "backgroundcolor":"rgb(234,234,242)",
            "gridcolor":"white",
            "gridwidth":2,
            "linecolor":"white",
            "showbackground":true,
            "showgrid":true,
            "ticks":"",
            "zerolinecolor":"white"
           },
           "zaxis":{
            "backgroundcolor":"rgb(234,234,242)",
            "gridcolor":"white",
            "gridwidth":2,
            "linecolor":"white",
            "showbackground":true,
            "showgrid":true,
            "ticks":"",
            "zerolinecolor":"white"
           }
          },
          "shapedefaults":{
           "fillcolor":"rgb(67,103,167)",
           "line":{
            "width":0
           },
           "opacity":0.5
          },
          "ternary":{
           "aaxis":{
            "gridcolor":"white",
            "linecolor":"white",
            "showgrid":true,
            "ticks":""
           },
           "baxis":{
            "gridcolor":"white",
            "linecolor":"white",
            "showgrid":true,
            "ticks":""
           },
           "bgcolor":"rgb(234,234,242)",
           "caxis":{
            "gridcolor":"white",
            "linecolor":"white",
            "showgrid":true,
            "ticks":""
           }
          },
          "xaxis":{
           "automargin":true,
           "gridcolor":"white",
           "linecolor":"white",
           "showgrid":true,
           "ticks":"",
           "title":{
            "standoff":15
           },
           "zerolinecolor":"white"
          },
          "yaxis":{
           "automargin":true,
           "gridcolor":"white",
           "linecolor":"white",
           "showgrid":true,
           "ticks":"",
           "title":{
            "standoff":15
           },
           "zerolinecolor":"white"
          }
         }
        },
        "polar":{
         "radialaxis":{
          "visible":true
         }
        },
        "showlegend":true,
        "title":{
         "text":"Rayquaza and Xerneas Stats"
        },
        "width":800,
        "height":600
       },
       "config":{
        "plotlyServerURL":"https:\/\/plot.ly"
       }
      }
     },
     "metadata":{
      
     },
     "output_type":"display_data"
    }
   ],
   "metadata":{
    "datalore":{
     "node_id":"KzEmnAFPkP2zLK5uvgjp3e",
     "type":"CODE",
     "hide_input_from_viewers":false,
     "hide_output_from_viewers":false,
     "report_properties":{
      "y":668
     }
    }
   }
  },
  {
   "cell_type":"code",
   "source":[
    "# Function to get weakest pokemon by the total column.\n",
    "\n",
    "def get_weakest(df):\n",
    "    weakest = min(df['Total'])\n",
    "    weakest_pokemon = df[df['Total'] == weakest]\n",
    "    name = df['Name'][df['Total'] == weakest]\n",
    "    name = name.tolist()\n",
    "    name = name[0]\n",
    "    stats = get_stats(weakest_pokemon)\n",
    "    return stats, name"
   ],
   "execution_count":75,
   "outputs":[
    
   ],
   "metadata":{
    "datalore":{
     "node_id":"YLOHN1C8gUi3W9wkM5piDo",
     "type":"CODE",
     "hide_input_from_viewers":false,
     "hide_output_from_viewers":false,
     "report_properties":{
      "y":671
     }
    }
   }
  },
  {
   "cell_type":"code",
   "source":[
    "# How do the weakest fairy types and dragon types fair?\n",
    "# Drop the total column in both fairy and dragon datasets.\n",
    "dropped_dragon = dragon.drop(['Total'], axis=1)\n",
    "dropped_fairy = fairy.drop(['Total'], axis=1)"
   ],
   "execution_count":76,
   "outputs":[
    
   ],
   "metadata":{
    "datalore":{
     "node_id":"6GMWQF1VAgy2MCh6gDVlwh",
     "type":"CODE",
     "hide_input_from_viewers":false,
     "hide_output_from_viewers":false,
     "report_properties":{
      "y":674
     }
    }
   }
  },
  {
   "cell_type":"code",
   "source":[
    "# Get weakest dragon\n",
    "weak_dragon_stats, weak_dragon_name = get_weakest(dragon)\n",
    "\n",
    "# Get the weakest fairy\n",
    "weak_fairy_stats, weak_fairy_name = get_weakest(fairy)"
   ],
   "execution_count":77,
   "outputs":[
    
   ],
   "metadata":{
    "datalore":{
     "node_id":"fZ4W59nZuseYbivqWzfdmh",
     "type":"CODE",
     "hide_input_from_viewers":false,
     "hide_output_from_viewers":false,
     "report_properties":{
      "y":677
     }
    }
   }
  },
  {
   "cell_type":"code",
   "source":[
    "# Use radar function to draw overlapped radar graphs for the weakest fairy and dragon types.\n",
    "compare_stats(weak_dragon_stats, weak_fairy_stats, weak_dragon_name, weak_fairy_name)\n",
    "\n",
    "# Noibat is a multi-talented pokemon, while Azurill is more of a damage sponge with low base attacks. \n",
    "# Noibat's speed may cancel out Azurill's usefulness, however. "
   ],
   "execution_count":78,
   "outputs":[
    {
     "data":{
      "application\/vnd.plotly.v1+json":{
       "data":[
        {
         "fill":"toself",
         "name":"Noibat",
         "r":[
          40,
          30,
          35,
          45,
          40,
          55
         ],
         "theta":[
          "HP",
          "Attack",
          "Defense",
          "Sp. Atk",
          "Sp. Def",
          "Speed"
         ],
         "type":"scatterpolar"
        },
        {
         "fill":"toself",
         "name":"Azurill",
         "r":[
          50,
          20,
          40,
          20,
          40,
          20
         ],
         "theta":[
          "HP",
          "Attack",
          "Defense",
          "Sp. Atk",
          "Sp. Def",
          "Speed"
         ],
         "type":"scatterpolar"
        }
       ],
       "layout":{
        "template":{
         "data":{
          "barpolar":[
           {
            "marker":{
             "line":{
              "color":"rgb(234,234,242)",
              "width":0.5
             },
             "pattern":{
              "fillmode":"overlay",
              "size":10,
              "solidity":0.2
             }
            },
            "type":"barpolar"
           }
          ],
          "bar":[
           {
            "error_x":{
             "color":"rgb(36,36,36)"
            },
            "error_y":{
             "color":"rgb(36,36,36)"
            },
            "marker":{
             "line":{
              "color":"rgb(234,234,242)",
              "width":0.5
             },
             "pattern":{
              "fillmode":"overlay",
              "size":10,
              "solidity":0.2
             }
            },
            "type":"bar"
           }
          ],
          "carpet":[
           {
            "aaxis":{
             "endlinecolor":"rgb(36,36,36)",
             "gridcolor":"white",
             "linecolor":"white",
             "minorgridcolor":"white",
             "startlinecolor":"rgb(36,36,36)"
            },
            "baxis":{
             "endlinecolor":"rgb(36,36,36)",
             "gridcolor":"white",
             "linecolor":"white",
             "minorgridcolor":"white",
             "startlinecolor":"rgb(36,36,36)"
            },
            "type":"carpet"
           }
          ],
          "choropleth":[
           {
            "colorbar":{
             "outlinewidth":0,
             "tickcolor":"rgb(36,36,36)",
             "ticklen":8,
             "ticks":"outside",
             "tickwidth":2
            },
            "type":"choropleth"
           }
          ],
          "contourcarpet":[
           {
            "colorbar":{
             "outlinewidth":0,
             "tickcolor":"rgb(36,36,36)",
             "ticklen":8,
             "ticks":"outside",
             "tickwidth":2
            },
            "type":"contourcarpet"
           }
          ],
          "contour":[
           {
            "colorbar":{
             "outlinewidth":0,
             "tickcolor":"rgb(36,36,36)",
             "ticklen":8,
             "ticks":"outside",
             "tickwidth":2
            },
            "colorscale":[
             [
              0,
              "rgb(2,4,25)"
             ],
             [
              0.06274509803921569,
              "rgb(24,15,41)"
             ],
             [
              0.12549019607843137,
              "rgb(47,23,57)"
             ],
             [
              0.18823529411764706,
              "rgb(71,28,72)"
             ],
             [
              0.25098039215686274,
              "rgb(97,30,82)"
             ],
             [
              0.3137254901960784,
              "rgb(123,30,89)"
             ],
             [
              0.3764705882352941,
              "rgb(150,27,91)"
             ],
             [
              0.4392156862745098,
              "rgb(177,22,88)"
             ],
             [
              0.5019607843137255,
              "rgb(203,26,79)"
             ],
             [
              0.5647058823529412,
              "rgb(223,47,67)"
             ],
             [
              0.6274509803921569,
              "rgb(236,76,61)"
             ],
             [
              0.6901960784313725,
              "rgb(242,107,73)"
             ],
             [
              0.7529411764705882,
              "rgb(244,135,95)"
             ],
             [
              0.8156862745098039,
              "rgb(245,162,122)"
             ],
             [
              0.8784313725490196,
              "rgb(246,188,153)"
             ],
             [
              0.9411764705882353,
              "rgb(247,212,187)"
             ],
             [
              1,
              "rgb(250,234,220)"
             ]
            ],
            "type":"contour"
           }
          ],
          "heatmapgl":[
           {
            "colorbar":{
             "outlinewidth":0,
             "tickcolor":"rgb(36,36,36)",
             "ticklen":8,
             "ticks":"outside",
             "tickwidth":2
            },
            "colorscale":[
             [
              0,
              "rgb(2,4,25)"
             ],
             [
              0.06274509803921569,
              "rgb(24,15,41)"
             ],
             [
              0.12549019607843137,
              "rgb(47,23,57)"
             ],
             [
              0.18823529411764706,
              "rgb(71,28,72)"
             ],
             [
              0.25098039215686274,
              "rgb(97,30,82)"
             ],
             [
              0.3137254901960784,
              "rgb(123,30,89)"
             ],
             [
              0.3764705882352941,
              "rgb(150,27,91)"
             ],
             [
              0.4392156862745098,
              "rgb(177,22,88)"
             ],
             [
              0.5019607843137255,
              "rgb(203,26,79)"
             ],
             [
              0.5647058823529412,
              "rgb(223,47,67)"
             ],
             [
              0.6274509803921569,
              "rgb(236,76,61)"
             ],
             [
              0.6901960784313725,
              "rgb(242,107,73)"
             ],
             [
              0.7529411764705882,
              "rgb(244,135,95)"
             ],
             [
              0.8156862745098039,
              "rgb(245,162,122)"
             ],
             [
              0.8784313725490196,
              "rgb(246,188,153)"
             ],
             [
              0.9411764705882353,
              "rgb(247,212,187)"
             ],
             [
              1,
              "rgb(250,234,220)"
             ]
            ],
            "type":"heatmapgl"
           }
          ],
          "heatmap":[
           {
            "colorbar":{
             "outlinewidth":0,
             "tickcolor":"rgb(36,36,36)",
             "ticklen":8,
             "ticks":"outside",
             "tickwidth":2
            },
            "colorscale":[
             [
              0,
              "rgb(2,4,25)"
             ],
             [
              0.06274509803921569,
              "rgb(24,15,41)"
             ],
             [
              0.12549019607843137,
              "rgb(47,23,57)"
             ],
             [
              0.18823529411764706,
              "rgb(71,28,72)"
             ],
             [
              0.25098039215686274,
              "rgb(97,30,82)"
             ],
             [
              0.3137254901960784,
              "rgb(123,30,89)"
             ],
             [
              0.3764705882352941,
              "rgb(150,27,91)"
             ],
             [
              0.4392156862745098,
              "rgb(177,22,88)"
             ],
             [
              0.5019607843137255,
              "rgb(203,26,79)"
             ],
             [
              0.5647058823529412,
              "rgb(223,47,67)"
             ],
             [
              0.6274509803921569,
              "rgb(236,76,61)"
             ],
             [
              0.6901960784313725,
              "rgb(242,107,73)"
             ],
             [
              0.7529411764705882,
              "rgb(244,135,95)"
             ],
             [
              0.8156862745098039,
              "rgb(245,162,122)"
             ],
             [
              0.8784313725490196,
              "rgb(246,188,153)"
             ],
             [
              0.9411764705882353,
              "rgb(247,212,187)"
             ],
             [
              1,
              "rgb(250,234,220)"
             ]
            ],
            "type":"heatmap"
           }
          ],
          "histogram2dcontour":[
           {
            "colorbar":{
             "outlinewidth":0,
             "tickcolor":"rgb(36,36,36)",
             "ticklen":8,
             "ticks":"outside",
             "tickwidth":2
            },
            "colorscale":[
             [
              0,
              "rgb(2,4,25)"
             ],
             [
              0.06274509803921569,
              "rgb(24,15,41)"
             ],
             [
              0.12549019607843137,
              "rgb(47,23,57)"
             ],
             [
              0.18823529411764706,
              "rgb(71,28,72)"
             ],
             [
              0.25098039215686274,
              "rgb(97,30,82)"
             ],
             [
              0.3137254901960784,
              "rgb(123,30,89)"
             ],
             [
              0.3764705882352941,
              "rgb(150,27,91)"
             ],
             [
              0.4392156862745098,
              "rgb(177,22,88)"
             ],
             [
              0.5019607843137255,
              "rgb(203,26,79)"
             ],
             [
              0.5647058823529412,
              "rgb(223,47,67)"
             ],
             [
              0.6274509803921569,
              "rgb(236,76,61)"
             ],
             [
              0.6901960784313725,
              "rgb(242,107,73)"
             ],
             [
              0.7529411764705882,
              "rgb(244,135,95)"
             ],
             [
              0.8156862745098039,
              "rgb(245,162,122)"
             ],
             [
              0.8784313725490196,
              "rgb(246,188,153)"
             ],
             [
              0.9411764705882353,
              "rgb(247,212,187)"
             ],
             [
              1,
              "rgb(250,234,220)"
             ]
            ],
            "type":"histogram2dcontour"
           }
          ],
          "histogram2d":[
           {
            "colorbar":{
             "outlinewidth":0,
             "tickcolor":"rgb(36,36,36)",
             "ticklen":8,
             "ticks":"outside",
             "tickwidth":2
            },
            "colorscale":[
             [
              0,
              "rgb(2,4,25)"
             ],
             [
              0.06274509803921569,
              "rgb(24,15,41)"
             ],
             [
              0.12549019607843137,
              "rgb(47,23,57)"
             ],
             [
              0.18823529411764706,
              "rgb(71,28,72)"
             ],
             [
              0.25098039215686274,
              "rgb(97,30,82)"
             ],
             [
              0.3137254901960784,
              "rgb(123,30,89)"
             ],
             [
              0.3764705882352941,
              "rgb(150,27,91)"
             ],
             [
              0.4392156862745098,
              "rgb(177,22,88)"
             ],
             [
              0.5019607843137255,
              "rgb(203,26,79)"
             ],
             [
              0.5647058823529412,
              "rgb(223,47,67)"
             ],
             [
              0.6274509803921569,
              "rgb(236,76,61)"
             ],
             [
              0.6901960784313725,
              "rgb(242,107,73)"
             ],
             [
              0.7529411764705882,
              "rgb(244,135,95)"
             ],
             [
              0.8156862745098039,
              "rgb(245,162,122)"
             ],
             [
              0.8784313725490196,
              "rgb(246,188,153)"
             ],
             [
              0.9411764705882353,
              "rgb(247,212,187)"
             ],
             [
              1,
              "rgb(250,234,220)"
             ]
            ],
            "type":"histogram2d"
           }
          ],
          "histogram":[
           {
            "marker":{
             "pattern":{
              "fillmode":"overlay",
              "size":10,
              "solidity":0.2
             }
            },
            "type":"histogram"
           }
          ],
          "mesh3d":[
           {
            "colorbar":{
             "outlinewidth":0,
             "tickcolor":"rgb(36,36,36)",
             "ticklen":8,
             "ticks":"outside",
             "tickwidth":2
            },
            "type":"mesh3d"
           }
          ],
          "parcoords":[
           {
            "line":{
             "colorbar":{
              "outlinewidth":0,
              "tickcolor":"rgb(36,36,36)",
              "ticklen":8,
              "ticks":"outside",
              "tickwidth":2
             }
            },
            "type":"parcoords"
           }
          ],
          "pie":[
           {
            "automargin":true,
            "type":"pie"
           }
          ],
          "scatter3d":[
           {
            "line":{
             "colorbar":{
              "outlinewidth":0,
              "tickcolor":"rgb(36,36,36)",
              "ticklen":8,
              "ticks":"outside",
              "tickwidth":2
             }
            },
            "marker":{
             "colorbar":{
              "outlinewidth":0,
              "tickcolor":"rgb(36,36,36)",
              "ticklen":8,
              "ticks":"outside",
              "tickwidth":2
             }
            },
            "type":"scatter3d"
           }
          ],
          "scattercarpet":[
           {
            "marker":{
             "colorbar":{
              "outlinewidth":0,
              "tickcolor":"rgb(36,36,36)",
              "ticklen":8,
              "ticks":"outside",
              "tickwidth":2
             }
            },
            "type":"scattercarpet"
           }
          ],
          "scattergeo":[
           {
            "marker":{
             "colorbar":{
              "outlinewidth":0,
              "tickcolor":"rgb(36,36,36)",
              "ticklen":8,
              "ticks":"outside",
              "tickwidth":2
             }
            },
            "type":"scattergeo"
           }
          ],
          "scattergl":[
           {
            "marker":{
             "colorbar":{
              "outlinewidth":0,
              "tickcolor":"rgb(36,36,36)",
              "ticklen":8,
              "ticks":"outside",
              "tickwidth":2
             }
            },
            "type":"scattergl"
           }
          ],
          "scattermapbox":[
           {
            "marker":{
             "colorbar":{
              "outlinewidth":0,
              "tickcolor":"rgb(36,36,36)",
              "ticklen":8,
              "ticks":"outside",
              "tickwidth":2
             }
            },
            "type":"scattermapbox"
           }
          ],
          "scatterpolargl":[
           {
            "marker":{
             "colorbar":{
              "outlinewidth":0,
              "tickcolor":"rgb(36,36,36)",
              "ticklen":8,
              "ticks":"outside",
              "tickwidth":2
             }
            },
            "type":"scatterpolargl"
           }
          ],
          "scatterpolar":[
           {
            "marker":{
             "colorbar":{
              "outlinewidth":0,
              "tickcolor":"rgb(36,36,36)",
              "ticklen":8,
              "ticks":"outside",
              "tickwidth":2
             }
            },
            "type":"scatterpolar"
           }
          ],
          "scatter":[
           {
            "marker":{
             "colorbar":{
              "outlinewidth":0,
              "tickcolor":"rgb(36,36,36)",
              "ticklen":8,
              "ticks":"outside",
              "tickwidth":2
             }
            },
            "type":"scatter"
           }
          ],
          "scatterternary":[
           {
            "marker":{
             "colorbar":{
              "outlinewidth":0,
              "tickcolor":"rgb(36,36,36)",
              "ticklen":8,
              "ticks":"outside",
              "tickwidth":2
             }
            },
            "type":"scatterternary"
           }
          ],
          "surface":[
           {
            "colorbar":{
             "outlinewidth":0,
             "tickcolor":"rgb(36,36,36)",
             "ticklen":8,
             "ticks":"outside",
             "tickwidth":2
            },
            "colorscale":[
             [
              0,
              "rgb(2,4,25)"
             ],
             [
              0.06274509803921569,
              "rgb(24,15,41)"
             ],
             [
              0.12549019607843137,
              "rgb(47,23,57)"
             ],
             [
              0.18823529411764706,
              "rgb(71,28,72)"
             ],
             [
              0.25098039215686274,
              "rgb(97,30,82)"
             ],
             [
              0.3137254901960784,
              "rgb(123,30,89)"
             ],
             [
              0.3764705882352941,
              "rgb(150,27,91)"
             ],
             [
              0.4392156862745098,
              "rgb(177,22,88)"
             ],
             [
              0.5019607843137255,
              "rgb(203,26,79)"
             ],
             [
              0.5647058823529412,
              "rgb(223,47,67)"
             ],
             [
              0.6274509803921569,
              "rgb(236,76,61)"
             ],
             [
              0.6901960784313725,
              "rgb(242,107,73)"
             ],
             [
              0.7529411764705882,
              "rgb(244,135,95)"
             ],
             [
              0.8156862745098039,
              "rgb(245,162,122)"
             ],
             [
              0.8784313725490196,
              "rgb(246,188,153)"
             ],
             [
              0.9411764705882353,
              "rgb(247,212,187)"
             ],
             [
              1,
              "rgb(250,234,220)"
             ]
            ],
            "type":"surface"
           }
          ],
          "table":[
           {
            "cells":{
             "fill":{
              "color":"rgb(231,231,240)"
             },
             "line":{
              "color":"white"
             }
            },
            "header":{
             "fill":{
              "color":"rgb(183,183,191)"
             },
             "line":{
              "color":"white"
             }
            },
            "type":"table"
           }
          ]
         },
         "layout":{
          "annotationdefaults":{
           "arrowcolor":"rgb(67,103,167)"
          },
          "autotypenumbers":"strict",
          "coloraxis":{
           "colorbar":{
            "outlinewidth":0,
            "tickcolor":"rgb(36,36,36)",
            "ticklen":8,
            "ticks":"outside",
            "tickwidth":2
           }
          },
          "colorscale":{
           "sequential":[
            [
             0,
             "rgb(2,4,25)"
            ],
            [
             0.06274509803921569,
             "rgb(24,15,41)"
            ],
            [
             0.12549019607843137,
             "rgb(47,23,57)"
            ],
            [
             0.18823529411764706,
             "rgb(71,28,72)"
            ],
            [
             0.25098039215686274,
             "rgb(97,30,82)"
            ],
            [
             0.3137254901960784,
             "rgb(123,30,89)"
            ],
            [
             0.3764705882352941,
             "rgb(150,27,91)"
            ],
            [
             0.4392156862745098,
             "rgb(177,22,88)"
            ],
            [
             0.5019607843137255,
             "rgb(203,26,79)"
            ],
            [
             0.5647058823529412,
             "rgb(223,47,67)"
            ],
            [
             0.6274509803921569,
             "rgb(236,76,61)"
            ],
            [
             0.6901960784313725,
             "rgb(242,107,73)"
            ],
            [
             0.7529411764705882,
             "rgb(244,135,95)"
            ],
            [
             0.8156862745098039,
             "rgb(245,162,122)"
            ],
            [
             0.8784313725490196,
             "rgb(246,188,153)"
            ],
            [
             0.9411764705882353,
             "rgb(247,212,187)"
            ],
            [
             1,
             "rgb(250,234,220)"
            ]
           ],
           "sequentialminus":[
            [
             0,
             "rgb(2,4,25)"
            ],
            [
             0.06274509803921569,
             "rgb(24,15,41)"
            ],
            [
             0.12549019607843137,
             "rgb(47,23,57)"
            ],
            [
             0.18823529411764706,
             "rgb(71,28,72)"
            ],
            [
             0.25098039215686274,
             "rgb(97,30,82)"
            ],
            [
             0.3137254901960784,
             "rgb(123,30,89)"
            ],
            [
             0.3764705882352941,
             "rgb(150,27,91)"
            ],
            [
             0.4392156862745098,
             "rgb(177,22,88)"
            ],
            [
             0.5019607843137255,
             "rgb(203,26,79)"
            ],
            [
             0.5647058823529412,
             "rgb(223,47,67)"
            ],
            [
             0.6274509803921569,
             "rgb(236,76,61)"
            ],
            [
             0.6901960784313725,
             "rgb(242,107,73)"
            ],
            [
             0.7529411764705882,
             "rgb(244,135,95)"
            ],
            [
             0.8156862745098039,
             "rgb(245,162,122)"
            ],
            [
             0.8784313725490196,
             "rgb(246,188,153)"
            ],
            [
             0.9411764705882353,
             "rgb(247,212,187)"
            ],
            [
             1,
             "rgb(250,234,220)"
            ]
           ]
          },
          "colorway":[
           "rgb(76,114,176)",
           "rgb(221,132,82)",
           "rgb(85,168,104)",
           "rgb(196,78,82)",
           "rgb(129,114,179)",
           "rgb(147,120,96)",
           "rgb(218,139,195)",
           "rgb(140,140,140)",
           "rgb(204,185,116)",
           "rgb(100,181,205)"
          ],
          "font":{
           "color":"rgb(36,36,36)"
          },
          "geo":{
           "bgcolor":"white",
           "lakecolor":"white",
           "landcolor":"rgb(234,234,242)",
           "showlakes":true,
           "showland":true,
           "subunitcolor":"white"
          },
          "hoverlabel":{
           "align":"left"
          },
          "hovermode":"closest",
          "paper_bgcolor":"white",
          "plot_bgcolor":"rgb(234,234,242)",
          "polar":{
           "angularaxis":{
            "gridcolor":"white",
            "linecolor":"white",
            "showgrid":true,
            "ticks":""
           },
           "bgcolor":"rgb(234,234,242)",
           "radialaxis":{
            "gridcolor":"white",
            "linecolor":"white",
            "showgrid":true,
            "ticks":""
           }
          },
          "scene":{
           "xaxis":{
            "backgroundcolor":"rgb(234,234,242)",
            "gridcolor":"white",
            "gridwidth":2,
            "linecolor":"white",
            "showbackground":true,
            "showgrid":true,
            "ticks":"",
            "zerolinecolor":"white"
           },
           "yaxis":{
            "backgroundcolor":"rgb(234,234,242)",
            "gridcolor":"white",
            "gridwidth":2,
            "linecolor":"white",
            "showbackground":true,
            "showgrid":true,
            "ticks":"",
            "zerolinecolor":"white"
           },
           "zaxis":{
            "backgroundcolor":"rgb(234,234,242)",
            "gridcolor":"white",
            "gridwidth":2,
            "linecolor":"white",
            "showbackground":true,
            "showgrid":true,
            "ticks":"",
            "zerolinecolor":"white"
           }
          },
          "shapedefaults":{
           "fillcolor":"rgb(67,103,167)",
           "line":{
            "width":0
           },
           "opacity":0.5
          },
          "ternary":{
           "aaxis":{
            "gridcolor":"white",
            "linecolor":"white",
            "showgrid":true,
            "ticks":""
           },
           "baxis":{
            "gridcolor":"white",
            "linecolor":"white",
            "showgrid":true,
            "ticks":""
           },
           "bgcolor":"rgb(234,234,242)",
           "caxis":{
            "gridcolor":"white",
            "linecolor":"white",
            "showgrid":true,
            "ticks":""
           }
          },
          "xaxis":{
           "automargin":true,
           "gridcolor":"white",
           "linecolor":"white",
           "showgrid":true,
           "ticks":"",
           "title":{
            "standoff":15
           },
           "zerolinecolor":"white"
          },
          "yaxis":{
           "automargin":true,
           "gridcolor":"white",
           "linecolor":"white",
           "showgrid":true,
           "ticks":"",
           "title":{
            "standoff":15
           },
           "zerolinecolor":"white"
          }
         }
        },
        "polar":{
         "radialaxis":{
          "visible":true
         }
        },
        "showlegend":true,
        "title":{
         "text":"Noibat and Azurill Stats"
        },
        "width":800,
        "height":600
       },
       "config":{
        "plotlyServerURL":"https:\/\/plot.ly"
       }
      }
     },
     "metadata":{
      
     },
     "output_type":"display_data"
    }
   ],
   "metadata":{
    "datalore":{
     "node_id":"lW1AsoelaG650GlaclDWo2",
     "type":"CODE",
     "hide_input_from_viewers":false,
     "hide_output_from_viewers":false,
     "report_properties":{
      "y":680
     }
    }
   }
  },
  {
   "cell_type":"code",
   "source":[
    "# Function to get mid range pokemon\n",
    "def get_mid(df):\n",
    "    mid = df['Total'].median()\n",
    "    mid_pokemon = df[df['Total'] == mid]\n",
    "    name = df['Name'][df['Total'] == mid]\n",
    "    name = name.tolist()\n",
    "    name = name[0]\n",
    "    stats = get_stats(mid_pokemon)\n",
    "    return stats, name"
   ],
   "execution_count":79,
   "outputs":[
    
   ],
   "metadata":{
    "datalore":{
     "node_id":"ObkSwMQRFSQ4OEfHE9eL9Q",
     "type":"CODE",
     "hide_input_from_viewers":false,
     "hide_output_from_viewers":false,
     "report_properties":{
      "y":683
     }
    }
   }
  },
  {
   "cell_type":"code",
   "source":[
    "# How about midrange pokemon?\n",
    "# Get mid pokemon stats and names\n",
    "mid_fairy_stats, mid_fairy_name = get_mid(fairy)\n",
    "mid_dragon_stats, mid_dragon_name = get_mid(dragon)\n",
    "\n",
    "# Draw mid pokemon overlapping radar graphs.\n",
    "compare_stats(mid_fairy_stats, mid_dragon_stats, mid_fairy_name, mid_dragon_name)\n",
    "\n",
    "# Noivern is another multitalented dragon pokemon while Togetic attempts to be a damage sponge without the HP\n",
    "    # to match."
   ],
   "execution_count":80,
   "outputs":[
    {
     "data":{
      "application\/vnd.plotly.v1+json":{
       "data":[
        {
         "fill":"toself",
         "name":"Togetic",
         "r":[
          55,
          40,
          85,
          80,
          105,
          40
         ],
         "theta":[
          "HP",
          "Attack",
          "Defense",
          "Sp. Atk",
          "Sp. Def",
          "Speed"
         ],
         "type":"scatterpolar"
        },
        {
         "fill":"toself",
         "name":"Noivern",
         "r":[
          85,
          70,
          80,
          97,
          80,
          123
         ],
         "theta":[
          "HP",
          "Attack",
          "Defense",
          "Sp. Atk",
          "Sp. Def",
          "Speed"
         ],
         "type":"scatterpolar"
        }
       ],
       "layout":{
        "template":{
         "data":{
          "barpolar":[
           {
            "marker":{
             "line":{
              "color":"rgb(234,234,242)",
              "width":0.5
             },
             "pattern":{
              "fillmode":"overlay",
              "size":10,
              "solidity":0.2
             }
            },
            "type":"barpolar"
           }
          ],
          "bar":[
           {
            "error_x":{
             "color":"rgb(36,36,36)"
            },
            "error_y":{
             "color":"rgb(36,36,36)"
            },
            "marker":{
             "line":{
              "color":"rgb(234,234,242)",
              "width":0.5
             },
             "pattern":{
              "fillmode":"overlay",
              "size":10,
              "solidity":0.2
             }
            },
            "type":"bar"
           }
          ],
          "carpet":[
           {
            "aaxis":{
             "endlinecolor":"rgb(36,36,36)",
             "gridcolor":"white",
             "linecolor":"white",
             "minorgridcolor":"white",
             "startlinecolor":"rgb(36,36,36)"
            },
            "baxis":{
             "endlinecolor":"rgb(36,36,36)",
             "gridcolor":"white",
             "linecolor":"white",
             "minorgridcolor":"white",
             "startlinecolor":"rgb(36,36,36)"
            },
            "type":"carpet"
           }
          ],
          "choropleth":[
           {
            "colorbar":{
             "outlinewidth":0,
             "tickcolor":"rgb(36,36,36)",
             "ticklen":8,
             "ticks":"outside",
             "tickwidth":2
            },
            "type":"choropleth"
           }
          ],
          "contourcarpet":[
           {
            "colorbar":{
             "outlinewidth":0,
             "tickcolor":"rgb(36,36,36)",
             "ticklen":8,
             "ticks":"outside",
             "tickwidth":2
            },
            "type":"contourcarpet"
           }
          ],
          "contour":[
           {
            "colorbar":{
             "outlinewidth":0,
             "tickcolor":"rgb(36,36,36)",
             "ticklen":8,
             "ticks":"outside",
             "tickwidth":2
            },
            "colorscale":[
             [
              0,
              "rgb(2,4,25)"
             ],
             [
              0.06274509803921569,
              "rgb(24,15,41)"
             ],
             [
              0.12549019607843137,
              "rgb(47,23,57)"
             ],
             [
              0.18823529411764706,
              "rgb(71,28,72)"
             ],
             [
              0.25098039215686274,
              "rgb(97,30,82)"
             ],
             [
              0.3137254901960784,
              "rgb(123,30,89)"
             ],
             [
              0.3764705882352941,
              "rgb(150,27,91)"
             ],
             [
              0.4392156862745098,
              "rgb(177,22,88)"
             ],
             [
              0.5019607843137255,
              "rgb(203,26,79)"
             ],
             [
              0.5647058823529412,
              "rgb(223,47,67)"
             ],
             [
              0.6274509803921569,
              "rgb(236,76,61)"
             ],
             [
              0.6901960784313725,
              "rgb(242,107,73)"
             ],
             [
              0.7529411764705882,
              "rgb(244,135,95)"
             ],
             [
              0.8156862745098039,
              "rgb(245,162,122)"
             ],
             [
              0.8784313725490196,
              "rgb(246,188,153)"
             ],
             [
              0.9411764705882353,
              "rgb(247,212,187)"
             ],
             [
              1,
              "rgb(250,234,220)"
             ]
            ],
            "type":"contour"
           }
          ],
          "heatmapgl":[
           {
            "colorbar":{
             "outlinewidth":0,
             "tickcolor":"rgb(36,36,36)",
             "ticklen":8,
             "ticks":"outside",
             "tickwidth":2
            },
            "colorscale":[
             [
              0,
              "rgb(2,4,25)"
             ],
             [
              0.06274509803921569,
              "rgb(24,15,41)"
             ],
             [
              0.12549019607843137,
              "rgb(47,23,57)"
             ],
             [
              0.18823529411764706,
              "rgb(71,28,72)"
             ],
             [
              0.25098039215686274,
              "rgb(97,30,82)"
             ],
             [
              0.3137254901960784,
              "rgb(123,30,89)"
             ],
             [
              0.3764705882352941,
              "rgb(150,27,91)"
             ],
             [
              0.4392156862745098,
              "rgb(177,22,88)"
             ],
             [
              0.5019607843137255,
              "rgb(203,26,79)"
             ],
             [
              0.5647058823529412,
              "rgb(223,47,67)"
             ],
             [
              0.6274509803921569,
              "rgb(236,76,61)"
             ],
             [
              0.6901960784313725,
              "rgb(242,107,73)"
             ],
             [
              0.7529411764705882,
              "rgb(244,135,95)"
             ],
             [
              0.8156862745098039,
              "rgb(245,162,122)"
             ],
             [
              0.8784313725490196,
              "rgb(246,188,153)"
             ],
             [
              0.9411764705882353,
              "rgb(247,212,187)"
             ],
             [
              1,
              "rgb(250,234,220)"
             ]
            ],
            "type":"heatmapgl"
           }
          ],
          "heatmap":[
           {
            "colorbar":{
             "outlinewidth":0,
             "tickcolor":"rgb(36,36,36)",
             "ticklen":8,
             "ticks":"outside",
             "tickwidth":2
            },
            "colorscale":[
             [
              0,
              "rgb(2,4,25)"
             ],
             [
              0.06274509803921569,
              "rgb(24,15,41)"
             ],
             [
              0.12549019607843137,
              "rgb(47,23,57)"
             ],
             [
              0.18823529411764706,
              "rgb(71,28,72)"
             ],
             [
              0.25098039215686274,
              "rgb(97,30,82)"
             ],
             [
              0.3137254901960784,
              "rgb(123,30,89)"
             ],
             [
              0.3764705882352941,
              "rgb(150,27,91)"
             ],
             [
              0.4392156862745098,
              "rgb(177,22,88)"
             ],
             [
              0.5019607843137255,
              "rgb(203,26,79)"
             ],
             [
              0.5647058823529412,
              "rgb(223,47,67)"
             ],
             [
              0.6274509803921569,
              "rgb(236,76,61)"
             ],
             [
              0.6901960784313725,
              "rgb(242,107,73)"
             ],
             [
              0.7529411764705882,
              "rgb(244,135,95)"
             ],
             [
              0.8156862745098039,
              "rgb(245,162,122)"
             ],
             [
              0.8784313725490196,
              "rgb(246,188,153)"
             ],
             [
              0.9411764705882353,
              "rgb(247,212,187)"
             ],
             [
              1,
              "rgb(250,234,220)"
             ]
            ],
            "type":"heatmap"
           }
          ],
          "histogram2dcontour":[
           {
            "colorbar":{
             "outlinewidth":0,
             "tickcolor":"rgb(36,36,36)",
             "ticklen":8,
             "ticks":"outside",
             "tickwidth":2
            },
            "colorscale":[
             [
              0,
              "rgb(2,4,25)"
             ],
             [
              0.06274509803921569,
              "rgb(24,15,41)"
             ],
             [
              0.12549019607843137,
              "rgb(47,23,57)"
             ],
             [
              0.18823529411764706,
              "rgb(71,28,72)"
             ],
             [
              0.25098039215686274,
              "rgb(97,30,82)"
             ],
             [
              0.3137254901960784,
              "rgb(123,30,89)"
             ],
             [
              0.3764705882352941,
              "rgb(150,27,91)"
             ],
             [
              0.4392156862745098,
              "rgb(177,22,88)"
             ],
             [
              0.5019607843137255,
              "rgb(203,26,79)"
             ],
             [
              0.5647058823529412,
              "rgb(223,47,67)"
             ],
             [
              0.6274509803921569,
              "rgb(236,76,61)"
             ],
             [
              0.6901960784313725,
              "rgb(242,107,73)"
             ],
             [
              0.7529411764705882,
              "rgb(244,135,95)"
             ],
             [
              0.8156862745098039,
              "rgb(245,162,122)"
             ],
             [
              0.8784313725490196,
              "rgb(246,188,153)"
             ],
             [
              0.9411764705882353,
              "rgb(247,212,187)"
             ],
             [
              1,
              "rgb(250,234,220)"
             ]
            ],
            "type":"histogram2dcontour"
           }
          ],
          "histogram2d":[
           {
            "colorbar":{
             "outlinewidth":0,
             "tickcolor":"rgb(36,36,36)",
             "ticklen":8,
             "ticks":"outside",
             "tickwidth":2
            },
            "colorscale":[
             [
              0,
              "rgb(2,4,25)"
             ],
             [
              0.06274509803921569,
              "rgb(24,15,41)"
             ],
             [
              0.12549019607843137,
              "rgb(47,23,57)"
             ],
             [
              0.18823529411764706,
              "rgb(71,28,72)"
             ],
             [
              0.25098039215686274,
              "rgb(97,30,82)"
             ],
             [
              0.3137254901960784,
              "rgb(123,30,89)"
             ],
             [
              0.3764705882352941,
              "rgb(150,27,91)"
             ],
             [
              0.4392156862745098,
              "rgb(177,22,88)"
             ],
             [
              0.5019607843137255,
              "rgb(203,26,79)"
             ],
             [
              0.5647058823529412,
              "rgb(223,47,67)"
             ],
             [
              0.6274509803921569,
              "rgb(236,76,61)"
             ],
             [
              0.6901960784313725,
              "rgb(242,107,73)"
             ],
             [
              0.7529411764705882,
              "rgb(244,135,95)"
             ],
             [
              0.8156862745098039,
              "rgb(245,162,122)"
             ],
             [
              0.8784313725490196,
              "rgb(246,188,153)"
             ],
             [
              0.9411764705882353,
              "rgb(247,212,187)"
             ],
             [
              1,
              "rgb(250,234,220)"
             ]
            ],
            "type":"histogram2d"
           }
          ],
          "histogram":[
           {
            "marker":{
             "pattern":{
              "fillmode":"overlay",
              "size":10,
              "solidity":0.2
             }
            },
            "type":"histogram"
           }
          ],
          "mesh3d":[
           {
            "colorbar":{
             "outlinewidth":0,
             "tickcolor":"rgb(36,36,36)",
             "ticklen":8,
             "ticks":"outside",
             "tickwidth":2
            },
            "type":"mesh3d"
           }
          ],
          "parcoords":[
           {
            "line":{
             "colorbar":{
              "outlinewidth":0,
              "tickcolor":"rgb(36,36,36)",
              "ticklen":8,
              "ticks":"outside",
              "tickwidth":2
             }
            },
            "type":"parcoords"
           }
          ],
          "pie":[
           {
            "automargin":true,
            "type":"pie"
           }
          ],
          "scatter3d":[
           {
            "line":{
             "colorbar":{
              "outlinewidth":0,
              "tickcolor":"rgb(36,36,36)",
              "ticklen":8,
              "ticks":"outside",
              "tickwidth":2
             }
            },
            "marker":{
             "colorbar":{
              "outlinewidth":0,
              "tickcolor":"rgb(36,36,36)",
              "ticklen":8,
              "ticks":"outside",
              "tickwidth":2
             }
            },
            "type":"scatter3d"
           }
          ],
          "scattercarpet":[
           {
            "marker":{
             "colorbar":{
              "outlinewidth":0,
              "tickcolor":"rgb(36,36,36)",
              "ticklen":8,
              "ticks":"outside",
              "tickwidth":2
             }
            },
            "type":"scattercarpet"
           }
          ],
          "scattergeo":[
           {
            "marker":{
             "colorbar":{
              "outlinewidth":0,
              "tickcolor":"rgb(36,36,36)",
              "ticklen":8,
              "ticks":"outside",
              "tickwidth":2
             }
            },
            "type":"scattergeo"
           }
          ],
          "scattergl":[
           {
            "marker":{
             "colorbar":{
              "outlinewidth":0,
              "tickcolor":"rgb(36,36,36)",
              "ticklen":8,
              "ticks":"outside",
              "tickwidth":2
             }
            },
            "type":"scattergl"
           }
          ],
          "scattermapbox":[
           {
            "marker":{
             "colorbar":{
              "outlinewidth":0,
              "tickcolor":"rgb(36,36,36)",
              "ticklen":8,
              "ticks":"outside",
              "tickwidth":2
             }
            },
            "type":"scattermapbox"
           }
          ],
          "scatterpolargl":[
           {
            "marker":{
             "colorbar":{
              "outlinewidth":0,
              "tickcolor":"rgb(36,36,36)",
              "ticklen":8,
              "ticks":"outside",
              "tickwidth":2
             }
            },
            "type":"scatterpolargl"
           }
          ],
          "scatterpolar":[
           {
            "marker":{
             "colorbar":{
              "outlinewidth":0,
              "tickcolor":"rgb(36,36,36)",
              "ticklen":8,
              "ticks":"outside",
              "tickwidth":2
             }
            },
            "type":"scatterpolar"
           }
          ],
          "scatter":[
           {
            "marker":{
             "colorbar":{
              "outlinewidth":0,
              "tickcolor":"rgb(36,36,36)",
              "ticklen":8,
              "ticks":"outside",
              "tickwidth":2
             }
            },
            "type":"scatter"
           }
          ],
          "scatterternary":[
           {
            "marker":{
             "colorbar":{
              "outlinewidth":0,
              "tickcolor":"rgb(36,36,36)",
              "ticklen":8,
              "ticks":"outside",
              "tickwidth":2
             }
            },
            "type":"scatterternary"
           }
          ],
          "surface":[
           {
            "colorbar":{
             "outlinewidth":0,
             "tickcolor":"rgb(36,36,36)",
             "ticklen":8,
             "ticks":"outside",
             "tickwidth":2
            },
            "colorscale":[
             [
              0,
              "rgb(2,4,25)"
             ],
             [
              0.06274509803921569,
              "rgb(24,15,41)"
             ],
             [
              0.12549019607843137,
              "rgb(47,23,57)"
             ],
             [
              0.18823529411764706,
              "rgb(71,28,72)"
             ],
             [
              0.25098039215686274,
              "rgb(97,30,82)"
             ],
             [
              0.3137254901960784,
              "rgb(123,30,89)"
             ],
             [
              0.3764705882352941,
              "rgb(150,27,91)"
             ],
             [
              0.4392156862745098,
              "rgb(177,22,88)"
             ],
             [
              0.5019607843137255,
              "rgb(203,26,79)"
             ],
             [
              0.5647058823529412,
              "rgb(223,47,67)"
             ],
             [
              0.6274509803921569,
              "rgb(236,76,61)"
             ],
             [
              0.6901960784313725,
              "rgb(242,107,73)"
             ],
             [
              0.7529411764705882,
              "rgb(244,135,95)"
             ],
             [
              0.8156862745098039,
              "rgb(245,162,122)"
             ],
             [
              0.8784313725490196,
              "rgb(246,188,153)"
             ],
             [
              0.9411764705882353,
              "rgb(247,212,187)"
             ],
             [
              1,
              "rgb(250,234,220)"
             ]
            ],
            "type":"surface"
           }
          ],
          "table":[
           {
            "cells":{
             "fill":{
              "color":"rgb(231,231,240)"
             },
             "line":{
              "color":"white"
             }
            },
            "header":{
             "fill":{
              "color":"rgb(183,183,191)"
             },
             "line":{
              "color":"white"
             }
            },
            "type":"table"
           }
          ]
         },
         "layout":{
          "annotationdefaults":{
           "arrowcolor":"rgb(67,103,167)"
          },
          "autotypenumbers":"strict",
          "coloraxis":{
           "colorbar":{
            "outlinewidth":0,
            "tickcolor":"rgb(36,36,36)",
            "ticklen":8,
            "ticks":"outside",
            "tickwidth":2
           }
          },
          "colorscale":{
           "sequential":[
            [
             0,
             "rgb(2,4,25)"
            ],
            [
             0.06274509803921569,
             "rgb(24,15,41)"
            ],
            [
             0.12549019607843137,
             "rgb(47,23,57)"
            ],
            [
             0.18823529411764706,
             "rgb(71,28,72)"
            ],
            [
             0.25098039215686274,
             "rgb(97,30,82)"
            ],
            [
             0.3137254901960784,
             "rgb(123,30,89)"
            ],
            [
             0.3764705882352941,
             "rgb(150,27,91)"
            ],
            [
             0.4392156862745098,
             "rgb(177,22,88)"
            ],
            [
             0.5019607843137255,
             "rgb(203,26,79)"
            ],
            [
             0.5647058823529412,
             "rgb(223,47,67)"
            ],
            [
             0.6274509803921569,
             "rgb(236,76,61)"
            ],
            [
             0.6901960784313725,
             "rgb(242,107,73)"
            ],
            [
             0.7529411764705882,
             "rgb(244,135,95)"
            ],
            [
             0.8156862745098039,
             "rgb(245,162,122)"
            ],
            [
             0.8784313725490196,
             "rgb(246,188,153)"
            ],
            [
             0.9411764705882353,
             "rgb(247,212,187)"
            ],
            [
             1,
             "rgb(250,234,220)"
            ]
           ],
           "sequentialminus":[
            [
             0,
             "rgb(2,4,25)"
            ],
            [
             0.06274509803921569,
             "rgb(24,15,41)"
            ],
            [
             0.12549019607843137,
             "rgb(47,23,57)"
            ],
            [
             0.18823529411764706,
             "rgb(71,28,72)"
            ],
            [
             0.25098039215686274,
             "rgb(97,30,82)"
            ],
            [
             0.3137254901960784,
             "rgb(123,30,89)"
            ],
            [
             0.3764705882352941,
             "rgb(150,27,91)"
            ],
            [
             0.4392156862745098,
             "rgb(177,22,88)"
            ],
            [
             0.5019607843137255,
             "rgb(203,26,79)"
            ],
            [
             0.5647058823529412,
             "rgb(223,47,67)"
            ],
            [
             0.6274509803921569,
             "rgb(236,76,61)"
            ],
            [
             0.6901960784313725,
             "rgb(242,107,73)"
            ],
            [
             0.7529411764705882,
             "rgb(244,135,95)"
            ],
            [
             0.8156862745098039,
             "rgb(245,162,122)"
            ],
            [
             0.8784313725490196,
             "rgb(246,188,153)"
            ],
            [
             0.9411764705882353,
             "rgb(247,212,187)"
            ],
            [
             1,
             "rgb(250,234,220)"
            ]
           ]
          },
          "colorway":[
           "rgb(76,114,176)",
           "rgb(221,132,82)",
           "rgb(85,168,104)",
           "rgb(196,78,82)",
           "rgb(129,114,179)",
           "rgb(147,120,96)",
           "rgb(218,139,195)",
           "rgb(140,140,140)",
           "rgb(204,185,116)",
           "rgb(100,181,205)"
          ],
          "font":{
           "color":"rgb(36,36,36)"
          },
          "geo":{
           "bgcolor":"white",
           "lakecolor":"white",
           "landcolor":"rgb(234,234,242)",
           "showlakes":true,
           "showland":true,
           "subunitcolor":"white"
          },
          "hoverlabel":{
           "align":"left"
          },
          "hovermode":"closest",
          "paper_bgcolor":"white",
          "plot_bgcolor":"rgb(234,234,242)",
          "polar":{
           "angularaxis":{
            "gridcolor":"white",
            "linecolor":"white",
            "showgrid":true,
            "ticks":""
           },
           "bgcolor":"rgb(234,234,242)",
           "radialaxis":{
            "gridcolor":"white",
            "linecolor":"white",
            "showgrid":true,
            "ticks":""
           }
          },
          "scene":{
           "xaxis":{
            "backgroundcolor":"rgb(234,234,242)",
            "gridcolor":"white",
            "gridwidth":2,
            "linecolor":"white",
            "showbackground":true,
            "showgrid":true,
            "ticks":"",
            "zerolinecolor":"white"
           },
           "yaxis":{
            "backgroundcolor":"rgb(234,234,242)",
            "gridcolor":"white",
            "gridwidth":2,
            "linecolor":"white",
            "showbackground":true,
            "showgrid":true,
            "ticks":"",
            "zerolinecolor":"white"
           },
           "zaxis":{
            "backgroundcolor":"rgb(234,234,242)",
            "gridcolor":"white",
            "gridwidth":2,
            "linecolor":"white",
            "showbackground":true,
            "showgrid":true,
            "ticks":"",
            "zerolinecolor":"white"
           }
          },
          "shapedefaults":{
           "fillcolor":"rgb(67,103,167)",
           "line":{
            "width":0
           },
           "opacity":0.5
          },
          "ternary":{
           "aaxis":{
            "gridcolor":"white",
            "linecolor":"white",
            "showgrid":true,
            "ticks":""
           },
           "baxis":{
            "gridcolor":"white",
            "linecolor":"white",
            "showgrid":true,
            "ticks":""
           },
           "bgcolor":"rgb(234,234,242)",
           "caxis":{
            "gridcolor":"white",
            "linecolor":"white",
            "showgrid":true,
            "ticks":""
           }
          },
          "xaxis":{
           "automargin":true,
           "gridcolor":"white",
           "linecolor":"white",
           "showgrid":true,
           "ticks":"",
           "title":{
            "standoff":15
           },
           "zerolinecolor":"white"
          },
          "yaxis":{
           "automargin":true,
           "gridcolor":"white",
           "linecolor":"white",
           "showgrid":true,
           "ticks":"",
           "title":{
            "standoff":15
           },
           "zerolinecolor":"white"
          }
         }
        },
        "polar":{
         "radialaxis":{
          "visible":true
         }
        },
        "showlegend":true,
        "title":{
         "text":"Togetic and Noivern Stats"
        },
        "width":800,
        "height":600
       },
       "config":{
        "plotlyServerURL":"https:\/\/plot.ly"
       }
      }
     },
     "metadata":{
      
     },
     "output_type":"display_data"
    }
   ],
   "metadata":{
    "datalore":{
     "node_id":"WY5Ux9M9wDUCPTtQBC0kQL",
     "type":"CODE",
     "hide_input_from_viewers":false,
     "hide_output_from_viewers":false,
     "report_properties":{
      "y":686
     }
    }
   }
  },
  {
   "cell_type":"code",
   "source":[
    "binary_dragon_fairy"
   ],
   "execution_count":81,
   "outputs":[
    {
     "data":{
      "text\/html":[
       "<div>\n",
       "<style scoped>\n",
       "    .dataframe tbody tr th:only-of-type {\n",
       "        vertical-align: middle;\n",
       "    }\n",
       "\n",
       "    .dataframe tbody tr th {\n",
       "        vertical-align: top;\n",
       "    }\n",
       "\n",
       "    .dataframe thead th {\n",
       "        text-align: right;\n",
       "    }\n",
       "<\/style>\n",
       "<table border=\"1\" class=\"dataframe\">\n",
       "  <thead>\n",
       "    <tr style=\"text-align: right;\">\n",
       "      <th><\/th>\n",
       "      <th>Name<\/th>\n",
       "      <th>Type 1<\/th>\n",
       "      <th>Type 2<\/th>\n",
       "      <th>Total<\/th>\n",
       "      <th>HP<\/th>\n",
       "      <th>Attack<\/th>\n",
       "      <th>Defense<\/th>\n",
       "      <th>Sp. Atk<\/th>\n",
       "      <th>Sp. Def<\/th>\n",
       "      <th>Speed<\/th>\n",
       "      <th>Dragon_or_fairy<\/th>\n",
       "    <\/tr>\n",
       "  <\/thead>\n",
       "  <tbody>\n",
       "    <tr>\n",
       "      <th>40<\/th>\n",
       "      <td>Clefairy<\/td>\n",
       "      <td>Fairy<\/td>\n",
       "      <td>None<\/td>\n",
       "      <td>323<\/td>\n",
       "      <td>70<\/td>\n",
       "      <td>45<\/td>\n",
       "      <td>48<\/td>\n",
       "      <td>60<\/td>\n",
       "      <td>65<\/td>\n",
       "      <td>35<\/td>\n",
       "      <td>Fairy<\/td>\n",
       "    <\/tr>\n",
       "    <tr>\n",
       "      <th>41<\/th>\n",
       "      <td>Clefable<\/td>\n",
       "      <td>Fairy<\/td>\n",
       "      <td>None<\/td>\n",
       "      <td>483<\/td>\n",
       "      <td>95<\/td>\n",
       "      <td>70<\/td>\n",
       "      <td>73<\/td>\n",
       "      <td>95<\/td>\n",
       "      <td>90<\/td>\n",
       "      <td>60<\/td>\n",
       "      <td>Fairy<\/td>\n",
       "    <\/tr>\n",
       "    <tr>\n",
       "      <th>44<\/th>\n",
       "      <td>Jigglypuff<\/td>\n",
       "      <td>Normal<\/td>\n",
       "      <td>Fairy<\/td>\n",
       "      <td>270<\/td>\n",
       "      <td>115<\/td>\n",
       "      <td>45<\/td>\n",
       "      <td>20<\/td>\n",
       "      <td>45<\/td>\n",
       "      <td>25<\/td>\n",
       "      <td>20<\/td>\n",
       "      <td>Fairy<\/td>\n",
       "    <\/tr>\n",
       "    <tr>\n",
       "      <th>45<\/th>\n",
       "      <td>Wigglytuff<\/td>\n",
       "      <td>Normal<\/td>\n",
       "      <td>Fairy<\/td>\n",
       "      <td>435<\/td>\n",
       "      <td>140<\/td>\n",
       "      <td>70<\/td>\n",
       "      <td>45<\/td>\n",
       "      <td>85<\/td>\n",
       "      <td>50<\/td>\n",
       "      <td>45<\/td>\n",
       "      <td>Fairy<\/td>\n",
       "    <\/tr>\n",
       "    <tr>\n",
       "      <th>131<\/th>\n",
       "      <td>Mr Mime<\/td>\n",
       "      <td>Psychic<\/td>\n",
       "      <td>Fairy<\/td>\n",
       "      <td>460<\/td>\n",
       "      <td>40<\/td>\n",
       "      <td>45<\/td>\n",
       "      <td>65<\/td>\n",
       "      <td>100<\/td>\n",
       "      <td>120<\/td>\n",
       "      <td>90<\/td>\n",
       "      <td>Fairy<\/td>\n",
       "    <\/tr>\n",
       "    <tr>\n",
       "      <th>...<\/th>\n",
       "      <td>...<\/td>\n",
       "      <td>...<\/td>\n",
       "      <td>...<\/td>\n",
       "      <td>...<\/td>\n",
       "      <td>...<\/td>\n",
       "      <td>...<\/td>\n",
       "      <td>...<\/td>\n",
       "      <td>...<\/td>\n",
       "      <td>...<\/td>\n",
       "      <td>...<\/td>\n",
       "      <td>...<\/td>\n",
       "    <\/tr>\n",
       "    <tr>\n",
       "      <th>790<\/th>\n",
       "      <td>Noibat<\/td>\n",
       "      <td>Flying<\/td>\n",
       "      <td>Dragon<\/td>\n",
       "      <td>245<\/td>\n",
       "      <td>40<\/td>\n",
       "      <td>30<\/td>\n",
       "      <td>35<\/td>\n",
       "      <td>45<\/td>\n",
       "      <td>40<\/td>\n",
       "      <td>55<\/td>\n",
       "      <td>Dragon<\/td>\n",
       "    <\/tr>\n",
       "    <tr>\n",
       "      <th>791<\/th>\n",
       "      <td>Noivern<\/td>\n",
       "      <td>Flying<\/td>\n",
       "      <td>Dragon<\/td>\n",
       "      <td>535<\/td>\n",
       "      <td>85<\/td>\n",
       "      <td>70<\/td>\n",
       "      <td>80<\/td>\n",
       "      <td>97<\/td>\n",
       "      <td>80<\/td>\n",
       "      <td>123<\/td>\n",
       "      <td>Dragon<\/td>\n",
       "    <\/tr>\n",
       "    <tr>\n",
       "      <th>792<\/th>\n",
       "      <td>Xerneas<\/td>\n",
       "      <td>Fairy<\/td>\n",
       "      <td>None<\/td>\n",
       "      <td>680<\/td>\n",
       "      <td>126<\/td>\n",
       "      <td>131<\/td>\n",
       "      <td>95<\/td>\n",
       "      <td>131<\/td>\n",
       "      <td>98<\/td>\n",
       "      <td>99<\/td>\n",
       "      <td>Fairy<\/td>\n",
       "    <\/tr>\n",
       "    <tr>\n",
       "      <th>794<\/th>\n",
       "      <td>Zygarde Form<\/td>\n",
       "      <td>Dragon<\/td>\n",
       "      <td>Ground<\/td>\n",
       "      <td>600<\/td>\n",
       "      <td>108<\/td>\n",
       "      <td>100<\/td>\n",
       "      <td>121<\/td>\n",
       "      <td>81<\/td>\n",
       "      <td>95<\/td>\n",
       "      <td>95<\/td>\n",
       "      <td>Dragon<\/td>\n",
       "    <\/tr>\n",
       "    <tr>\n",
       "      <th>795<\/th>\n",
       "      <td>Diancie<\/td>\n",
       "      <td>Rock<\/td>\n",
       "      <td>Fairy<\/td>\n",
       "      <td>600<\/td>\n",
       "      <td>50<\/td>\n",
       "      <td>100<\/td>\n",
       "      <td>150<\/td>\n",
       "      <td>100<\/td>\n",
       "      <td>150<\/td>\n",
       "      <td>50<\/td>\n",
       "      <td>Fairy<\/td>\n",
       "    <\/tr>\n",
       "  <\/tbody>\n",
       "<\/table>\n",
       "<p>76 rows × 11 columns<\/p>\n",
       "<\/div>"
      ]
     },
     "metadata":{
      
     },
     "output_type":"display_data"
    }
   ],
   "metadata":{
    "datalore":{
     "node_id":"zVZB5haEaF2pAgctcQcGJ3",
     "type":"CODE",
     "hide_input_from_viewers":false,
     "hide_output_from_viewers":false,
     "report_properties":{
      "y":689
     }
    }
   }
  },
  {
   "cell_type":"code",
   "source":[
    "# Comparing fairy type defense and special defense against dragon types using a bar chart.\n",
    "fig, axes = plt.subplots(1, 2, figsize=(15,5))\n",
    "\n",
    "sns.barplot(data=binary_dragon_fairy, x=\"Dragon_or_fairy\", y=\"Sp. Def\", ax=axes[0], capsize=0.5)\n",
    "sns.barplot(data=binary_dragon_fairy, x=\"Dragon_or_fairy\", y=\"Defense\", ax=axes[1], capsize=0.5)\n",
    "\n",
    "axes[0].set_xlabel('Pokemon Type')\n",
    "axes[1].set_xlabel('Pokemon Type')\n",
    "\n",
    "plt.suptitle('Fairy and Dragon Defense Comparison')\n",
    "plt.show()\n",
    "\n",
    "# Fairy types have a similar special defense rating to dragon types. This could prove helpful against special attacks\n",
    "    # that aren't dragon type attacks (due to their natural immunity)."
   ],
   "execution_count":82,
   "outputs":[
    {
     "data":{
      "image\/png":"[encoded data removed]"
     },
     "metadata":{
      "image\/png":{
       
      }
     },
     "output_type":"display_data"
    }
   ],
   "metadata":{
    "datalore":{
     "node_id":"kUZJc3ZRhNh9KKl1h0d4nl",
     "type":"CODE",
     "hide_input_from_viewers":false,
     "hide_output_from_viewers":false,
     "report_properties":{
      "y":692
     }
    }
   }
  },
  {
   "cell_type":"markdown",
   "source":[
    "# Conclusion\n",
    "The effectiveness of Fairy-type Pokémon in battles can depend on their Fairy-type moves, rather than their base type. When compared to Dragon-type Pokémon, Fairy-types tend to be weaker in all aspects, including special defense and attack. As a result, trainers should exercise caution when choosing a Fairy-type Pokémon to face a Dragon-type in battle. A better strategy may be to choose a Normal-type Pokémon with Fairy-type moves, as these are particularly effective against Dragon-type Pokémon. However, when a Fairy-type Pokémon is relying solely on its base stats, it is more likely to face a defeat against a Dragon-type."
   ],
   "attachments":{
    
   },
   "metadata":{
    "datalore":{
     "node_id":"ebrOOTQmEmk9AhaxNBsCTs",
     "type":"MD",
     "hide_input_from_viewers":false,
     "hide_output_from_viewers":false,
     "report_properties":{
      "y":698
     }
    }
   }
  }
 ],
 "metadata":{
  "kernelspec":{
   "display_name":"Python",
   "language":"python",
   "name":"python"
  },
  "datalore":{
   "version":1,
   "computation_mode":"JUPYTER",
   "package_manager":"pip",
   "base_environment":"default",
   "packages":[
    {
     "name":"squarify",
     "version":"0.4.3",
     "source":"PIP"
    }
   ]
  }
 },
 "nbformat":4,
 "nbformat_minor":4
}